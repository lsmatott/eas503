{
 "cells": [
  {
   "cell_type": "code",
   "execution_count": 1,
   "metadata": {},
   "outputs": [],
   "source": [
    "# Agenda:\n",
    "# 0. Thanksgiving break\n",
    "#   - Class on Tuesday ( 11/22 )\n",
    "#   - *** NO *** class on Thursday ( 11/24 )\n",
    "# 1. Finish discussion of NumPy\n",
    "# 2. Begin discussion of Pandas\n"
   ]
  },
  {
   "cell_type": "code",
   "execution_count": 2,
   "metadata": {},
   "outputs": [],
   "source": [
    "# Last time:\n",
    "# Vectors (1D arrays) and Matrices (2D arrays)\n",
    "# Conversion from lists\n",
    "# np.arange() vs. range()\n",
    "# linspace() --- handy for plotting\n",
    "# various useful/utility routines for creating arrays:\n",
    "#  np.zeros(), np.ones(), np.eye(), np.empty()\n",
    "# Using NumPy for random number generation\n",
    "# Indexing arrays --- slicing syntax\n",
    "# --- 2 options for 2D arrays\n",
    "# --- a[0][1] or a[0,1]\n",
    "# Using slicing to \"broadcast\" values/assignments\n",
    "# slicing \"in-place\" (default) vs. copy()\n"
   ]
  },
  {
   "cell_type": "code",
   "execution_count": 3,
   "metadata": {},
   "outputs": [
    {
     "name": "stdout",
     "output_type": "stream",
     "text": [
      "[0 1 2 3 4 5 6 7 8 9]\n",
      "[False False False  True  True  True  True  True  True  True]\n",
      "[ True  True  True  True  True  True  True  True False False]\n"
     ]
    }
   ],
   "source": [
    "# Conditional selection (i.e. filtering numpy arrays)\n",
    "import numpy as np\n",
    "v = np.arange(10)\n",
    "# select values greater than 2\n",
    "gt2 = v > 2 # applies the condition\n",
    "# less than 8\n",
    "lt8 = v < 8\n",
    "\n",
    "print(v)\n",
    "# gt2 and lt8 are vectors of boolean values\n",
    "# --- True if condition is met, False otherwise\n",
    "print(gt2)\n",
    "print(lt8)"
   ]
  },
  {
   "cell_type": "code",
   "execution_count": 4,
   "metadata": {},
   "outputs": [
    {
     "name": "stdout",
     "output_type": "stream",
     "text": [
      "[3 4 5 6 7 8 9]\n"
     ]
    }
   ],
   "source": [
    "print(v[gt2]) # filter the data"
   ]
  },
  {
   "cell_type": "code",
   "execution_count": 5,
   "metadata": {},
   "outputs": [
    {
     "name": "stdout",
     "output_type": "stream",
     "text": [
      "[0 1 2 3 4 5 6 7]\n"
     ]
    }
   ],
   "source": [
    "print(v[lt8])"
   ]
  },
  {
   "cell_type": "code",
   "execution_count": 6,
   "metadata": {},
   "outputs": [
    {
     "name": "stdout",
     "output_type": "stream",
     "text": [
      "[0 1 2 3 4 5 6 7]\n"
     ]
    }
   ],
   "source": [
    "# not necessary to story the condition as a variable\n",
    "print(v[v<8])"
   ]
  },
  {
   "cell_type": "code",
   "execution_count": 8,
   "metadata": {},
   "outputs": [
    {
     "name": "stdout",
     "output_type": "stream",
     "text": [
      "[3 4 5 6]\n"
     ]
    }
   ],
   "source": [
    "# chain together conditions\n",
    "print(v[(v > 2) & (v < 7)])"
   ]
  },
  {
   "cell_type": "code",
   "execution_count": 9,
   "metadata": {},
   "outputs": [
    {
     "name": "stdout",
     "output_type": "stream",
     "text": [
      "[0 1 8 9]\n"
     ]
    }
   ],
   "source": [
    "print(v[(v > 7) | (v < 2)])"
   ]
  },
  {
   "cell_type": "code",
   "execution_count": 10,
   "metadata": {},
   "outputs": [
    {
     "name": "stdout",
     "output_type": "stream",
     "text": [
      "[5]\n"
     ]
    }
   ],
   "source": [
    "print(v[v==5])"
   ]
  },
  {
   "cell_type": "code",
   "execution_count": 11,
   "metadata": {},
   "outputs": [
    {
     "name": "stdout",
     "output_type": "stream",
     "text": [
      "[0 1 2 3 4 6 7 8 9]\n"
     ]
    }
   ],
   "source": [
    "print(v[v!=5])"
   ]
  },
  {
   "cell_type": "code",
   "execution_count": 12,
   "metadata": {},
   "outputs": [
    {
     "name": "stdout",
     "output_type": "stream",
     "text": [
      "[ 0  3  6  9 12 15 18 21 24 27]\n"
     ]
    }
   ],
   "source": [
    "# Math operations\n",
    "# The usual\n",
    "# +, -, *, /\n",
    "v = v + (2 * v)\n",
    "print(v)"
   ]
  },
  {
   "cell_type": "code",
   "execution_count": 13,
   "metadata": {},
   "outputs": [
    {
     "name": "stdout",
     "output_type": "stream",
     "text": [
      "[nan  1.  1.  1.  1.  1.  1.  1.  1.  1.]\n"
     ]
    },
    {
     "name": "stderr",
     "output_type": "stream",
     "text": [
      "C:\\ProgramData\\Anaconda3\\lib\\site-packages\\ipykernel_launcher.py:1: RuntimeWarning: invalid value encountered in true_divide\n",
      "  \"\"\"Entry point for launching an IPython kernel.\n"
     ]
    }
   ],
   "source": [
    "print(v / v)"
   ]
  },
  {
   "cell_type": "code",
   "execution_count": 14,
   "metadata": {},
   "outputs": [
    {
     "name": "stdout",
     "output_type": "stream",
     "text": [
      "[0.         0.99966678 0.99983336 0.9998889  0.99991667 0.99993334\n",
      " 0.99994445 0.99995238 0.99995834 0.99996296]\n"
     ]
    }
   ],
   "source": [
    "# One way to guard against divide by zero errors:\n",
    "# add a small epsilon to the denominator\n",
    "print(v / ( v + 0.001))"
   ]
  },
  {
   "cell_type": "code",
   "execution_count": 15,
   "metadata": {},
   "outputs": [
    {
     "name": "stdout",
     "output_type": "stream",
     "text": [
      "[  0  30  60  90 120 150 180 210 240 270]\n"
     ]
    }
   ],
   "source": [
    "# Applies to scalars as well:\n",
    "print(v * 10)"
   ]
  },
  {
   "cell_type": "code",
   "execution_count": 16,
   "metadata": {},
   "outputs": [
    {
     "name": "stdout",
     "output_type": "stream",
     "text": [
      "[0.         1.73205081 2.44948974 3.         3.46410162 3.87298335\n",
      " 4.24264069 4.58257569 4.89897949 5.19615242]\n"
     ]
    }
   ],
   "source": [
    "print(np.sqrt(v))"
   ]
  },
  {
   "cell_type": "code",
   "execution_count": 17,
   "metadata": {},
   "outputs": [
    {
     "data": {
      "text/plain": [
       "2"
      ]
     },
     "execution_count": 17,
     "metadata": {},
     "output_type": "execute_result"
    }
   ],
   "source": [
    "# number of elements that are less than 5\n",
    "sum(v < 5)"
   ]
  },
  {
   "cell_type": "code",
   "execution_count": 18,
   "metadata": {},
   "outputs": [
    {
     "name": "stdout",
     "output_type": "stream",
     "text": [
      "[ 0  3  6  9 12 15 18 21 24 27]\n"
     ]
    }
   ],
   "source": [
    "print(v)"
   ]
  },
  {
   "cell_type": "code",
   "execution_count": 19,
   "metadata": {},
   "outputs": [
    {
     "data": {
      "text/plain": [
       "3"
      ]
     },
     "execution_count": 19,
     "metadata": {},
     "output_type": "execute_result"
    }
   ],
   "source": [
    "# the sume of the all elements that are less than 5\n",
    "sum(v[v < 5])"
   ]
  },
  {
   "cell_type": "code",
   "execution_count": 21,
   "metadata": {},
   "outputs": [],
   "source": [
    "import math # use pi\n",
    "radians = np.arange(1,11)*math.pi\n"
   ]
  },
  {
   "cell_type": "code",
   "execution_count": 22,
   "metadata": {},
   "outputs": [
    {
     "name": "stdout",
     "output_type": "stream",
     "text": [
      "[ 3.14159265  6.28318531  9.42477796 12.56637061 15.70796327 18.84955592\n",
      " 21.99114858 25.13274123 28.27433388 31.41592654]\n"
     ]
    }
   ],
   "source": [
    "print(radians)"
   ]
  },
  {
   "cell_type": "code",
   "execution_count": 23,
   "metadata": {},
   "outputs": [
    {
     "data": {
      "text/plain": [
       "array([ 1.22464680e-16, -2.44929360e-16,  3.67394040e-16, -4.89858720e-16,\n",
       "        6.12323400e-16, -7.34788079e-16,  8.57252759e-16, -9.79717439e-16,\n",
       "        1.10218212e-15, -1.22464680e-15])"
      ]
     },
     "execution_count": 23,
     "metadata": {},
     "output_type": "execute_result"
    }
   ],
   "source": [
    "np.sin(radians)"
   ]
  },
  {
   "cell_type": "code",
   "execution_count": 24,
   "metadata": {},
   "outputs": [],
   "source": [
    "# the above is kind of boring. Let's create a vector that steps \n",
    "# by pi/4\n",
    "radians = np.arange(0,math.pi+math.pi/4,math.pi/4)"
   ]
  },
  {
   "cell_type": "code",
   "execution_count": 25,
   "metadata": {},
   "outputs": [
    {
     "name": "stdout",
     "output_type": "stream",
     "text": [
      "[0.         0.78539816 1.57079633 2.35619449 3.14159265]\n"
     ]
    }
   ],
   "source": [
    "print(radians)"
   ]
  },
  {
   "cell_type": "code",
   "execution_count": 26,
   "metadata": {},
   "outputs": [
    {
     "name": "stdout",
     "output_type": "stream",
     "text": [
      "[0.00000000e+00 7.07106781e-01 1.00000000e+00 7.07106781e-01\n",
      " 1.22464680e-16]\n"
     ]
    }
   ],
   "source": [
    "print(np.sin(radians))"
   ]
  },
  {
   "cell_type": "code",
   "execution_count": 27,
   "metadata": {},
   "outputs": [
    {
     "name": "stdout",
     "output_type": "stream",
     "text": [
      "[ 1.00000000e+00  7.07106781e-01  6.12323400e-17 -7.07106781e-01\n",
      " -1.00000000e+00]\n"
     ]
    }
   ],
   "source": [
    "print(np.cos(radians))"
   ]
  },
  {
   "cell_type": "code",
   "execution_count": 28,
   "metadata": {},
   "outputs": [
    {
     "name": "stdout",
     "output_type": "stream",
     "text": [
      "[[0.01195549 0.17932881 0.70042748 0.09120582 0.22948016]\n",
      " [0.84657379 0.77715829 0.29055088 0.6873759  0.12266489]\n",
      " [0.92589731 0.81787682 0.86306183 0.58530223 0.78910631]\n",
      " [0.32955425 0.58006332 0.4701234  0.79998527 0.87364068]\n",
      " [0.49373307 0.20438425 0.05661211 0.09968121 0.46486275]]\n"
     ]
    }
   ],
   "source": [
    "# Apply to matrices\n",
    "m = np.random.rand(5,5)\n",
    "print(m)\n"
   ]
  },
  {
   "cell_type": "code",
   "execution_count": 30,
   "metadata": {},
   "outputs": [
    {
     "data": {
      "text/plain": [
       "array([[ 11., 179., 700.,  91., 229.],\n",
       "       [846., 777., 290., 687., 122.],\n",
       "       [925., 817., 863., 585., 789.],\n",
       "       [329., 580., 470., 799., 873.],\n",
       "       [493., 204.,  56.,  99., 464.]])"
      ]
     },
     "execution_count": 30,
     "metadata": {},
     "output_type": "execute_result"
    }
   ],
   "source": [
    "np.floor(m*1000)"
   ]
  },
  {
   "cell_type": "code",
   "execution_count": 31,
   "metadata": {},
   "outputs": [
    {
     "data": {
      "text/plain": [
       "array([[ 12., 179., 700.,  91., 229.],\n",
       "       [847., 777., 291., 687., 123.],\n",
       "       [926., 818., 863., 585., 789.],\n",
       "       [330., 580., 470., 800., 874.],\n",
       "       [494., 204.,  57., 100., 465.]])"
      ]
     },
     "execution_count": 31,
     "metadata": {},
     "output_type": "execute_result"
    }
   ],
   "source": [
    "np.round(m*1000)"
   ]
  },
  {
   "cell_type": "code",
   "execution_count": 32,
   "metadata": {},
   "outputs": [
    {
     "data": {
      "text/plain": [
       "array([[ 12., 180., 701.,  92., 230.],\n",
       "       [847., 778., 291., 688., 123.],\n",
       "       [926., 818., 864., 586., 790.],\n",
       "       [330., 581., 471., 800., 874.],\n",
       "       [494., 205.,  57., 100., 465.]])"
      ]
     },
     "execution_count": 32,
     "metadata": {},
     "output_type": "execute_result"
    }
   ],
   "source": [
    "np.ceil(m*1000)"
   ]
  },
  {
   "cell_type": "code",
   "execution_count": 33,
   "metadata": {},
   "outputs": [
    {
     "data": {
      "text/plain": [
       "12.29060632967073"
      ]
     },
     "execution_count": 33,
     "metadata": {},
     "output_type": "execute_result"
    }
   ],
   "source": [
    "m.sum()"
   ]
  },
  {
   "cell_type": "code",
   "execution_count": 34,
   "metadata": {},
   "outputs": [
    {
     "data": {
      "text/plain": [
       "array([1.21239776, 2.72432375, 3.9812445 , 3.05336692, 1.3192734 ])"
      ]
     },
     "execution_count": 34,
     "metadata": {},
     "output_type": "execute_result"
    }
   ],
   "source": [
    "# to sum each row, use axis=1\n",
    "m.sum(axis=1)"
   ]
  },
  {
   "cell_type": "code",
   "execution_count": 35,
   "metadata": {},
   "outputs": [
    {
     "data": {
      "text/plain": [
       "array([2.60771392, 2.55881149, 2.3807757 , 2.26355042, 2.47975479])"
      ]
     },
     "execution_count": 35,
     "metadata": {},
     "output_type": "execute_result"
    }
   ],
   "source": [
    "# to sum each column, use axis=0\n",
    "m.sum(axis=0)"
   ]
  },
  {
   "cell_type": "code",
   "execution_count": 36,
   "metadata": {},
   "outputs": [
    {
     "data": {
      "text/plain": [
       "array([0.01195549, 0.12266489, 0.58530223, 0.32955425, 0.05661211])"
      ]
     },
     "execution_count": 36,
     "metadata": {},
     "output_type": "execute_result"
    }
   ],
   "source": [
    "# the axis concept applies to other math operations\n",
    "# min value in each row\n",
    "m.min(axis=1)"
   ]
  },
  {
   "cell_type": "code",
   "execution_count": 40,
   "metadata": {},
   "outputs": [
    {
     "name": "stdout",
     "output_type": "stream",
     "text": [
      "[[0.01195549 0.17932881 0.70042748 0.09120582 0.22948016]\n",
      " [0.84657379 0.77715829 0.29055088 0.6873759  0.12266489]\n",
      " [0.92589731 0.81787682 0.86306183 0.58530223 0.78910631]\n",
      " [0.32955425 0.58006332 0.4701234  0.79998527 0.87364068]\n",
      " [0.49373307 0.20438425 0.05661211 0.09968121 0.46486275]]\n"
     ]
    }
   ],
   "source": [
    "print(m)"
   ]
  },
  {
   "cell_type": "code",
   "execution_count": 38,
   "metadata": {},
   "outputs": [
    {
     "data": {
      "text/plain": [
       "array([0.01195549, 0.17932881, 0.05661211, 0.09120582, 0.12266489])"
      ]
     },
     "execution_count": 38,
     "metadata": {},
     "output_type": "execute_result"
    }
   ],
   "source": [
    "# min value in each column\n",
    "m.min(axis=0)"
   ]
  },
  {
   "cell_type": "code",
   "execution_count": 39,
   "metadata": {},
   "outputs": [
    {
     "data": {
      "text/plain": [
       "array([1.19554882e-02, 1.91284298e-01, 8.91711781e-01, 9.82917604e-01,\n",
       "       1.21239776e+00, 2.05897155e+00, 2.83612984e+00, 3.12668072e+00,\n",
       "       3.81405662e+00, 3.93672151e+00, 4.86261883e+00, 5.68049565e+00,\n",
       "       6.54355748e+00, 7.12885970e+00, 7.91796601e+00, 8.24752027e+00,\n",
       "       8.82758359e+00, 9.29770699e+00, 1.00976923e+01, 1.09713329e+01,\n",
       "       1.14650660e+01, 1.16694503e+01, 1.17260624e+01, 1.18257436e+01,\n",
       "       1.22906063e+01])"
      ]
     },
     "execution_count": 39,
     "metadata": {},
     "output_type": "execute_result"
    }
   ],
   "source": [
    "m.cumsum()"
   ]
  },
  {
   "cell_type": "code",
   "execution_count": 41,
   "metadata": {},
   "outputs": [
    {
     "data": {
      "text/plain": [
       "array([1.19554882e-02, 2.14396347e-03, 1.50169094e-03, 1.36962957e-04,\n",
       "       3.14302808e-05, 2.66080520e-05, 2.06786681e-05, 6.00820519e-06,\n",
       "       4.12989546e-06, 5.06593187e-07, 4.69053271e-07, 3.83627799e-07,\n",
       "       3.31094510e-07, 1.93790354e-07, 1.52921191e-07, 5.03958286e-08,\n",
       "       2.92327718e-08, 1.37430100e-08, 1.09942055e-08, 9.60498521e-09,\n",
       "       4.74229887e-09, 9.69251189e-10, 5.48713583e-11, 5.46964318e-12,\n",
       "       2.54263339e-12])"
      ]
     },
     "execution_count": 41,
     "metadata": {},
     "output_type": "execute_result"
    }
   ],
   "source": [
    "m.cumprod()"
   ]
  },
  {
   "cell_type": "code",
   "execution_count": 42,
   "metadata": {},
   "outputs": [],
   "source": [
    "# use np.unique() to filter out unique values\n",
    "u = np.array([1,2,3]*3).reshape(3,3)"
   ]
  },
  {
   "cell_type": "code",
   "execution_count": 43,
   "metadata": {},
   "outputs": [
    {
     "name": "stdout",
     "output_type": "stream",
     "text": [
      "[[1 2 3]\n",
      " [1 2 3]\n",
      " [1 2 3]]\n"
     ]
    }
   ],
   "source": [
    "print(u)"
   ]
  },
  {
   "cell_type": "code",
   "execution_count": 44,
   "metadata": {},
   "outputs": [
    {
     "data": {
      "text/plain": [
       "array([1, 2, 3])"
      ]
     },
     "execution_count": 44,
     "metadata": {},
     "output_type": "execute_result"
    }
   ],
   "source": [
    "np.unique(u)"
   ]
  },
  {
   "cell_type": "code",
   "execution_count": 45,
   "metadata": {},
   "outputs": [
    {
     "data": {
      "text/plain": [
       "array([[1, 2, 3],\n",
       "       [1, 2, 3],\n",
       "       [1, 2, 3]])"
      ]
     },
     "execution_count": 45,
     "metadata": {},
     "output_type": "execute_result"
    }
   ],
   "source": [
    "u.reshape(3,3)"
   ]
  },
  {
   "cell_type": "code",
   "execution_count": 46,
   "metadata": {},
   "outputs": [
    {
     "name": "stdout",
     "output_type": "stream",
     "text": [
      "         name  age  height  weight  smoker\n",
      "0    John Doe   44      72     192    True\n",
      "1   Sara Good   32      66     140   False\n",
      "2  Mary Jones   75      60     110   False\n"
     ]
    }
   ],
   "source": [
    "import pandas as pd\n",
    "\n",
    "patients = {\"name\"  :[\"John Doe\", \"Sara Good\", \"Mary Jones\"],\n",
    "            \"age\"   :[44, 32, 75],\n",
    "            \"height\":[72, 66, 60],\n",
    "            \"weight\":[192, 140, 110],\n",
    "            \"smoker\":[True, False, False]}\n",
    "            \n",
    "df = pd.DataFrame(data=patients)\n",
    "print(df)"
   ]
  },
  {
   "cell_type": "code",
   "execution_count": 47,
   "metadata": {},
   "outputs": [],
   "source": [
    "# filter operations are straightforward\n",
    "# lets grab all of the patients who smoke\n",
    "smokers = df[df['smoker'] == True]"
   ]
  },
  {
   "cell_type": "code",
   "execution_count": 48,
   "metadata": {},
   "outputs": [
    {
     "name": "stdout",
     "output_type": "stream",
     "text": [
      "       name  age  height  weight  smoker\n",
      "0  John Doe   44      72     192    True\n"
     ]
    }
   ],
   "source": [
    "print(smokers)"
   ]
  },
  {
   "cell_type": "code",
   "execution_count": 49,
   "metadata": {},
   "outputs": [],
   "source": [
    "under_40 = df[df[\"age\"] < 40]"
   ]
  },
  {
   "cell_type": "code",
   "execution_count": 50,
   "metadata": {},
   "outputs": [
    {
     "name": "stdout",
     "output_type": "stream",
     "text": [
      "        name  age  height  weight  smoker\n",
      "1  Sara Good   32      66     140   False\n"
     ]
    }
   ],
   "source": [
    "print(under_40)"
   ]
  },
  {
   "cell_type": "code",
   "execution_count": 52,
   "metadata": {},
   "outputs": [],
   "source": [
    "vulnerable = df[ ( df[\"smoker\"] == True ) & ( df[\"age\"] > 40 ) ]"
   ]
  },
  {
   "cell_type": "code",
   "execution_count": 53,
   "metadata": {},
   "outputs": [
    {
     "name": "stdout",
     "output_type": "stream",
     "text": [
      "       name  age  height  weight  smoker\n",
      "0  John Doe   44      72     192    True\n"
     ]
    }
   ],
   "source": [
    "print(vulnerable)"
   ]
  },
  {
   "cell_type": "code",
   "execution_count": 54,
   "metadata": {},
   "outputs": [
    {
     "name": "stdout",
     "output_type": "stream",
     "text": [
      "         name  age  height  weight  smoker\n",
      "0    John Doe   44      72     192    True\n",
      "2  Mary Jones   75      60     110   False\n"
     ]
    }
   ],
   "source": [
    "print(df[(df[\"smoker\"] == True) | (df[\"age\"] >= 65)])"
   ]
  },
  {
   "cell_type": "code",
   "execution_count": 55,
   "metadata": {},
   "outputs": [
    {
     "name": "stdout",
     "output_type": "stream",
     "text": [
      "         name  age  height  weight  smoker\n",
      "0    John Doe   44      72     192    True\n",
      "1   Sara Good   32      66     140   False\n",
      "2  Mary Jones   75      60     110   False\n"
     ]
    }
   ],
   "source": [
    "print(df)"
   ]
  },
  {
   "cell_type": "code",
   "execution_count": 56,
   "metadata": {},
   "outputs": [
    {
     "name": "stdout",
     "output_type": "stream",
     "text": [
      "         name  age\n",
      "0    John Doe   44\n",
      "1   Sara Good   32\n",
      "2  Mary Jones   75\n"
     ]
    }
   ],
   "source": [
    "# filtering columns using key (field name) lists\n",
    "print(df[[\"name\",\"age\"]])"
   ]
  },
  {
   "cell_type": "code",
   "execution_count": 57,
   "metadata": {},
   "outputs": [
    {
     "name": "stdout",
     "output_type": "stream",
     "text": [
      "         name  age  height     weight  smoker\n",
      "0    John Doe   44  1.8288  87.089664    True\n",
      "1   Sara Good   32  1.6764  63.502880   False\n",
      "2  Mary Jones   75  1.5240  49.895120   False\n"
     ]
    }
   ],
   "source": [
    "# adjust a column (e.g convert units)\n",
    "df[\"height\"] = df[\"height\"]*0.0254\n",
    "df[\"weight\"] = df[\"weight\"]*0.453592\n",
    "print(df)\n"
   ]
  },
  {
   "cell_type": "code",
   "execution_count": 58,
   "metadata": {},
   "outputs": [],
   "source": [
    "# add a column by referencing a new field that isn't already in the dataframe\n",
    "df[\"bmi\"] =  df[\"weight\"]/(df[\"height\"]*df[\"height\"])"
   ]
  },
  {
   "cell_type": "code",
   "execution_count": 59,
   "metadata": {},
   "outputs": [
    {
     "name": "stdout",
     "output_type": "stream",
     "text": [
      "         name  age  height     weight  smoker        bmi\n",
      "0    John Doe   44  1.8288  87.089664    True  26.039593\n",
      "1   Sara Good   32  1.6764  63.502880   False  22.596341\n",
      "2  Mary Jones   75  1.5240  49.895120   False  21.482664\n"
     ]
    }
   ],
   "source": [
    "print(df)"
   ]
  },
  {
   "cell_type": "code",
   "execution_count": 60,
   "metadata": {},
   "outputs": [],
   "source": [
    "# To edit individual cells, use \"loc\"\n",
    "df.loc[0,\"name\"] = \"Jon Doe\""
   ]
  },
  {
   "cell_type": "code",
   "execution_count": 61,
   "metadata": {},
   "outputs": [
    {
     "name": "stdout",
     "output_type": "stream",
     "text": [
      "         name  age  height     weight  smoker        bmi\n",
      "0     Jon Doe   44  1.8288  87.089664    True  26.039593\n",
      "1   Sara Good   32  1.6764  63.502880   False  22.596341\n",
      "2  Mary Jones   75  1.5240  49.895120   False  21.482664\n"
     ]
    }
   ],
   "source": [
    "print(df)"
   ]
  },
  {
   "cell_type": "code",
   "execution_count": 62,
   "metadata": {},
   "outputs": [],
   "source": [
    "df.loc[1,\"age\"] = 82"
   ]
  },
  {
   "cell_type": "code",
   "execution_count": 63,
   "metadata": {},
   "outputs": [
    {
     "name": "stdout",
     "output_type": "stream",
     "text": [
      "         name  age  height     weight  smoker        bmi\n",
      "0     Jon Doe   44  1.8288  87.089664    True  26.039593\n",
      "1   Sara Good   82  1.6764  63.502880   False  22.596341\n",
      "2  Mary Jones   75  1.5240  49.895120   False  21.482664\n"
     ]
    }
   ],
   "source": [
    "print(df)"
   ]
  },
  {
   "cell_type": "code",
   "execution_count": 64,
   "metadata": {},
   "outputs": [],
   "source": [
    "# use iloc[row,col] for purely numerical indexing\n",
    "df.iloc[2, 4] = True"
   ]
  },
  {
   "cell_type": "code",
   "execution_count": 65,
   "metadata": {},
   "outputs": [
    {
     "name": "stdout",
     "output_type": "stream",
     "text": [
      "         name  age  height     weight  smoker        bmi\n",
      "0     Jon Doe   44  1.8288  87.089664    True  26.039593\n",
      "1   Sara Good   82  1.6764  63.502880   False  22.596341\n",
      "2  Mary Jones   75  1.5240  49.895120    True  21.482664\n"
     ]
    }
   ],
   "source": [
    "print(df)"
   ]
  },
  {
   "cell_type": "code",
   "execution_count": 66,
   "metadata": {},
   "outputs": [
    {
     "name": "stdout",
     "output_type": "stream",
     "text": [
      "             age        bmi\n",
      "count   3.000000   3.000000\n",
      "mean   67.000000  23.372866\n",
      "std    20.223748   2.375635\n",
      "min    44.000000  21.482664\n",
      "25%    59.500000  22.039502\n",
      "50%    75.000000  22.596341\n",
      "75%    78.500000  24.317967\n",
      "max    82.000000  26.039593\n"
     ]
    }
   ],
   "source": [
    "# Pandas has robus statistical operations\n",
    "# For example, summarize selected numerical columns\n",
    "print(df[[\"age\",\"bmi\"]].describe())"
   ]
  },
  {
   "cell_type": "code",
   "execution_count": 67,
   "metadata": {},
   "outputs": [],
   "source": [
    "df_sorted = df.sort_values([ \"bmi\", \"age\" ], axis = 0, ascending = True )"
   ]
  },
  {
   "cell_type": "code",
   "execution_count": 68,
   "metadata": {},
   "outputs": [
    {
     "name": "stdout",
     "output_type": "stream",
     "text": [
      "         name  age  height     weight  smoker        bmi\n",
      "0     Jon Doe   44  1.8288  87.089664    True  26.039593\n",
      "1   Sara Good   82  1.6764  63.502880   False  22.596341\n",
      "2  Mary Jones   75  1.5240  49.895120    True  21.482664\n"
     ]
    }
   ],
   "source": [
    "print(df)"
   ]
  },
  {
   "cell_type": "code",
   "execution_count": 69,
   "metadata": {},
   "outputs": [
    {
     "name": "stdout",
     "output_type": "stream",
     "text": [
      "         name  age  height     weight  smoker        bmi\n",
      "2  Mary Jones   75  1.5240  49.895120    True  21.482664\n",
      "1   Sara Good   82  1.6764  63.502880   False  22.596341\n",
      "0     Jon Doe   44  1.8288  87.089664    True  26.039593\n"
     ]
    }
   ],
   "source": [
    "print(df_sorted)"
   ]
  },
  {
   "cell_type": "code",
   "execution_count": 70,
   "metadata": {},
   "outputs": [],
   "source": [
    "df_sorted = df.sort_values([ \"bmi\", \"age\" ], axis = 0, ascending = False )"
   ]
  },
  {
   "cell_type": "code",
   "execution_count": 71,
   "metadata": {},
   "outputs": [
    {
     "name": "stdout",
     "output_type": "stream",
     "text": [
      "         name  age  height     weight  smoker        bmi\n",
      "0     Jon Doe   44  1.8288  87.089664    True  26.039593\n",
      "1   Sara Good   82  1.6764  63.502880   False  22.596341\n",
      "2  Mary Jones   75  1.5240  49.895120    True  21.482664\n"
     ]
    }
   ],
   "source": [
    "print(df_sorted)"
   ]
  },
  {
   "cell_type": "code",
   "execution_count": 72,
   "metadata": {},
   "outputs": [],
   "source": [
    "num_smokers = sum(df[\"smoker\"] == True)"
   ]
  },
  {
   "cell_type": "code",
   "execution_count": 73,
   "metadata": {},
   "outputs": [
    {
     "name": "stdout",
     "output_type": "stream",
     "text": [
      "2\n"
     ]
    }
   ],
   "source": [
    "print(num_smokers)"
   ]
  },
  {
   "cell_type": "code",
   "execution_count": 75,
   "metadata": {},
   "outputs": [],
   "source": [
    "# how to add a new row(s) of data?\n",
    "# Use append()\n",
    "\n",
    "# let's create another patient dataframe\n",
    "more = {\"name\"  :[\"Brad Samson\", \"Klaus Volmer\", \"Pat Gupta\"],\n",
    "        \"age\"   :[54, 27, 19],\n",
    "        \"height\":[74, 63, 54],\n",
    "        \"weight\":[215, 130, 125],\n",
    "        \"smoker\":[False, False, True]}\n",
    "df_more = pd.DataFrame(data = more)"
   ]
  },
  {
   "cell_type": "code",
   "execution_count": 76,
   "metadata": {},
   "outputs": [],
   "source": [
    "# before we can append we need to add the \"bmi\" column\n",
    "# unit conversions\n",
    "df_more[\"height\"] = df_more[\"height\"]*0.0254\n",
    "df_more[\"weight\"] = df_more[\"weight\"]*0.453592\n",
    "df_more[\"bmi\"]    = df_more[\"weight\"]/(df_more[\"height\"]*df_more[\"height\"])"
   ]
  },
  {
   "cell_type": "code",
   "execution_count": 77,
   "metadata": {},
   "outputs": [
    {
     "name": "stdout",
     "output_type": "stream",
     "text": [
      "         name  age  height     weight  smoker        bmi\n",
      "0     Jon Doe   44  1.8288  87.089664    True  26.039593\n",
      "1   Sara Good   82  1.6764  63.502880   False  22.596341\n",
      "2  Mary Jones   75  1.5240  49.895120    True  21.482664\n"
     ]
    }
   ],
   "source": [
    "print(df)"
   ]
  },
  {
   "cell_type": "code",
   "execution_count": 78,
   "metadata": {},
   "outputs": [
    {
     "name": "stdout",
     "output_type": "stream",
     "text": [
      "           name  age  height    weight  smoker        bmi\n",
      "0   Brad Samson   54  1.8796  97.52228   False  27.604061\n",
      "1  Klaus Volmer   27  1.6002  58.96696   False  23.028211\n",
      "2     Pat Gupta   19  1.3716  56.69900    True  30.138418\n"
     ]
    }
   ],
   "source": [
    "print(df_more)"
   ]
  },
  {
   "cell_type": "code",
   "execution_count": 79,
   "metadata": {},
   "outputs": [],
   "source": [
    "df = df.append(df_more, ignore_index = True)"
   ]
  },
  {
   "cell_type": "code",
   "execution_count": 80,
   "metadata": {},
   "outputs": [
    {
     "name": "stdout",
     "output_type": "stream",
     "text": [
      "           name  age  height     weight  smoker        bmi\n",
      "0       Jon Doe   44  1.8288  87.089664    True  26.039593\n",
      "1     Sara Good   82  1.6764  63.502880   False  22.596341\n",
      "2    Mary Jones   75  1.5240  49.895120    True  21.482664\n",
      "3   Brad Samson   54  1.8796  97.522280   False  27.604061\n",
      "4  Klaus Volmer   27  1.6002  58.966960   False  23.028211\n",
      "5     Pat Gupta   19  1.3716  56.699000    True  30.138418\n"
     ]
    }
   ],
   "source": [
    "print(df)"
   ]
  },
  {
   "cell_type": "code",
   "execution_count": null,
   "metadata": {},
   "outputs": [],
   "source": []
  }
 ],
 "metadata": {
  "kernelspec": {
   "display_name": "Python 3",
   "language": "python",
   "name": "python3"
  },
  "language_info": {
   "codemirror_mode": {
    "name": "ipython",
    "version": 3
   },
   "file_extension": ".py",
   "mimetype": "text/x-python",
   "name": "python",
   "nbconvert_exporter": "python",
   "pygments_lexer": "ipython3",
   "version": "3.7.6"
  }
 },
 "nbformat": 4,
 "nbformat_minor": 4
}
