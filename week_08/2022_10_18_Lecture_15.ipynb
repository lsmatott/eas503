{
 "cells": [
  {
   "cell_type": "code",
   "execution_count": 1,
   "metadata": {},
   "outputs": [],
   "source": [
    "# Agenda\n",
    "# 1. Looking for a group? (deadline is Sunday Oct. 23rd!)\n",
    "# 2. natsort revisited\n",
    "# 3. SQL"
   ]
  },
  {
   "cell_type": "code",
   "execution_count": 6,
   "metadata": {},
   "outputs": [],
   "source": [
    "x = [\n",
    "    {'name': 'John Doe', 'test1': '100', 'test2': '90','test3': '65', 'test4': '68', 'test5': '94'},\n",
    "    {'name': 'Charles Darwin', 'test1': '88', 'test2': '76', 'test3': '65', 'test4': '97', 'test5': '82'},\n",
    "    {'name': 'Al Einstein', 'test1': '90', 'test2': '87', 'test3': '66', 'test4': '95', 'test5': '72'}]"
   ]
  },
  {
   "cell_type": "code",
   "execution_count": 7,
   "metadata": {},
   "outputs": [
    {
     "data": {
      "text/plain": [
       "[{'name': 'John Doe',\n",
       "  'test1': '100',\n",
       "  'test2': '90',\n",
       "  'test3': '65',\n",
       "  'test4': '68',\n",
       "  'test5': '94'},\n",
       " {'name': 'Charles Darwin',\n",
       "  'test1': '88',\n",
       "  'test2': '76',\n",
       "  'test3': '65',\n",
       "  'test4': '97',\n",
       "  'test5': '82'},\n",
       " {'name': 'Al Einstein',\n",
       "  'test1': '90',\n",
       "  'test2': '87',\n",
       "  'test3': '66',\n",
       "  'test4': '95',\n",
       "  'test5': '72'}]"
      ]
     },
     "execution_count": 7,
     "metadata": {},
     "output_type": "execute_result"
    }
   ],
   "source": [
    "x"
   ]
  },
  {
   "cell_type": "code",
   "execution_count": 8,
   "metadata": {},
   "outputs": [
    {
     "data": {
      "text/plain": [
       "[{'name': 'Al Einstein',\n",
       "  'test1': '90',\n",
       "  'test2': '87',\n",
       "  'test3': '66',\n",
       "  'test4': '95',\n",
       "  'test5': '72'},\n",
       " {'name': 'Charles Darwin',\n",
       "  'test1': '88',\n",
       "  'test2': '76',\n",
       "  'test3': '65',\n",
       "  'test4': '97',\n",
       "  'test5': '82'},\n",
       " {'name': 'John Doe',\n",
       "  'test1': '100',\n",
       "  'test2': '90',\n",
       "  'test3': '65',\n",
       "  'test4': '68',\n",
       "  'test5': '94'}]"
      ]
     },
     "execution_count": 8,
     "metadata": {},
     "output_type": "execute_result"
    }
   ],
   "source": [
    "import operator\n",
    "sorted(x, key=operator.itemgetter('name'))"
   ]
  },
  {
   "cell_type": "code",
   "execution_count": 9,
   "metadata": {},
   "outputs": [
    {
     "data": {
      "text/plain": [
       "[{'name': 'John Doe',\n",
       "  'test1': '100',\n",
       "  'test2': '90',\n",
       "  'test3': '65',\n",
       "  'test4': '68',\n",
       "  'test5': '94'},\n",
       " {'name': 'Charles Darwin',\n",
       "  'test1': '88',\n",
       "  'test2': '76',\n",
       "  'test3': '65',\n",
       "  'test4': '97',\n",
       "  'test5': '82'},\n",
       " {'name': 'Al Einstein',\n",
       "  'test1': '90',\n",
       "  'test2': '87',\n",
       "  'test3': '66',\n",
       "  'test4': '95',\n",
       "  'test5': '72'}]"
      ]
     },
     "execution_count": 9,
     "metadata": {},
     "output_type": "execute_result"
    }
   ],
   "source": [
    "sorted(x, key=operator.itemgetter('test1'))"
   ]
  },
  {
   "cell_type": "code",
   "execution_count": 12,
   "metadata": {},
   "outputs": [
    {
     "data": {
      "text/plain": [
       "[{'name': 'Charles Darwin',\n",
       "  'test1': '88',\n",
       "  'test2': '76',\n",
       "  'test3': '65',\n",
       "  'test4': '97',\n",
       "  'test5': '82'},\n",
       " {'name': 'Al Einstein',\n",
       "  'test1': '90',\n",
       "  'test2': '87',\n",
       "  'test3': '66',\n",
       "  'test4': '95',\n",
       "  'test5': '72'},\n",
       " {'name': 'John Doe',\n",
       "  'test1': '100',\n",
       "  'test2': '90',\n",
       "  'test3': '65',\n",
       "  'test4': '68',\n",
       "  'test5': '94'}]"
      ]
     },
     "execution_count": 12,
     "metadata": {},
     "output_type": "execute_result"
    }
   ],
   "source": [
    "from natsort import natsorted\n",
    "natsorted(x, key=operator.itemgetter('test1'))"
   ]
  },
  {
   "cell_type": "code",
   "execution_count": 11,
   "metadata": {},
   "outputs": [
    {
     "ename": "SyntaxError",
     "evalue": "invalid syntax (<ipython-input-11-996923b11808>, line 1)",
     "output_type": "error",
     "traceback": [
      "\u001b[1;36m  File \u001b[1;32m\"<ipython-input-11-996923b11808>\"\u001b[1;36m, line \u001b[1;32m1\u001b[0m\n\u001b[1;33m    CREATE TABLE Students (\u001b[0m\n\u001b[1;37m               ^\u001b[0m\n\u001b[1;31mSyntaxError\u001b[0m\u001b[1;31m:\u001b[0m invalid syntax\n"
     ]
    }
   ],
   "source": [
    "CREATE TABLE Students (\n",
    "    last_name TEXT, \n",
    "    first_name TEXT, \n",
    "    username TEXT, \n",
    "    exam1 REAL, \n",
    "    exam2 REAL, \n",
    "    exam3 REAL\n",
    ");"
   ]
  },
  {
   "cell_type": "code",
   "execution_count": null,
   "metadata": {},
   "outputs": [],
   "source": []
  }
 ],
 "metadata": {
  "kernelspec": {
   "display_name": "Python 3",
   "language": "python",
   "name": "python3"
  },
  "language_info": {
   "codemirror_mode": {
    "name": "ipython",
    "version": 3
   },
   "file_extension": ".py",
   "mimetype": "text/x-python",
   "name": "python",
   "nbconvert_exporter": "python",
   "pygments_lexer": "ipython3",
   "version": "3.7.6"
  }
 },
 "nbformat": 4,
 "nbformat_minor": 4
}
