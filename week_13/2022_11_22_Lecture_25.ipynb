{
 "cells": [
  {
   "cell_type": "code",
   "execution_count": 1,
   "metadata": {},
   "outputs": [],
   "source": [
    "import tempfile"
   ]
  },
  {
   "cell_type": "code",
   "execution_count": 3,
   "metadata": {},
   "outputs": [
    {
     "name": "stdout",
     "output_type": "stream",
     "text": [
      "C:\\Users\\lsmat\\AppData\\Local\\Temp\\tmpq8nqmx67.csv\n"
     ]
    }
   ],
   "source": [
    "temp_file =  tempfile.NamedTemporaryFile(mode = 'w+b', suffix = \".csv\")\n",
    "print(temp_file.name)"
   ]
  },
  {
   "cell_type": "code",
   "execution_count": 4,
   "metadata": {},
   "outputs": [
    {
     "data": {
      "text/plain": [
       "'C:\\\\Users\\\\lsmat'"
      ]
     },
     "execution_count": 4,
     "metadata": {},
     "output_type": "execute_result"
    }
   ],
   "source": [
    "import os\n",
    "os.getcwd()"
   ]
  },
  {
   "cell_type": "code",
   "execution_count": 5,
   "metadata": {},
   "outputs": [
    {
     "name": "stdout",
     "output_type": "stream",
     "text": [
      "C:\\Users\\lsmat\\my_file.csv\n"
     ]
    }
   ],
   "source": [
    "# create file path that is agnostic of the operating system\n",
    "my_file = os.path.join(os.getcwd(), \"my_file.csv\")\n",
    "print(my_file)"
   ]
  },
  {
   "cell_type": "code",
   "execution_count": 6,
   "metadata": {},
   "outputs": [],
   "source": [
    "# pandas can handle url links directly!\n",
    "my_url = \"https://raw.githubusercontent.com/nytimes/covid-19-data/master/us-states.csv\"\n"
   ]
  },
  {
   "cell_type": "code",
   "execution_count": 7,
   "metadata": {},
   "outputs": [
    {
     "name": "stdout",
     "output_type": "stream",
     "text": [
      "c:\\temp\n"
     ]
    }
   ],
   "source": [
    "# if we want to change the working directory\n",
    "os.chdir(\"c:\\\\temp\")\n",
    "print(os.getcwd())"
   ]
  },
  {
   "cell_type": "code",
   "execution_count": 8,
   "metadata": {},
   "outputs": [],
   "source": [
    "os.mkdir('my-covid-data')"
   ]
  },
  {
   "cell_type": "code",
   "execution_count": 9,
   "metadata": {},
   "outputs": [],
   "source": [
    "os.chdir('my-covid-data')"
   ]
  },
  {
   "cell_type": "code",
   "execution_count": 10,
   "metadata": {},
   "outputs": [
    {
     "ename": "FileNotFoundError",
     "evalue": "[WinError 2] The system cannot find the file specified: 'november'",
     "output_type": "error",
     "traceback": [
      "\u001b[1;31m---------------------------------------------------------------------------\u001b[0m",
      "\u001b[1;31mFileNotFoundError\u001b[0m                         Traceback (most recent call last)",
      "\u001b[1;32m<ipython-input-10-243bc7c04ed3>\u001b[0m in \u001b[0;36m<module>\u001b[1;34m\u001b[0m\n\u001b[1;32m----> 1\u001b[1;33m \u001b[0mos\u001b[0m\u001b[1;33m.\u001b[0m\u001b[0mchdir\u001b[0m\u001b[1;33m(\u001b[0m\u001b[1;34m'november'\u001b[0m\u001b[1;33m)\u001b[0m\u001b[1;33m\u001b[0m\u001b[1;33m\u001b[0m\u001b[0m\n\u001b[0m",
      "\u001b[1;31mFileNotFoundError\u001b[0m: [WinError 2] The system cannot find the file specified: 'november'"
     ]
    }
   ],
   "source": [
    "os.chdir('november')"
   ]
  },
  {
   "cell_type": "code",
   "execution_count": 11,
   "metadata": {},
   "outputs": [
    {
     "data": {
      "text/plain": [
       "'c:\\\\temp\\\\my-covid-data'"
      ]
     },
     "execution_count": 11,
     "metadata": {},
     "output_type": "execute_result"
    }
   ],
   "source": [
    "os.getcwd()"
   ]
  },
  {
   "cell_type": "code",
   "execution_count": 12,
   "metadata": {},
   "outputs": [],
   "source": [
    "os.chdir('..')"
   ]
  },
  {
   "cell_type": "code",
   "execution_count": 13,
   "metadata": {},
   "outputs": [
    {
     "data": {
      "text/plain": [
       "'c:\\\\temp'"
      ]
     },
     "execution_count": 13,
     "metadata": {},
     "output_type": "execute_result"
    }
   ],
   "source": [
    "os.getcwd()"
   ]
  },
  {
   "cell_type": "code",
   "execution_count": 14,
   "metadata": {},
   "outputs": [],
   "source": [
    "# let's read in the covid data\n",
    "import pandas as pd\n",
    "covid_df = pd.read_csv(my_url)"
   ]
  },
  {
   "cell_type": "code",
   "execution_count": 15,
   "metadata": {},
   "outputs": [
    {
     "name": "stdout",
     "output_type": "stream",
     "text": [
      "         date       state  fips  cases  deaths\n",
      "0  2020-01-21  Washington    53      1       0\n",
      "1  2020-01-22  Washington    53      1       0\n",
      "2  2020-01-23  Washington    53      1       0\n",
      "3  2020-01-24    Illinois    17      1       0\n",
      "4  2020-01-24  Washington    53      1       0\n",
      "5  2020-01-25  California     6      1       0\n",
      "6  2020-01-25    Illinois    17      1       0\n",
      "7  2020-01-25  Washington    53      1       0\n",
      "8  2020-01-26     Arizona     4      1       0\n",
      "9  2020-01-26  California     6      2       0\n"
     ]
    }
   ],
   "source": [
    "print(covid_df.head(n=10))"
   ]
  },
  {
   "cell_type": "code",
   "execution_count": 21,
   "metadata": {},
   "outputs": [
    {
     "name": "stdout",
     "output_type": "stream",
     "text": [
      "             date                     state  fips     cases  deaths\n",
      "55054  2022-11-21                   Alabama     1   1542227   21100\n",
      "55055  2022-11-21                    Alaska     2    299411    1390\n",
      "55056  2022-11-21            American Samoa    60      8262      34\n",
      "55057  2022-11-21                   Arizona     4   2311150   31648\n",
      "55058  2022-11-21                  Arkansas     5    965634   12544\n",
      "55059  2022-11-21                California     6  11453823   99657\n",
      "55060  2022-11-21                  Colorado     8   1703498   13755\n",
      "55061  2022-11-21               Connecticut     9    921739   11559\n",
      "55062  2022-11-21                  Delaware    10    315863    3163\n",
      "55063  2022-11-21      District of Columbia    11    170750    1403\n",
      "55064  2022-11-21                   Florida    12   7195943   82875\n",
      "55065  2022-11-21                   Georgia    13   2847607   39498\n",
      "55066  2022-11-21                      Guam    66     60008     407\n",
      "55067  2022-11-21                    Hawaii    15    356312    1719\n",
      "55068  2022-11-21                     Idaho    16    503494    5259\n",
      "55069  2022-11-21                  Illinois    17   3862909   40219\n",
      "55070  2022-11-21                   Indiana    18   1953497   25079\n",
      "55071  2022-11-21                      Iowa    19    868595   10255\n",
      "55072  2022-11-21                    Kansas    20    896095    9793\n",
      "55073  2022-11-21                  Kentucky    21   1635213   17555\n",
      "55074  2022-11-21                 Louisiana    22   1467573   18234\n",
      "55075  2022-11-21                     Maine    23    300355    2747\n",
      "55076  2022-11-21                  Maryland    24   1282382   15771\n",
      "55077  2022-11-21             Massachusetts    25   2104453   22303\n",
      "55078  2022-11-21                  Michigan    26   2920679   39697\n",
      "55079  2022-11-21                 Minnesota    27   1701401   13982\n",
      "55080  2022-11-21               Mississippi    28    936814   13047\n",
      "55081  2022-11-21                  Missouri    29   1700662   23007\n",
      "55082  2022-11-21                   Montana    30    317381    3605\n",
      "55083  2022-11-21                  Nebraska    31    540639    4774\n",
      "55084  2022-11-21                    Nevada    32    859537   11725\n",
      "55085  2022-11-21             New Hampshire    33    360231    2801\n",
      "55086  2022-11-21                New Jersey    34   2832407   35064\n",
      "55087  2022-11-21                New Mexico    35    641259    8717\n",
      "55088  2022-11-21                  New York    36   6331740   76539\n",
      "55089  2022-11-21            North Carolina    37   3262335   28519\n",
      "55090  2022-11-21              North Dakota    38    275510    2434\n",
      "55091  2022-11-21  Northern Mariana Islands    69     13212      41\n",
      "55092  2022-11-21                      Ohio    39   3218335   40533\n",
      "55093  2022-11-21                  Oklahoma    40   1217825   15778\n",
      "55094  2022-11-21                    Oregon    41    917164    8794\n",
      "55095  2022-11-21              Pennsylvania    42   3340506   48212\n",
      "55096  2022-11-21               Puerto Rico    72   1035696    5322\n",
      "55097  2022-11-21              Rhode Island    44    435778    3757\n",
      "55098  2022-11-21            South Carolina    45   1732287   19250\n",
      "55099  2022-11-21              South Dakota    46    266843    3106\n",
      "55100  2022-11-21                 Tennessee    47   2318836   27952\n",
      "55101  2022-11-21                     Texas    48   7964199   92278\n",
      "55102  2022-11-21                      Utah    49   1054340    5089\n",
      "55103  2022-11-21                   Vermont    50    146143     763\n",
      "55104  2022-11-21            Virgin Islands    78     23445     124\n",
      "55105  2022-11-21                  Virginia    51   2139759   22437\n",
      "55106  2022-11-21                Washington    53   1848786   14742\n",
      "55107  2022-11-21             West Virginia    54    612710    7708\n",
      "55108  2022-11-21                 Wisconsin    55   1915298   15627\n",
      "55109  2022-11-21                   Wyoming    56    179838    1924\n"
     ]
    }
   ],
   "source": [
    "print(covid_df.tail(n=56))"
   ]
  },
  {
   "cell_type": "code",
   "execution_count": 22,
   "metadata": {},
   "outputs": [],
   "source": [
    "ny_covid=covid_df[covid_df[\"state\"] == \"New York\"]"
   ]
  },
  {
   "cell_type": "code",
   "execution_count": 23,
   "metadata": {},
   "outputs": [
    {
     "name": "stdout",
     "output_type": "stream",
     "text": [
      "           date     state  fips  cases  deaths\n",
      "246  2020-03-01  New York    36      1       0\n",
      "261  2020-03-02  New York    36      1       0\n",
      "276  2020-03-03  New York    36      2       0\n",
      "293  2020-03-04  New York    36     11       0\n",
      "313  2020-03-05  New York    36     22       0\n",
      "338  2020-03-06  New York    36     44       0\n",
      "369  2020-03-07  New York    36     89       0\n",
      "404  2020-03-08  New York    36    106       0\n",
      "440  2020-03-09  New York    36    142       0\n",
      "478  2020-03-10  New York    36    173       0\n"
     ]
    }
   ],
   "source": [
    "print(ny_covid.head(n=10))"
   ]
  },
  {
   "cell_type": "code",
   "execution_count": 24,
   "metadata": {},
   "outputs": [],
   "source": [
    "ny_covid.to_csv('ny_covid.csv', index = False)"
   ]
  },
  {
   "cell_type": "code",
   "execution_count": 26,
   "metadata": {},
   "outputs": [
    {
     "name": "stderr",
     "output_type": "stream",
     "text": [
      "C:\\ProgramData\\Anaconda3\\lib\\site-packages\\pandas\\core\\frame.py:3997: SettingWithCopyWarning: \n",
      "A value is trying to be set on a copy of a slice from a DataFrame\n",
      "\n",
      "See the caveats in the documentation: https://pandas.pydata.org/pandas-docs/stable/user_guide/indexing.html#returning-a-view-versus-a-copy\n",
      "  errors=errors,\n"
     ]
    }
   ],
   "source": [
    "ny_covid.drop('state', axis=1, inplace=True)"
   ]
  },
  {
   "cell_type": "code",
   "execution_count": 27,
   "metadata": {},
   "outputs": [],
   "source": [
    "ny_covid = pd.read_csv('ny_covid.csv')"
   ]
  },
  {
   "cell_type": "code",
   "execution_count": 28,
   "metadata": {},
   "outputs": [
    {
     "name": "stdout",
     "output_type": "stream",
     "text": [
      "         date     state  fips  cases  deaths\n",
      "0  2020-03-01  New York    36      1       0\n",
      "1  2020-03-02  New York    36      1       0\n",
      "2  2020-03-03  New York    36      2       0\n",
      "3  2020-03-04  New York    36     11       0\n",
      "4  2020-03-05  New York    36     22       0\n",
      "5  2020-03-06  New York    36     44       0\n",
      "6  2020-03-07  New York    36     89       0\n",
      "7  2020-03-08  New York    36    106       0\n",
      "8  2020-03-09  New York    36    142       0\n",
      "9  2020-03-10  New York    36    173       0\n"
     ]
    }
   ],
   "source": [
    "print(ny_covid.head(n=10))"
   ]
  },
  {
   "cell_type": "code",
   "execution_count": 29,
   "metadata": {},
   "outputs": [],
   "source": [
    "ny_covid.drop('state', axis=1, inplace=True)"
   ]
  },
  {
   "cell_type": "code",
   "execution_count": 30,
   "metadata": {},
   "outputs": [
    {
     "name": "stdout",
     "output_type": "stream",
     "text": [
      "         date  fips  cases  deaths\n",
      "0  2020-03-01    36      1       0\n",
      "1  2020-03-02    36      1       0\n",
      "2  2020-03-03    36      2       0\n",
      "3  2020-03-04    36     11       0\n",
      "4  2020-03-05    36     22       0\n",
      "5  2020-03-06    36     44       0\n",
      "6  2020-03-07    36     89       0\n",
      "7  2020-03-08    36    106       0\n",
      "8  2020-03-09    36    142       0\n",
      "9  2020-03-10    36    173       0\n"
     ]
    }
   ],
   "source": [
    "print(ny_covid.head(n=10))"
   ]
  },
  {
   "cell_type": "code",
   "execution_count": 31,
   "metadata": {},
   "outputs": [],
   "source": [
    "ny_covid.drop('fips', axis=1, inplace=True)"
   ]
  },
  {
   "cell_type": "code",
   "execution_count": 32,
   "metadata": {},
   "outputs": [
    {
     "name": "stdout",
     "output_type": "stream",
     "text": [
      "         date  cases  deaths\n",
      "0  2020-03-01      1       0\n",
      "1  2020-03-02      1       0\n",
      "2  2020-03-03      2       0\n",
      "3  2020-03-04     11       0\n",
      "4  2020-03-05     22       0\n",
      "5  2020-03-06     44       0\n",
      "6  2020-03-07     89       0\n",
      "7  2020-03-08    106       0\n",
      "8  2020-03-09    142       0\n",
      "9  2020-03-10    173       0\n"
     ]
    }
   ],
   "source": [
    "print(ny_covid.head(n=10))"
   ]
  },
  {
   "cell_type": "code",
   "execution_count": 33,
   "metadata": {},
   "outputs": [],
   "source": [
    "ny_covid.to_csv('ny_covid.csv', index = False)"
   ]
  },
  {
   "cell_type": "code",
   "execution_count": 34,
   "metadata": {},
   "outputs": [
    {
     "data": {
      "text/html": [
       "<div>\n",
       "<style scoped>\n",
       "    .dataframe tbody tr th:only-of-type {\n",
       "        vertical-align: middle;\n",
       "    }\n",
       "\n",
       "    .dataframe tbody tr th {\n",
       "        vertical-align: top;\n",
       "    }\n",
       "\n",
       "    .dataframe thead th {\n",
       "        text-align: right;\n",
       "    }\n",
       "</style>\n",
       "<table border=\"1\" class=\"dataframe\">\n",
       "  <thead>\n",
       "    <tr style=\"text-align: right;\">\n",
       "      <th></th>\n",
       "      <th>date</th>\n",
       "      <th>cases</th>\n",
       "    </tr>\n",
       "  </thead>\n",
       "  <tbody>\n",
       "    <tr>\n",
       "      <th>0</th>\n",
       "      <td>2020-03-01</td>\n",
       "      <td>1</td>\n",
       "    </tr>\n",
       "    <tr>\n",
       "      <th>1</th>\n",
       "      <td>2020-03-02</td>\n",
       "      <td>1</td>\n",
       "    </tr>\n",
       "    <tr>\n",
       "      <th>2</th>\n",
       "      <td>2020-03-03</td>\n",
       "      <td>2</td>\n",
       "    </tr>\n",
       "    <tr>\n",
       "      <th>3</th>\n",
       "      <td>2020-03-04</td>\n",
       "      <td>11</td>\n",
       "    </tr>\n",
       "    <tr>\n",
       "      <th>4</th>\n",
       "      <td>2020-03-05</td>\n",
       "      <td>22</td>\n",
       "    </tr>\n",
       "    <tr>\n",
       "      <th>...</th>\n",
       "      <td>...</td>\n",
       "      <td>...</td>\n",
       "    </tr>\n",
       "    <tr>\n",
       "      <th>991</th>\n",
       "      <td>2022-11-17</td>\n",
       "      <td>6315469</td>\n",
       "    </tr>\n",
       "    <tr>\n",
       "      <th>992</th>\n",
       "      <td>2022-11-18</td>\n",
       "      <td>6320328</td>\n",
       "    </tr>\n",
       "    <tr>\n",
       "      <th>993</th>\n",
       "      <td>2022-11-19</td>\n",
       "      <td>6322200</td>\n",
       "    </tr>\n",
       "    <tr>\n",
       "      <th>994</th>\n",
       "      <td>2022-11-20</td>\n",
       "      <td>6323637</td>\n",
       "    </tr>\n",
       "    <tr>\n",
       "      <th>995</th>\n",
       "      <td>2022-11-21</td>\n",
       "      <td>6331740</td>\n",
       "    </tr>\n",
       "  </tbody>\n",
       "</table>\n",
       "<p>996 rows × 2 columns</p>\n",
       "</div>"
      ],
      "text/plain": [
       "           date    cases\n",
       "0    2020-03-01        1\n",
       "1    2020-03-02        1\n",
       "2    2020-03-03        2\n",
       "3    2020-03-04       11\n",
       "4    2020-03-05       22\n",
       "..          ...      ...\n",
       "991  2022-11-17  6315469\n",
       "992  2022-11-18  6320328\n",
       "993  2022-11-19  6322200\n",
       "994  2022-11-20  6323637\n",
       "995  2022-11-21  6331740\n",
       "\n",
       "[996 rows x 2 columns]"
      ]
     },
     "execution_count": 34,
     "metadata": {},
     "output_type": "execute_result"
    }
   ],
   "source": [
    "ny_covid[['date','cases']]"
   ]
  },
  {
   "cell_type": "code",
   "execution_count": 35,
   "metadata": {},
   "outputs": [
    {
     "data": {
      "text/html": [
       "<div>\n",
       "<style scoped>\n",
       "    .dataframe tbody tr th:only-of-type {\n",
       "        vertical-align: middle;\n",
       "    }\n",
       "\n",
       "    .dataframe tbody tr th {\n",
       "        vertical-align: top;\n",
       "    }\n",
       "\n",
       "    .dataframe thead th {\n",
       "        text-align: right;\n",
       "    }\n",
       "</style>\n",
       "<table border=\"1\" class=\"dataframe\">\n",
       "  <thead>\n",
       "    <tr style=\"text-align: right;\">\n",
       "      <th></th>\n",
       "      <th>date</th>\n",
       "      <th>cases</th>\n",
       "      <th>deaths</th>\n",
       "    </tr>\n",
       "  </thead>\n",
       "  <tbody>\n",
       "    <tr>\n",
       "      <th>0</th>\n",
       "      <td>2020-03-01</td>\n",
       "      <td>1</td>\n",
       "      <td>0</td>\n",
       "    </tr>\n",
       "    <tr>\n",
       "      <th>1</th>\n",
       "      <td>2020-03-02</td>\n",
       "      <td>1</td>\n",
       "      <td>0</td>\n",
       "    </tr>\n",
       "    <tr>\n",
       "      <th>2</th>\n",
       "      <td>2020-03-03</td>\n",
       "      <td>2</td>\n",
       "      <td>0</td>\n",
       "    </tr>\n",
       "    <tr>\n",
       "      <th>3</th>\n",
       "      <td>2020-03-04</td>\n",
       "      <td>11</td>\n",
       "      <td>0</td>\n",
       "    </tr>\n",
       "    <tr>\n",
       "      <th>4</th>\n",
       "      <td>2020-03-05</td>\n",
       "      <td>22</td>\n",
       "      <td>0</td>\n",
       "    </tr>\n",
       "    <tr>\n",
       "      <th>...</th>\n",
       "      <td>...</td>\n",
       "      <td>...</td>\n",
       "      <td>...</td>\n",
       "    </tr>\n",
       "    <tr>\n",
       "      <th>991</th>\n",
       "      <td>2022-11-17</td>\n",
       "      <td>6315469</td>\n",
       "      <td>76506</td>\n",
       "    </tr>\n",
       "    <tr>\n",
       "      <th>992</th>\n",
       "      <td>2022-11-18</td>\n",
       "      <td>6320328</td>\n",
       "      <td>76525</td>\n",
       "    </tr>\n",
       "    <tr>\n",
       "      <th>993</th>\n",
       "      <td>2022-11-19</td>\n",
       "      <td>6322200</td>\n",
       "      <td>76525</td>\n",
       "    </tr>\n",
       "    <tr>\n",
       "      <th>994</th>\n",
       "      <td>2022-11-20</td>\n",
       "      <td>6323637</td>\n",
       "      <td>76525</td>\n",
       "    </tr>\n",
       "    <tr>\n",
       "      <th>995</th>\n",
       "      <td>2022-11-21</td>\n",
       "      <td>6331740</td>\n",
       "      <td>76539</td>\n",
       "    </tr>\n",
       "  </tbody>\n",
       "</table>\n",
       "<p>996 rows × 3 columns</p>\n",
       "</div>"
      ],
      "text/plain": [
       "           date    cases  deaths\n",
       "0    2020-03-01        1       0\n",
       "1    2020-03-02        1       0\n",
       "2    2020-03-03        2       0\n",
       "3    2020-03-04       11       0\n",
       "4    2020-03-05       22       0\n",
       "..          ...      ...     ...\n",
       "991  2022-11-17  6315469   76506\n",
       "992  2022-11-18  6320328   76525\n",
       "993  2022-11-19  6322200   76525\n",
       "994  2022-11-20  6323637   76525\n",
       "995  2022-11-21  6331740   76539\n",
       "\n",
       "[996 rows x 3 columns]"
      ]
     },
     "execution_count": 35,
     "metadata": {},
     "output_type": "execute_result"
    }
   ],
   "source": [
    "ny_covid.dropna(thresh=2)"
   ]
  },
  {
   "cell_type": "code",
   "execution_count": 36,
   "metadata": {},
   "outputs": [],
   "source": [
    "d1 = {\n",
    "    'C0': ['COR0', 'COR1', 'COR2'],\n",
    "    'C1': ['C1R0', 'C1R1', 'C2R2'],\n",
    "    'C2': ['C2R0', 'C2R1', 'C2R2'],\n",
    "}\n",
    "\n",
    "df1 = pd.DataFrame(d1)\n",
    "\n",
    "d2 = {\n",
    "    'C0': ['C0R3', 'C0R4', 'C0R5'],\n",
    "    'C1': ['C1R3', 'C1R4', 'C1R5'],\n",
    "    'C2': ['C2R3', 'C2R4', 'C2R5'],\n",
    "}\n",
    "\n",
    "df2 = pd.DataFrame(d2)\n",
    "\n",
    "d3 = {\n",
    "    'C0': ['C0R6', 'C0R7', 'C0R8'],\n",
    "    'C1': ['C1R6', 'C1R7', 'C1R8'],\n",
    "    'C2': ['C2R6', 'C2R7', 'C2R8'],\n",
    "}\n",
    "\n",
    "df3 = pd.DataFrame(d3)"
   ]
  },
  {
   "cell_type": "code",
   "execution_count": 37,
   "metadata": {},
   "outputs": [
    {
     "data": {
      "text/html": [
       "<div>\n",
       "<style scoped>\n",
       "    .dataframe tbody tr th:only-of-type {\n",
       "        vertical-align: middle;\n",
       "    }\n",
       "\n",
       "    .dataframe tbody tr th {\n",
       "        vertical-align: top;\n",
       "    }\n",
       "\n",
       "    .dataframe thead th {\n",
       "        text-align: right;\n",
       "    }\n",
       "</style>\n",
       "<table border=\"1\" class=\"dataframe\">\n",
       "  <thead>\n",
       "    <tr style=\"text-align: right;\">\n",
       "      <th></th>\n",
       "      <th>C0</th>\n",
       "      <th>C1</th>\n",
       "      <th>C2</th>\n",
       "    </tr>\n",
       "  </thead>\n",
       "  <tbody>\n",
       "    <tr>\n",
       "      <th>0</th>\n",
       "      <td>COR0</td>\n",
       "      <td>C1R0</td>\n",
       "      <td>C2R0</td>\n",
       "    </tr>\n",
       "    <tr>\n",
       "      <th>1</th>\n",
       "      <td>COR1</td>\n",
       "      <td>C1R1</td>\n",
       "      <td>C2R1</td>\n",
       "    </tr>\n",
       "    <tr>\n",
       "      <th>2</th>\n",
       "      <td>COR2</td>\n",
       "      <td>C2R2</td>\n",
       "      <td>C2R2</td>\n",
       "    </tr>\n",
       "  </tbody>\n",
       "</table>\n",
       "</div>"
      ],
      "text/plain": [
       "     C0    C1    C2\n",
       "0  COR0  C1R0  C2R0\n",
       "1  COR1  C1R1  C2R1\n",
       "2  COR2  C2R2  C2R2"
      ]
     },
     "execution_count": 37,
     "metadata": {},
     "output_type": "execute_result"
    }
   ],
   "source": [
    "df1"
   ]
  },
  {
   "cell_type": "code",
   "execution_count": 38,
   "metadata": {},
   "outputs": [
    {
     "data": {
      "text/html": [
       "<div>\n",
       "<style scoped>\n",
       "    .dataframe tbody tr th:only-of-type {\n",
       "        vertical-align: middle;\n",
       "    }\n",
       "\n",
       "    .dataframe tbody tr th {\n",
       "        vertical-align: top;\n",
       "    }\n",
       "\n",
       "    .dataframe thead th {\n",
       "        text-align: right;\n",
       "    }\n",
       "</style>\n",
       "<table border=\"1\" class=\"dataframe\">\n",
       "  <thead>\n",
       "    <tr style=\"text-align: right;\">\n",
       "      <th></th>\n",
       "      <th>C0</th>\n",
       "      <th>C1</th>\n",
       "      <th>C2</th>\n",
       "    </tr>\n",
       "  </thead>\n",
       "  <tbody>\n",
       "    <tr>\n",
       "      <th>0</th>\n",
       "      <td>C0R3</td>\n",
       "      <td>C1R3</td>\n",
       "      <td>C2R3</td>\n",
       "    </tr>\n",
       "    <tr>\n",
       "      <th>1</th>\n",
       "      <td>C0R4</td>\n",
       "      <td>C1R4</td>\n",
       "      <td>C2R4</td>\n",
       "    </tr>\n",
       "    <tr>\n",
       "      <th>2</th>\n",
       "      <td>C0R5</td>\n",
       "      <td>C1R5</td>\n",
       "      <td>C2R5</td>\n",
       "    </tr>\n",
       "  </tbody>\n",
       "</table>\n",
       "</div>"
      ],
      "text/plain": [
       "     C0    C1    C2\n",
       "0  C0R3  C1R3  C2R3\n",
       "1  C0R4  C1R4  C2R4\n",
       "2  C0R5  C1R5  C2R5"
      ]
     },
     "execution_count": 38,
     "metadata": {},
     "output_type": "execute_result"
    }
   ],
   "source": [
    "df2"
   ]
  },
  {
   "cell_type": "code",
   "execution_count": 39,
   "metadata": {},
   "outputs": [
    {
     "data": {
      "text/html": [
       "<div>\n",
       "<style scoped>\n",
       "    .dataframe tbody tr th:only-of-type {\n",
       "        vertical-align: middle;\n",
       "    }\n",
       "\n",
       "    .dataframe tbody tr th {\n",
       "        vertical-align: top;\n",
       "    }\n",
       "\n",
       "    .dataframe thead th {\n",
       "        text-align: right;\n",
       "    }\n",
       "</style>\n",
       "<table border=\"1\" class=\"dataframe\">\n",
       "  <thead>\n",
       "    <tr style=\"text-align: right;\">\n",
       "      <th></th>\n",
       "      <th>C0</th>\n",
       "      <th>C1</th>\n",
       "      <th>C2</th>\n",
       "    </tr>\n",
       "  </thead>\n",
       "  <tbody>\n",
       "    <tr>\n",
       "      <th>0</th>\n",
       "      <td>C0R6</td>\n",
       "      <td>C1R6</td>\n",
       "      <td>C2R6</td>\n",
       "    </tr>\n",
       "    <tr>\n",
       "      <th>1</th>\n",
       "      <td>C0R7</td>\n",
       "      <td>C1R7</td>\n",
       "      <td>C2R7</td>\n",
       "    </tr>\n",
       "    <tr>\n",
       "      <th>2</th>\n",
       "      <td>C0R8</td>\n",
       "      <td>C1R8</td>\n",
       "      <td>C2R8</td>\n",
       "    </tr>\n",
       "  </tbody>\n",
       "</table>\n",
       "</div>"
      ],
      "text/plain": [
       "     C0    C1    C2\n",
       "0  C0R6  C1R6  C2R6\n",
       "1  C0R7  C1R7  C2R7\n",
       "2  C0R8  C1R8  C2R8"
      ]
     },
     "execution_count": 39,
     "metadata": {},
     "output_type": "execute_result"
    }
   ],
   "source": [
    "df3"
   ]
  },
  {
   "cell_type": "code",
   "execution_count": 40,
   "metadata": {},
   "outputs": [
    {
     "data": {
      "text/html": [
       "<div>\n",
       "<style scoped>\n",
       "    .dataframe tbody tr th:only-of-type {\n",
       "        vertical-align: middle;\n",
       "    }\n",
       "\n",
       "    .dataframe tbody tr th {\n",
       "        vertical-align: top;\n",
       "    }\n",
       "\n",
       "    .dataframe thead th {\n",
       "        text-align: right;\n",
       "    }\n",
       "</style>\n",
       "<table border=\"1\" class=\"dataframe\">\n",
       "  <thead>\n",
       "    <tr style=\"text-align: right;\">\n",
       "      <th></th>\n",
       "      <th>C0</th>\n",
       "      <th>C1</th>\n",
       "      <th>C2</th>\n",
       "    </tr>\n",
       "  </thead>\n",
       "  <tbody>\n",
       "    <tr>\n",
       "      <th>0</th>\n",
       "      <td>COR0</td>\n",
       "      <td>C1R0</td>\n",
       "      <td>C2R0</td>\n",
       "    </tr>\n",
       "    <tr>\n",
       "      <th>1</th>\n",
       "      <td>COR1</td>\n",
       "      <td>C1R1</td>\n",
       "      <td>C2R1</td>\n",
       "    </tr>\n",
       "    <tr>\n",
       "      <th>2</th>\n",
       "      <td>COR2</td>\n",
       "      <td>C2R2</td>\n",
       "      <td>C2R2</td>\n",
       "    </tr>\n",
       "    <tr>\n",
       "      <th>0</th>\n",
       "      <td>C0R3</td>\n",
       "      <td>C1R3</td>\n",
       "      <td>C2R3</td>\n",
       "    </tr>\n",
       "    <tr>\n",
       "      <th>1</th>\n",
       "      <td>C0R4</td>\n",
       "      <td>C1R4</td>\n",
       "      <td>C2R4</td>\n",
       "    </tr>\n",
       "    <tr>\n",
       "      <th>2</th>\n",
       "      <td>C0R5</td>\n",
       "      <td>C1R5</td>\n",
       "      <td>C2R5</td>\n",
       "    </tr>\n",
       "    <tr>\n",
       "      <th>0</th>\n",
       "      <td>C0R6</td>\n",
       "      <td>C1R6</td>\n",
       "      <td>C2R6</td>\n",
       "    </tr>\n",
       "    <tr>\n",
       "      <th>1</th>\n",
       "      <td>C0R7</td>\n",
       "      <td>C1R7</td>\n",
       "      <td>C2R7</td>\n",
       "    </tr>\n",
       "    <tr>\n",
       "      <th>2</th>\n",
       "      <td>C0R8</td>\n",
       "      <td>C1R8</td>\n",
       "      <td>C2R8</td>\n",
       "    </tr>\n",
       "  </tbody>\n",
       "</table>\n",
       "</div>"
      ],
      "text/plain": [
       "     C0    C1    C2\n",
       "0  COR0  C1R0  C2R0\n",
       "1  COR1  C1R1  C2R1\n",
       "2  COR2  C2R2  C2R2\n",
       "0  C0R3  C1R3  C2R3\n",
       "1  C0R4  C1R4  C2R4\n",
       "2  C0R5  C1R5  C2R5\n",
       "0  C0R6  C1R6  C2R6\n",
       "1  C0R7  C1R7  C2R7\n",
       "2  C0R8  C1R8  C2R8"
      ]
     },
     "execution_count": 40,
     "metadata": {},
     "output_type": "execute_result"
    }
   ],
   "source": [
    "# concat as an alternative to the append operation\n",
    "pd.concat([df1, df2, df3])"
   ]
  },
  {
   "cell_type": "code",
   "execution_count": 42,
   "metadata": {},
   "outputs": [
    {
     "name": "stdout",
     "output_type": "stream",
     "text": [
      "['Washington' 'Illinois' 'California' 'Arizona' 'Massachusetts'\n",
      " 'Wisconsin' 'Texas' 'Nebraska' 'Utah' 'Oregon' 'Florida' 'New York'\n",
      " 'Rhode Island' 'Georgia' 'New Hampshire' 'North Carolina' 'New Jersey'\n",
      " 'Colorado' 'Maryland' 'Nevada' 'Tennessee' 'Hawaii' 'Indiana' 'Kentucky'\n",
      " 'Minnesota' 'Oklahoma' 'Pennsylvania' 'South Carolina'\n",
      " 'District of Columbia' 'Kansas' 'Missouri' 'Vermont' 'Virginia'\n",
      " 'Connecticut' 'Iowa' 'Louisiana' 'Ohio' 'Michigan' 'South Dakota'\n",
      " 'Arkansas' 'Delaware' 'Mississippi' 'New Mexico' 'North Dakota' 'Wyoming'\n",
      " 'Alaska' 'Maine' 'Alabama' 'Idaho' 'Montana' 'Puerto Rico'\n",
      " 'Virgin Islands' 'Guam' 'West Virginia' 'Northern Mariana Islands'\n",
      " 'American Samoa']\n"
     ]
    }
   ],
   "source": [
    "print(covid_df[\"state\"].unique())"
   ]
  },
  {
   "cell_type": "code",
   "execution_count": 43,
   "metadata": {},
   "outputs": [
    {
     "name": "stdout",
     "output_type": "stream",
     "text": [
      "Washington                  1036\n",
      "Illinois                    1033\n",
      "California                  1032\n",
      "Arizona                     1031\n",
      "Massachusetts               1025\n",
      "Wisconsin                   1021\n",
      "Texas                       1014\n",
      "Nebraska                    1009\n",
      "Utah                        1001\n",
      "Oregon                       998\n",
      "Rhode Island                 996\n",
      "New York                     996\n",
      "Florida                      996\n",
      "Georgia                      995\n",
      "New Hampshire                995\n",
      "North Carolina               994\n",
      "New Jersey                   993\n",
      "Nevada                       992\n",
      "Maryland                     992\n",
      "Tennessee                    992\n",
      "Colorado                     992\n",
      "Kentucky                     991\n",
      "Indiana                      991\n",
      "Oklahoma                     991\n",
      "Pennsylvania                 991\n",
      "South Carolina               991\n",
      "Minnesota                    991\n",
      "Hawaii                       991\n",
      "Missouri                     990\n",
      "Virginia                     990\n",
      "Vermont                      990\n",
      "District of Columbia         990\n",
      "Kansas                       990\n",
      "Iowa                         989\n",
      "Connecticut                  989\n",
      "Louisiana                    988\n",
      "Ohio                         988\n",
      "South Dakota                 987\n",
      "Michigan                     987\n",
      "North Dakota                 986\n",
      "Delaware                     986\n",
      "Wyoming                      986\n",
      "Mississippi                  986\n",
      "Arkansas                     986\n",
      "New Mexico                   986\n",
      "Alaska                       985\n",
      "Maine                        985\n",
      "Puerto Rico                  984\n",
      "Idaho                        984\n",
      "Montana                      984\n",
      "Alabama                      984\n",
      "Virgin Islands               983\n",
      "Guam                         982\n",
      "West Virginia                980\n",
      "Northern Mariana Islands     969\n",
      "American Samoa               426\n",
      "Name: state, dtype: int64\n"
     ]
    }
   ],
   "source": [
    "print(covid_df[\"state\"].value_counts())"
   ]
  },
  {
   "cell_type": "code",
   "execution_count": 44,
   "metadata": {},
   "outputs": [
    {
     "data": {
      "text/plain": [
       "56"
      ]
     },
     "execution_count": 44,
     "metadata": {},
     "output_type": "execute_result"
    }
   ],
   "source": [
    "1036 - 980"
   ]
  },
  {
   "cell_type": "code",
   "execution_count": 46,
   "metadata": {},
   "outputs": [
    {
     "data": {
      "text/plain": [
       "0           0.0\n",
       "1           0.0\n",
       "2           0.0\n",
       "3           0.0\n",
       "4           0.0\n",
       "          ...  \n",
       "55105    2243.7\n",
       "55106    1474.2\n",
       "55107     770.8\n",
       "55108    1562.7\n",
       "55109     192.4\n",
       "Name: deaths, Length: 55110, dtype: float64"
      ]
     },
     "execution_count": 46,
     "metadata": {},
     "output_type": "execute_result"
    }
   ],
   "source": [
    "covid_df[\"deaths\"].apply(lambda val: val/10)"
   ]
  },
  {
   "cell_type": "code",
   "execution_count": 48,
   "metadata": {},
   "outputs": [
    {
     "data": {
      "text/plain": [
       "0           WASHINGTON\n",
       "1           WASHINGTON\n",
       "2           WASHINGTON\n",
       "3             ILLINOIS\n",
       "4           WASHINGTON\n",
       "             ...      \n",
       "55105         VIRGINIA\n",
       "55106       WASHINGTON\n",
       "55107    WEST VIRGINIA\n",
       "55108        WISCONSIN\n",
       "55109          WYOMING\n",
       "Name: state, Length: 55110, dtype: object"
      ]
     },
     "execution_count": 48,
     "metadata": {},
     "output_type": "execute_result"
    }
   ],
   "source": [
    "covid_df[\"state\"].apply(lambda s: s.upper())"
   ]
  },
  {
   "cell_type": "code",
   "execution_count": 51,
   "metadata": {},
   "outputs": [
    {
     "data": {
      "text/plain": [
       "(55110, 5)"
      ]
     },
     "execution_count": 51,
     "metadata": {},
     "output_type": "execute_result"
    }
   ],
   "source": [
    "covid_df.shape"
   ]
  },
  {
   "cell_type": "code",
   "execution_count": 53,
   "metadata": {},
   "outputs": [
    {
     "data": {
      "text/plain": [
       "5"
      ]
     },
     "execution_count": 53,
     "metadata": {},
     "output_type": "execute_result"
    }
   ],
   "source": [
    "len(covid_df.columns)"
   ]
  },
  {
   "cell_type": "code",
   "execution_count": 54,
   "metadata": {},
   "outputs": [
    {
     "data": {
      "text/plain": [
       "Index(['date', 'state', 'fips', 'cases', 'deaths'], dtype='object')"
      ]
     },
     "execution_count": 54,
     "metadata": {},
     "output_type": "execute_result"
    }
   ],
   "source": [
    "covid_df.columns"
   ]
  },
  {
   "cell_type": "code",
   "execution_count": 56,
   "metadata": {},
   "outputs": [
    {
     "data": {
      "text/plain": [
       "date      object\n",
       "state     object\n",
       "fips       int64\n",
       "cases      int64\n",
       "deaths     int64\n",
       "dtype: object"
      ]
     },
     "execution_count": 56,
     "metadata": {},
     "output_type": "execute_result"
    }
   ],
   "source": [
    "covid_df.dtypes"
   ]
  },
  {
   "cell_type": "code",
   "execution_count": 57,
   "metadata": {},
   "outputs": [
    {
     "name": "stdout",
     "output_type": "stream",
     "text": [
      "<class 'pandas.core.frame.DataFrame'>\n",
      "RangeIndex: 55110 entries, 0 to 55109\n",
      "Data columns (total 5 columns):\n",
      " #   Column  Non-Null Count  Dtype \n",
      "---  ------  --------------  ----- \n",
      " 0   date    55110 non-null  object\n",
      " 1   state   55110 non-null  object\n",
      " 2   fips    55110 non-null  int64 \n",
      " 3   cases   55110 non-null  int64 \n",
      " 4   deaths  55110 non-null  int64 \n",
      "dtypes: int64(3), object(2)\n",
      "memory usage: 2.1+ MB\n"
     ]
    }
   ],
   "source": [
    "covid_df.info()"
   ]
  },
  {
   "cell_type": "code",
   "execution_count": null,
   "metadata": {},
   "outputs": [],
   "source": []
  }
 ],
 "metadata": {
  "kernelspec": {
   "display_name": "Python 3",
   "language": "python",
   "name": "python3"
  },
  "language_info": {
   "codemirror_mode": {
    "name": "ipython",
    "version": 3
   },
   "file_extension": ".py",
   "mimetype": "text/x-python",
   "name": "python",
   "nbconvert_exporter": "python",
   "pygments_lexer": "ipython3",
   "version": "3.7.6"
  }
 },
 "nbformat": 4,
 "nbformat_minor": 4
}
