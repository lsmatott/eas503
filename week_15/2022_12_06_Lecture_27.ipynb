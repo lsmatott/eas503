{
 "cells": [
  {
   "cell_type": "code",
   "execution_count": 3,
   "metadata": {},
   "outputs": [],
   "source": [
    "import os\n",
    "os.chdir(\"C:/Matott/Teaching/EAS503/eas503_notes/ml101/docs/assets\")\n"
   ]
  },
  {
   "cell_type": "code",
   "execution_count": 4,
   "metadata": {},
   "outputs": [],
   "source": [
    "datafile='countywide_covid_19_data.csv'\n",
    "metadatafile='countywide_covid_19_metadata.csv'"
   ]
  },
  {
   "cell_type": "code",
   "execution_count": 6,
   "metadata": {},
   "outputs": [],
   "source": [
    "#\n",
    "# Part 1 - load the data and required modules\n",
    "#\n",
    "import sys\n",
    "from sklearn.ensemble import RandomForestClassifier\n",
    "from sklearn.model_selection import train_test_split\n",
    "from sklearn.metrics import accuracy_score\n",
    "from sklearn.metrics import confusion_matrix\n",
    "from sklearn.metrics import auc, roc_curve\n",
    "import pandas as pd\n",
    "import numpy as np\n",
    "from six import StringIO\n",
    "from matplotlib import pyplot as plt\n",
    "import os"
   ]
  },
  {
   "cell_type": "code",
   "execution_count": 7,
   "metadata": {},
   "outputs": [],
   "source": [
    "# adjust Pandas printing behavior\n",
    "pd.set_option(\"display.max_rows\", None)"
   ]
  },
  {
   "cell_type": "code",
   "execution_count": 8,
   "metadata": {},
   "outputs": [],
   "source": [
    "# read data from file\n",
    "df = pd.read_csv(datafile)"
   ]
  },
  {
   "cell_type": "code",
   "execution_count": 10,
   "metadata": {},
   "outputs": [
    {
     "name": "stdout",
     "output_type": "stream",
     "text": [
      "\n",
      "First 10 features:\n",
      "  State           County  X01     X02  X03  X04  X05\n",
      "0    AL   Autauga County    0   55869 -0.3    2    2\n",
      "1    AL   Baldwin County    5  223234  0.4    3    2\n",
      "2    AL   Barbour County    3   24686  0.5    6    6\n",
      "3    AL      Bibb County    0   22394  0.4    1    1\n",
      "4    AL    Blount County    0   57826  0.1    1    1\n",
      "5    AL   Bullock County    3   10101 -0.1    6    6\n",
      "6    AL    Butler County    0   19448  0.9    6    6\n",
      "7    AL   Calhoun County    4  113605  0.1    3    2\n",
      "8    AL  Chambers County    0   33254  0.2    6    5\n"
     ]
    }
   ],
   "source": [
    "# inspect the dataframe, verify it looks ok\n",
    "print(\"\")\n",
    "print(\"First 10 features:\")\n",
    "print(df.iloc[0:9,1:8])  # state + county + first 10 features"
   ]
  },
  {
   "cell_type": "code",
   "execution_count": 11,
   "metadata": {},
   "outputs": [
    {
     "name": "stdout",
     "output_type": "stream",
     "text": [
      "\n",
      "Labels:\n",
      "  State           County    Y01  Y02   Y03  Y04  Y05\n",
      "0    AL   Autauga County   5407   62  1.15    4    3\n",
      "1    AL   Baldwin County  17333  189  1.09    4    3\n",
      "2    AL   Barbour County   1834   38  2.07    5    7\n",
      "3    AL      Bibb County   2229   48  2.15    5    8\n",
      "4    AL    Blount County   5485   86  1.57    4    5\n",
      "5    AL   Bullock County   1046   28  2.68    5    9\n",
      "6    AL    Butler County   1748   60  3.43    5   10\n",
      "7    AL   Calhoun County  11555  206  1.78    4    6\n",
      "8    AL  Chambers County   3054   70  2.29    5    8\n"
     ]
    }
   ],
   "source": [
    "print(\"\")\n",
    "print(\"Labels:\")\n",
    "print(df.iloc[0:9,[1,2,-5,-4,-3,-2,-1]]) # state + county + labels"
   ]
  },
  {
   "cell_type": "code",
   "execution_count": 13,
   "metadata": {},
   "outputs": [
    {
     "data": {
      "text/html": [
       "<div>\n",
       "<style scoped>\n",
       "    .dataframe tbody tr th:only-of-type {\n",
       "        vertical-align: middle;\n",
       "    }\n",
       "\n",
       "    .dataframe tbody tr th {\n",
       "        vertical-align: top;\n",
       "    }\n",
       "\n",
       "    .dataframe thead th {\n",
       "        text-align: right;\n",
       "    }\n",
       "</style>\n",
       "<table border=\"1\" class=\"dataframe\">\n",
       "  <thead>\n",
       "    <tr style=\"text-align: right;\">\n",
       "      <th></th>\n",
       "      <th>FIPS</th>\n",
       "      <th>State</th>\n",
       "      <th>County</th>\n",
       "      <th>X01</th>\n",
       "      <th>X02</th>\n",
       "      <th>X03</th>\n",
       "      <th>X04</th>\n",
       "      <th>X05</th>\n",
       "      <th>X06</th>\n",
       "      <th>X07</th>\n",
       "      <th>...</th>\n",
       "      <th>X50</th>\n",
       "      <th>X51</th>\n",
       "      <th>X52</th>\n",
       "      <th>X53</th>\n",
       "      <th>X54</th>\n",
       "      <th>Y01</th>\n",
       "      <th>Y02</th>\n",
       "      <th>Y03</th>\n",
       "      <th>Y04</th>\n",
       "      <th>Y05</th>\n",
       "    </tr>\n",
       "  </thead>\n",
       "  <tbody>\n",
       "    <tr>\n",
       "      <th>3130</th>\n",
       "      <td>56027</td>\n",
       "      <td>WY</td>\n",
       "      <td>Niobrara County</td>\n",
       "      <td>0</td>\n",
       "      <td>2356</td>\n",
       "      <td>0.0</td>\n",
       "      <td>9</td>\n",
       "      <td>12</td>\n",
       "      <td>11.9</td>\n",
       "      <td>31.3</td>\n",
       "      <td>...</td>\n",
       "      <td>9.17</td>\n",
       "      <td>49.4</td>\n",
       "      <td>1.0</td>\n",
       "      <td>95.5</td>\n",
       "      <td>141.5</td>\n",
       "      <td>145</td>\n",
       "      <td>2</td>\n",
       "      <td>1.38</td>\n",
       "      <td>4</td>\n",
       "      <td>5</td>\n",
       "    </tr>\n",
       "    <tr>\n",
       "      <th>3131</th>\n",
       "      <td>56029</td>\n",
       "      <td>WY</td>\n",
       "      <td>Park County</td>\n",
       "      <td>5</td>\n",
       "      <td>29194</td>\n",
       "      <td>-0.3</td>\n",
       "      <td>7</td>\n",
       "      <td>11</td>\n",
       "      <td>5.2</td>\n",
       "      <td>26.7</td>\n",
       "      <td>...</td>\n",
       "      <td>18.01</td>\n",
       "      <td>42.3</td>\n",
       "      <td>2.0</td>\n",
       "      <td>94.8</td>\n",
       "      <td>144.7</td>\n",
       "      <td>2518</td>\n",
       "      <td>18</td>\n",
       "      <td>0.71</td>\n",
       "      <td>3</td>\n",
       "      <td>2</td>\n",
       "    </tr>\n",
       "    <tr>\n",
       "      <th>3132</th>\n",
       "      <td>56031</td>\n",
       "      <td>WY</td>\n",
       "      <td>Platte County</td>\n",
       "      <td>0</td>\n",
       "      <td>8393</td>\n",
       "      <td>-1.2</td>\n",
       "      <td>7</td>\n",
       "      <td>11</td>\n",
       "      <td>6.6</td>\n",
       "      <td>37.0</td>\n",
       "      <td>...</td>\n",
       "      <td>7.61</td>\n",
       "      <td>50.7</td>\n",
       "      <td>1.0</td>\n",
       "      <td>144.7</td>\n",
       "      <td>144.1</td>\n",
       "      <td>543</td>\n",
       "      <td>10</td>\n",
       "      <td>1.84</td>\n",
       "      <td>4</td>\n",
       "      <td>7</td>\n",
       "    </tr>\n",
       "    <tr>\n",
       "      <th>3133</th>\n",
       "      <td>56033</td>\n",
       "      <td>WY</td>\n",
       "      <td>Sheridan County</td>\n",
       "      <td>0</td>\n",
       "      <td>30485</td>\n",
       "      <td>0.5</td>\n",
       "      <td>7</td>\n",
       "      <td>8</td>\n",
       "      <td>4.8</td>\n",
       "      <td>24.3</td>\n",
       "      <td>...</td>\n",
       "      <td>12.21</td>\n",
       "      <td>46.7</td>\n",
       "      <td>1.0</td>\n",
       "      <td>69.9</td>\n",
       "      <td>168.5</td>\n",
       "      <td>2838</td>\n",
       "      <td>18</td>\n",
       "      <td>0.63</td>\n",
       "      <td>3</td>\n",
       "      <td>1</td>\n",
       "    </tr>\n",
       "    <tr>\n",
       "      <th>3134</th>\n",
       "      <td>56035</td>\n",
       "      <td>WY</td>\n",
       "      <td>Sublette County</td>\n",
       "      <td>2</td>\n",
       "      <td>9831</td>\n",
       "      <td>-0.8</td>\n",
       "      <td>9</td>\n",
       "      <td>10</td>\n",
       "      <td>3.7</td>\n",
       "      <td>35.5</td>\n",
       "      <td>...</td>\n",
       "      <td>12.49</td>\n",
       "      <td>39.0</td>\n",
       "      <td>0.0</td>\n",
       "      <td>70.0</td>\n",
       "      <td>131.5</td>\n",
       "      <td>641</td>\n",
       "      <td>7</td>\n",
       "      <td>1.09</td>\n",
       "      <td>4</td>\n",
       "      <td>3</td>\n",
       "    </tr>\n",
       "    <tr>\n",
       "      <th>3135</th>\n",
       "      <td>56037</td>\n",
       "      <td>WY</td>\n",
       "      <td>Sweetwater County</td>\n",
       "      <td>2</td>\n",
       "      <td>42343</td>\n",
       "      <td>0.5</td>\n",
       "      <td>5</td>\n",
       "      <td>8</td>\n",
       "      <td>9.0</td>\n",
       "      <td>33.3</td>\n",
       "      <td>...</td>\n",
       "      <td>5.31</td>\n",
       "      <td>45.7</td>\n",
       "      <td>2.0</td>\n",
       "      <td>126.3</td>\n",
       "      <td>180.5</td>\n",
       "      <td>3418</td>\n",
       "      <td>30</td>\n",
       "      <td>0.88</td>\n",
       "      <td>3</td>\n",
       "      <td>2</td>\n",
       "    </tr>\n",
       "    <tr>\n",
       "      <th>3136</th>\n",
       "      <td>56039</td>\n",
       "      <td>WY</td>\n",
       "      <td>Teton County</td>\n",
       "      <td>5</td>\n",
       "      <td>23464</td>\n",
       "      <td>3.4</td>\n",
       "      <td>7</td>\n",
       "      <td>8</td>\n",
       "      <td>5.6</td>\n",
       "      <td>13.2</td>\n",
       "      <td>...</td>\n",
       "      <td>27.17</td>\n",
       "      <td>38.4</td>\n",
       "      <td>1.0</td>\n",
       "      <td>28.8</td>\n",
       "      <td>86.0</td>\n",
       "      <td>2981</td>\n",
       "      <td>5</td>\n",
       "      <td>0.17</td>\n",
       "      <td>2</td>\n",
       "      <td>1</td>\n",
       "    </tr>\n",
       "    <tr>\n",
       "      <th>3137</th>\n",
       "      <td>56041</td>\n",
       "      <td>WY</td>\n",
       "      <td>Uinta County</td>\n",
       "      <td>2</td>\n",
       "      <td>20226</td>\n",
       "      <td>0.0</td>\n",
       "      <td>7</td>\n",
       "      <td>8</td>\n",
       "      <td>7.2</td>\n",
       "      <td>40.1</td>\n",
       "      <td>...</td>\n",
       "      <td>6.00</td>\n",
       "      <td>43.6</td>\n",
       "      <td>1.0</td>\n",
       "      <td>97.5</td>\n",
       "      <td>172.5</td>\n",
       "      <td>1913</td>\n",
       "      <td>12</td>\n",
       "      <td>0.63</td>\n",
       "      <td>3</td>\n",
       "      <td>1</td>\n",
       "    </tr>\n",
       "    <tr>\n",
       "      <th>3138</th>\n",
       "      <td>56043</td>\n",
       "      <td>WY</td>\n",
       "      <td>Washakie County</td>\n",
       "      <td>0</td>\n",
       "      <td>7805</td>\n",
       "      <td>-0.6</td>\n",
       "      <td>7</td>\n",
       "      <td>11</td>\n",
       "      <td>10.4</td>\n",
       "      <td>30.3</td>\n",
       "      <td>...</td>\n",
       "      <td>6.88</td>\n",
       "      <td>48.5</td>\n",
       "      <td>1.0</td>\n",
       "      <td>127.8</td>\n",
       "      <td>158.5</td>\n",
       "      <td>860</td>\n",
       "      <td>25</td>\n",
       "      <td>2.91</td>\n",
       "      <td>5</td>\n",
       "      <td>9</td>\n",
       "    </tr>\n",
       "    <tr>\n",
       "      <th>3139</th>\n",
       "      <td>56045</td>\n",
       "      <td>WY</td>\n",
       "      <td>Weston County</td>\n",
       "      <td>2</td>\n",
       "      <td>6927</td>\n",
       "      <td>2.6</td>\n",
       "      <td>7</td>\n",
       "      <td>9</td>\n",
       "      <td>7.8</td>\n",
       "      <td>35.8</td>\n",
       "      <td>...</td>\n",
       "      <td>8.93</td>\n",
       "      <td>48.2</td>\n",
       "      <td>1.0</td>\n",
       "      <td>134.9</td>\n",
       "      <td>154.7</td>\n",
       "      <td>610</td>\n",
       "      <td>4</td>\n",
       "      <td>0.66</td>\n",
       "      <td>3</td>\n",
       "      <td>1</td>\n",
       "    </tr>\n",
       "  </tbody>\n",
       "</table>\n",
       "<p>10 rows × 62 columns</p>\n",
       "</div>"
      ],
      "text/plain": [
       "       FIPS State             County  X01    X02  X03  X04  X05   X06   X07  \\\n",
       "3130  56027    WY    Niobrara County    0   2356  0.0    9   12  11.9  31.3   \n",
       "3131  56029    WY        Park County    5  29194 -0.3    7   11   5.2  26.7   \n",
       "3132  56031    WY      Platte County    0   8393 -1.2    7   11   6.6  37.0   \n",
       "3133  56033    WY    Sheridan County    0  30485  0.5    7    8   4.8  24.3   \n",
       "3134  56035    WY    Sublette County    2   9831 -0.8    9   10   3.7  35.5   \n",
       "3135  56037    WY  Sweetwater County    2  42343  0.5    5    8   9.0  33.3   \n",
       "3136  56039    WY       Teton County    5  23464  3.4    7    8   5.6  13.2   \n",
       "3137  56041    WY       Uinta County    2  20226  0.0    7    8   7.2  40.1   \n",
       "3138  56043    WY    Washakie County    0   7805 -0.6    7   11  10.4  30.3   \n",
       "3139  56045    WY      Weston County    2   6927  2.6    7    9   7.8  35.8   \n",
       "\n",
       "      ...    X50   X51  X52    X53    X54   Y01  Y02   Y03  Y04  Y05  \n",
       "3130  ...   9.17  49.4  1.0   95.5  141.5   145    2  1.38    4    5  \n",
       "3131  ...  18.01  42.3  2.0   94.8  144.7  2518   18  0.71    3    2  \n",
       "3132  ...   7.61  50.7  1.0  144.7  144.1   543   10  1.84    4    7  \n",
       "3133  ...  12.21  46.7  1.0   69.9  168.5  2838   18  0.63    3    1  \n",
       "3134  ...  12.49  39.0  0.0   70.0  131.5   641    7  1.09    4    3  \n",
       "3135  ...   5.31  45.7  2.0  126.3  180.5  3418   30  0.88    3    2  \n",
       "3136  ...  27.17  38.4  1.0   28.8   86.0  2981    5  0.17    2    1  \n",
       "3137  ...   6.00  43.6  1.0   97.5  172.5  1913   12  0.63    3    1  \n",
       "3138  ...   6.88  48.5  1.0  127.8  158.5   860   25  2.91    5    9  \n",
       "3139  ...   8.93  48.2  1.0  134.9  154.7   610    4  0.66    3    1  \n",
       "\n",
       "[10 rows x 62 columns]"
      ]
     },
     "execution_count": 13,
     "metadata": {},
     "output_type": "execute_result"
    }
   ],
   "source": [
    "df.tail(n=10)"
   ]
  },
  {
   "cell_type": "code",
   "execution_count": 14,
   "metadata": {
    "scrolled": false
   },
   "outputs": [
    {
     "name": "stdout",
     "output_type": "stream",
     "text": [
      "\n",
      "Distribution of PSI labels:\n",
      "Label Count\n",
      "----- -----\n",
      "1      79\n",
      "2     123\n",
      "3     500\n",
      "4    1370\n",
      "5     950\n",
      "6     105\n",
      "7       9\n",
      "8       4\n",
      "Name: Y04, dtype: int64\n"
     ]
    }
   ],
   "source": [
    "# inspect categorical variables\n",
    "print(\"\")\n",
    "print(\"Distribution of PSI labels:\")\n",
    "print(\"Label Count\")\n",
    "print(\"----- -----\")\n",
    "PSI = df[\"Y04\"].astype('category')\n",
    "print(PSI.value_counts().sort_index())\n"
   ]
  },
  {
   "cell_type": "code",
   "execution_count": 15,
   "metadata": {},
   "outputs": [
    {
     "name": "stdout",
     "output_type": "stream",
     "text": [
      "\n",
      "Distribution of DRP labels:\n",
      "Label Count\n",
      "----- -----\n",
      "1     314\n",
      "2     314\n",
      "3     314\n",
      "4     314\n",
      "5     314\n",
      "6     314\n",
      "7     314\n",
      "8     314\n",
      "9     314\n",
      "10    314\n",
      "Name: Y05, dtype: int64\n"
     ]
    }
   ],
   "source": [
    "print(\"\")\n",
    "print(\"Distribution of DRP labels:\")\n",
    "print(\"Label Count\")\n",
    "print(\"----- -----\")\n",
    "DRP = df[\"Y05\"].astype('category')\n",
    "print(DRP.value_counts().sort_index())"
   ]
  },
  {
   "cell_type": "code",
   "execution_count": 16,
   "metadata": {},
   "outputs": [],
   "source": [
    "#\n",
    "# Part 2 - select features and label\n",
    "#\n",
    "\n",
    "# extract features and labels\n",
    "features =  [ \"X{:02d}\".format(i) for i in range(1,11)]\n",
    "label    = \"Y05\"\n",
    "X = df[features]\n",
    "Y = df[label]"
   ]
  },
  {
   "cell_type": "code",
   "execution_count": 17,
   "metadata": {},
   "outputs": [
    {
     "data": {
      "text/html": [
       "<div>\n",
       "<style scoped>\n",
       "    .dataframe tbody tr th:only-of-type {\n",
       "        vertical-align: middle;\n",
       "    }\n",
       "\n",
       "    .dataframe tbody tr th {\n",
       "        vertical-align: top;\n",
       "    }\n",
       "\n",
       "    .dataframe thead th {\n",
       "        text-align: right;\n",
       "    }\n",
       "</style>\n",
       "<table border=\"1\" class=\"dataframe\">\n",
       "  <thead>\n",
       "    <tr style=\"text-align: right;\">\n",
       "      <th></th>\n",
       "      <th>X01</th>\n",
       "      <th>X02</th>\n",
       "      <th>X03</th>\n",
       "      <th>X04</th>\n",
       "      <th>X05</th>\n",
       "      <th>X06</th>\n",
       "      <th>X07</th>\n",
       "      <th>X08</th>\n",
       "      <th>X09</th>\n",
       "      <th>X10</th>\n",
       "    </tr>\n",
       "  </thead>\n",
       "  <tbody>\n",
       "    <tr>\n",
       "      <th>0</th>\n",
       "      <td>0</td>\n",
       "      <td>55869</td>\n",
       "      <td>-0.3</td>\n",
       "      <td>2</td>\n",
       "      <td>2</td>\n",
       "      <td>11.3</td>\n",
       "      <td>32.6</td>\n",
       "      <td>28.4</td>\n",
       "      <td>27.7</td>\n",
       "      <td>13.8</td>\n",
       "    </tr>\n",
       "    <tr>\n",
       "      <th>1</th>\n",
       "      <td>5</td>\n",
       "      <td>223234</td>\n",
       "      <td>0.4</td>\n",
       "      <td>3</td>\n",
       "      <td>2</td>\n",
       "      <td>9.7</td>\n",
       "      <td>27.6</td>\n",
       "      <td>31.3</td>\n",
       "      <td>31.3</td>\n",
       "      <td>9.8</td>\n",
       "    </tr>\n",
       "    <tr>\n",
       "      <th>2</th>\n",
       "      <td>3</td>\n",
       "      <td>24686</td>\n",
       "      <td>0.5</td>\n",
       "      <td>6</td>\n",
       "      <td>6</td>\n",
       "      <td>27.0</td>\n",
       "      <td>35.7</td>\n",
       "      <td>25.1</td>\n",
       "      <td>12.2</td>\n",
       "      <td>30.9</td>\n",
       "    </tr>\n",
       "    <tr>\n",
       "      <th>3</th>\n",
       "      <td>0</td>\n",
       "      <td>22394</td>\n",
       "      <td>0.4</td>\n",
       "      <td>1</td>\n",
       "      <td>1</td>\n",
       "      <td>16.8</td>\n",
       "      <td>47.3</td>\n",
       "      <td>24.4</td>\n",
       "      <td>11.5</td>\n",
       "      <td>21.8</td>\n",
       "    </tr>\n",
       "    <tr>\n",
       "      <th>4</th>\n",
       "      <td>0</td>\n",
       "      <td>57826</td>\n",
       "      <td>0.1</td>\n",
       "      <td>1</td>\n",
       "      <td>1</td>\n",
       "      <td>19.8</td>\n",
       "      <td>34.0</td>\n",
       "      <td>33.5</td>\n",
       "      <td>12.6</td>\n",
       "      <td>13.2</td>\n",
       "    </tr>\n",
       "    <tr>\n",
       "      <th>5</th>\n",
       "      <td>3</td>\n",
       "      <td>10101</td>\n",
       "      <td>-0.1</td>\n",
       "      <td>6</td>\n",
       "      <td>6</td>\n",
       "      <td>24.8</td>\n",
       "      <td>39.7</td>\n",
       "      <td>22.3</td>\n",
       "      <td>13.3</td>\n",
       "      <td>42.5</td>\n",
       "    </tr>\n",
       "    <tr>\n",
       "      <th>6</th>\n",
       "      <td>0</td>\n",
       "      <td>19448</td>\n",
       "      <td>0.9</td>\n",
       "      <td>6</td>\n",
       "      <td>6</td>\n",
       "      <td>15.4</td>\n",
       "      <td>43.9</td>\n",
       "      <td>24.6</td>\n",
       "      <td>16.1</td>\n",
       "      <td>24.5</td>\n",
       "    </tr>\n",
       "    <tr>\n",
       "      <th>7</th>\n",
       "      <td>4</td>\n",
       "      <td>113605</td>\n",
       "      <td>0.1</td>\n",
       "      <td>3</td>\n",
       "      <td>2</td>\n",
       "      <td>15.9</td>\n",
       "      <td>32.4</td>\n",
       "      <td>33.7</td>\n",
       "      <td>18.0</td>\n",
       "      <td>19.5</td>\n",
       "    </tr>\n",
       "    <tr>\n",
       "      <th>8</th>\n",
       "      <td>0</td>\n",
       "      <td>33254</td>\n",
       "      <td>0.2</td>\n",
       "      <td>6</td>\n",
       "      <td>5</td>\n",
       "      <td>18.6</td>\n",
       "      <td>38.4</td>\n",
       "      <td>29.7</td>\n",
       "      <td>13.2</td>\n",
       "      <td>18.7</td>\n",
       "    </tr>\n",
       "    <tr>\n",
       "      <th>9</th>\n",
       "      <td>0</td>\n",
       "      <td>26196</td>\n",
       "      <td>-0.1</td>\n",
       "      <td>6</td>\n",
       "      <td>6</td>\n",
       "      <td>19.8</td>\n",
       "      <td>38.3</td>\n",
       "      <td>29.0</td>\n",
       "      <td>12.9</td>\n",
       "      <td>16.3</td>\n",
       "    </tr>\n",
       "  </tbody>\n",
       "</table>\n",
       "</div>"
      ],
      "text/plain": [
       "   X01     X02  X03  X04  X05   X06   X07   X08   X09   X10\n",
       "0    0   55869 -0.3    2    2  11.3  32.6  28.4  27.7  13.8\n",
       "1    5  223234  0.4    3    2   9.7  27.6  31.3  31.3   9.8\n",
       "2    3   24686  0.5    6    6  27.0  35.7  25.1  12.2  30.9\n",
       "3    0   22394  0.4    1    1  16.8  47.3  24.4  11.5  21.8\n",
       "4    0   57826  0.1    1    1  19.8  34.0  33.5  12.6  13.2\n",
       "5    3   10101 -0.1    6    6  24.8  39.7  22.3  13.3  42.5\n",
       "6    0   19448  0.9    6    6  15.4  43.9  24.6  16.1  24.5\n",
       "7    4  113605  0.1    3    2  15.9  32.4  33.7  18.0  19.5\n",
       "8    0   33254  0.2    6    5  18.6  38.4  29.7  13.2  18.7\n",
       "9    0   26196 -0.1    6    6  19.8  38.3  29.0  12.9  16.3"
      ]
     },
     "execution_count": 17,
     "metadata": {},
     "output_type": "execute_result"
    }
   ],
   "source": [
    "X.head(n=10)"
   ]
  },
  {
   "cell_type": "code",
   "execution_count": 18,
   "metadata": {},
   "outputs": [
    {
     "data": {
      "text/plain": [
       "0     3\n",
       "1     3\n",
       "2     7\n",
       "3     8\n",
       "4     5\n",
       "5     9\n",
       "6    10\n",
       "7     6\n",
       "8     8\n",
       "9     7\n",
       "Name: Y05, dtype: int64"
      ]
     },
     "execution_count": 18,
     "metadata": {},
     "output_type": "execute_result"
    }
   ],
   "source": [
    "Y.head(n=10)"
   ]
  },
  {
   "cell_type": "code",
   "execution_count": 19,
   "metadata": {},
   "outputs": [],
   "source": [
    "mdf = pd.read_csv(\"./countywide_covid_19_metadata.csv\")"
   ]
  },
  {
   "cell_type": "code",
   "execution_count": 20,
   "metadata": {},
   "outputs": [
    {
     "data": {
      "text/html": [
       "<div>\n",
       "<style scoped>\n",
       "    .dataframe tbody tr th:only-of-type {\n",
       "        vertical-align: middle;\n",
       "    }\n",
       "\n",
       "    .dataframe tbody tr th {\n",
       "        vertical-align: top;\n",
       "    }\n",
       "\n",
       "    .dataframe thead th {\n",
       "        text-align: right;\n",
       "    }\n",
       "</style>\n",
       "<table border=\"1\" class=\"dataframe\">\n",
       "  <thead>\n",
       "    <tr style=\"text-align: right;\">\n",
       "      <th></th>\n",
       "      <th>Code</th>\n",
       "      <th>Variable</th>\n",
       "      <th>Description</th>\n",
       "      <th>Source</th>\n",
       "    </tr>\n",
       "  </thead>\n",
       "  <tbody>\n",
       "    <tr>\n",
       "      <th>0</th>\n",
       "      <td>FIPS</td>\n",
       "      <td>FIPS</td>\n",
       "      <td>State-County FIPS Code</td>\n",
       "      <td>NaN</td>\n",
       "    </tr>\n",
       "    <tr>\n",
       "      <th>1</th>\n",
       "      <td>State</td>\n",
       "      <td>State</td>\n",
       "      <td>State Abbreviation</td>\n",
       "      <td>NaN</td>\n",
       "    </tr>\n",
       "    <tr>\n",
       "      <th>2</th>\n",
       "      <td>County</td>\n",
       "      <td>County</td>\n",
       "      <td>County Name</td>\n",
       "      <td>NaN</td>\n",
       "    </tr>\n",
       "    <tr>\n",
       "      <th>3</th>\n",
       "      <td>X01</td>\n",
       "      <td>ECONOMY_TYPE</td>\n",
       "      <td>County economic types: 0=Nonspecialized 1=Farm...</td>\n",
       "      <td>https://www.ers.usda.gov</td>\n",
       "    </tr>\n",
       "    <tr>\n",
       "      <th>4</th>\n",
       "      <td>X02</td>\n",
       "      <td>POPULATION</td>\n",
       "      <td>Estimated resident population in 2019</td>\n",
       "      <td>https://www.ers.usda.gov</td>\n",
       "    </tr>\n",
       "    <tr>\n",
       "      <th>5</th>\n",
       "      <td>X03</td>\n",
       "      <td>IMMIGRATION_RATE</td>\n",
       "      <td>Net international migration rate (migrants per...</td>\n",
       "      <td>https://www.ers.usda.gov</td>\n",
       "    </tr>\n",
       "    <tr>\n",
       "      <th>6</th>\n",
       "      <td>X04</td>\n",
       "      <td>RURAL_URBAN_CONTINUUM</td>\n",
       "      <td>A code indicating level of urbanization. 1 = m...</td>\n",
       "      <td>https://www.ers.usda.gov</td>\n",
       "    </tr>\n",
       "    <tr>\n",
       "      <th>7</th>\n",
       "      <td>X05</td>\n",
       "      <td>URBAN_INFLUENCE</td>\n",
       "      <td>A code indicating nearness of urban areas. 1 =...</td>\n",
       "      <td>https://www.ers.usda.gov</td>\n",
       "    </tr>\n",
       "    <tr>\n",
       "      <th>8</th>\n",
       "      <td>X06</td>\n",
       "      <td>PCT_NO_HS_DIPLOMA</td>\n",
       "      <td>Percent of population with no high school diploma</td>\n",
       "      <td>https://www.ers.usda.gov</td>\n",
       "    </tr>\n",
       "    <tr>\n",
       "      <th>9</th>\n",
       "      <td>X07</td>\n",
       "      <td>PCT_HS_DIPLOMA_ONLY</td>\n",
       "      <td>Percent of population with only a high school ...</td>\n",
       "      <td>https://www.ers.usda.gov</td>\n",
       "    </tr>\n",
       "  </tbody>\n",
       "</table>\n",
       "</div>"
      ],
      "text/plain": [
       "     Code               Variable  \\\n",
       "0    FIPS                   FIPS   \n",
       "1   State                  State   \n",
       "2  County                 County   \n",
       "3     X01           ECONOMY_TYPE   \n",
       "4     X02             POPULATION   \n",
       "5     X03       IMMIGRATION_RATE   \n",
       "6     X04  RURAL_URBAN_CONTINUUM   \n",
       "7     X05        URBAN_INFLUENCE   \n",
       "8     X06      PCT_NO_HS_DIPLOMA   \n",
       "9     X07    PCT_HS_DIPLOMA_ONLY   \n",
       "\n",
       "                                         Description                    Source  \n",
       "0                             State-County FIPS Code                       NaN  \n",
       "1                                 State Abbreviation                       NaN  \n",
       "2                                        County Name                       NaN  \n",
       "3  County economic types: 0=Nonspecialized 1=Farm...  https://www.ers.usda.gov  \n",
       "4              Estimated resident population in 2019  https://www.ers.usda.gov  \n",
       "5  Net international migration rate (migrants per...  https://www.ers.usda.gov  \n",
       "6  A code indicating level of urbanization. 1 = m...  https://www.ers.usda.gov  \n",
       "7  A code indicating nearness of urban areas. 1 =...  https://www.ers.usda.gov  \n",
       "8  Percent of population with no high school diploma  https://www.ers.usda.gov  \n",
       "9  Percent of population with only a high school ...  https://www.ers.usda.gov  "
      ]
     },
     "execution_count": 20,
     "metadata": {},
     "output_type": "execute_result"
    }
   ],
   "source": [
    "mdf.head(n=10)"
   ]
  },
  {
   "cell_type": "code",
   "execution_count": 21,
   "metadata": {},
   "outputs": [
    {
     "name": "stdout",
     "output_type": "stream",
     "text": [
      "\n",
      "Selected features:\n",
      "   Code               Variable  \\\n",
      "3   X01           ECONOMY_TYPE   \n",
      "4   X02             POPULATION   \n",
      "5   X03       IMMIGRATION_RATE   \n",
      "6   X04  RURAL_URBAN_CONTINUUM   \n",
      "7   X05        URBAN_INFLUENCE   \n",
      "8   X06      PCT_NO_HS_DIPLOMA   \n",
      "9   X07    PCT_HS_DIPLOMA_ONLY   \n",
      "10  X08       PCT_SOME_COLLEGE   \n",
      "11  X09       PCT_BS_OR_HIGHER   \n",
      "12  X10         PCT_IN_POVERTY   \n",
      "\n",
      "                                          Description  \n",
      "3   County economic types: 0=Nonspecialized 1=Farm...  \n",
      "4               Estimated resident population in 2019  \n",
      "5   Net international migration rate (migrants per...  \n",
      "6   A code indicating level of urbanization. 1 = m...  \n",
      "7   A code indicating nearness of urban areas. 1 =...  \n",
      "8   Percent of population with no high school diploma  \n",
      "9   Percent of population with only a high school ...  \n",
      "10            Percent of population with some college  \n",
      "11  Percent of population with bachelor's degree o...  \n",
      "12   Percent of population living below poverty line.  \n"
     ]
    }
   ],
   "source": [
    "# get metadata descriptions\n",
    "X_desc = mdf[mdf.Code.isin(X.columns.values)]\n",
    "print(\"\")\n",
    "print(\"Selected features:\")\n",
    "print(X_desc.iloc[:,0:3])"
   ]
  },
  {
   "cell_type": "code",
   "execution_count": 22,
   "metadata": {},
   "outputs": [
    {
     "name": "stdout",
     "output_type": "stream",
     "text": [
      "\n",
      "Selected label:\n",
      "   Code Variable                                        Description\n",
      "61  Y05      DRP  Death rate percentile (1 = 10th percentile; 2 ...\n"
     ]
    }
   ],
   "source": [
    "Y_desc = mdf[mdf.Code == label]\n",
    "print(\"\")\n",
    "print(\"Selected label:\")\n",
    "print(Y_desc.iloc[:,0:3])"
   ]
  },
  {
   "cell_type": "code",
   "execution_count": 23,
   "metadata": {},
   "outputs": [],
   "source": [
    "# encode labels per needs of RF algorithm\n",
    "Y = pd.get_dummies(Y)"
   ]
  },
  {
   "cell_type": "code",
   "execution_count": 24,
   "metadata": {},
   "outputs": [
    {
     "data": {
      "text/html": [
       "<div>\n",
       "<style scoped>\n",
       "    .dataframe tbody tr th:only-of-type {\n",
       "        vertical-align: middle;\n",
       "    }\n",
       "\n",
       "    .dataframe tbody tr th {\n",
       "        vertical-align: top;\n",
       "    }\n",
       "\n",
       "    .dataframe thead th {\n",
       "        text-align: right;\n",
       "    }\n",
       "</style>\n",
       "<table border=\"1\" class=\"dataframe\">\n",
       "  <thead>\n",
       "    <tr style=\"text-align: right;\">\n",
       "      <th></th>\n",
       "      <th>1</th>\n",
       "      <th>2</th>\n",
       "      <th>3</th>\n",
       "      <th>4</th>\n",
       "      <th>5</th>\n",
       "      <th>6</th>\n",
       "      <th>7</th>\n",
       "      <th>8</th>\n",
       "      <th>9</th>\n",
       "      <th>10</th>\n",
       "    </tr>\n",
       "  </thead>\n",
       "  <tbody>\n",
       "    <tr>\n",
       "      <th>0</th>\n",
       "      <td>0</td>\n",
       "      <td>0</td>\n",
       "      <td>1</td>\n",
       "      <td>0</td>\n",
       "      <td>0</td>\n",
       "      <td>0</td>\n",
       "      <td>0</td>\n",
       "      <td>0</td>\n",
       "      <td>0</td>\n",
       "      <td>0</td>\n",
       "    </tr>\n",
       "    <tr>\n",
       "      <th>1</th>\n",
       "      <td>0</td>\n",
       "      <td>0</td>\n",
       "      <td>1</td>\n",
       "      <td>0</td>\n",
       "      <td>0</td>\n",
       "      <td>0</td>\n",
       "      <td>0</td>\n",
       "      <td>0</td>\n",
       "      <td>0</td>\n",
       "      <td>0</td>\n",
       "    </tr>\n",
       "    <tr>\n",
       "      <th>2</th>\n",
       "      <td>0</td>\n",
       "      <td>0</td>\n",
       "      <td>0</td>\n",
       "      <td>0</td>\n",
       "      <td>0</td>\n",
       "      <td>0</td>\n",
       "      <td>1</td>\n",
       "      <td>0</td>\n",
       "      <td>0</td>\n",
       "      <td>0</td>\n",
       "    </tr>\n",
       "    <tr>\n",
       "      <th>3</th>\n",
       "      <td>0</td>\n",
       "      <td>0</td>\n",
       "      <td>0</td>\n",
       "      <td>0</td>\n",
       "      <td>0</td>\n",
       "      <td>0</td>\n",
       "      <td>0</td>\n",
       "      <td>1</td>\n",
       "      <td>0</td>\n",
       "      <td>0</td>\n",
       "    </tr>\n",
       "    <tr>\n",
       "      <th>4</th>\n",
       "      <td>0</td>\n",
       "      <td>0</td>\n",
       "      <td>0</td>\n",
       "      <td>0</td>\n",
       "      <td>1</td>\n",
       "      <td>0</td>\n",
       "      <td>0</td>\n",
       "      <td>0</td>\n",
       "      <td>0</td>\n",
       "      <td>0</td>\n",
       "    </tr>\n",
       "    <tr>\n",
       "      <th>5</th>\n",
       "      <td>0</td>\n",
       "      <td>0</td>\n",
       "      <td>0</td>\n",
       "      <td>0</td>\n",
       "      <td>0</td>\n",
       "      <td>0</td>\n",
       "      <td>0</td>\n",
       "      <td>0</td>\n",
       "      <td>1</td>\n",
       "      <td>0</td>\n",
       "    </tr>\n",
       "    <tr>\n",
       "      <th>6</th>\n",
       "      <td>0</td>\n",
       "      <td>0</td>\n",
       "      <td>0</td>\n",
       "      <td>0</td>\n",
       "      <td>0</td>\n",
       "      <td>0</td>\n",
       "      <td>0</td>\n",
       "      <td>0</td>\n",
       "      <td>0</td>\n",
       "      <td>1</td>\n",
       "    </tr>\n",
       "    <tr>\n",
       "      <th>7</th>\n",
       "      <td>0</td>\n",
       "      <td>0</td>\n",
       "      <td>0</td>\n",
       "      <td>0</td>\n",
       "      <td>0</td>\n",
       "      <td>1</td>\n",
       "      <td>0</td>\n",
       "      <td>0</td>\n",
       "      <td>0</td>\n",
       "      <td>0</td>\n",
       "    </tr>\n",
       "    <tr>\n",
       "      <th>8</th>\n",
       "      <td>0</td>\n",
       "      <td>0</td>\n",
       "      <td>0</td>\n",
       "      <td>0</td>\n",
       "      <td>0</td>\n",
       "      <td>0</td>\n",
       "      <td>0</td>\n",
       "      <td>1</td>\n",
       "      <td>0</td>\n",
       "      <td>0</td>\n",
       "    </tr>\n",
       "    <tr>\n",
       "      <th>9</th>\n",
       "      <td>0</td>\n",
       "      <td>0</td>\n",
       "      <td>0</td>\n",
       "      <td>0</td>\n",
       "      <td>0</td>\n",
       "      <td>0</td>\n",
       "      <td>1</td>\n",
       "      <td>0</td>\n",
       "      <td>0</td>\n",
       "      <td>0</td>\n",
       "    </tr>\n",
       "  </tbody>\n",
       "</table>\n",
       "</div>"
      ],
      "text/plain": [
       "   1   2   3   4   5   6   7   8   9   10\n",
       "0   0   0   1   0   0   0   0   0   0   0\n",
       "1   0   0   1   0   0   0   0   0   0   0\n",
       "2   0   0   0   0   0   0   1   0   0   0\n",
       "3   0   0   0   0   0   0   0   1   0   0\n",
       "4   0   0   0   0   1   0   0   0   0   0\n",
       "5   0   0   0   0   0   0   0   0   1   0\n",
       "6   0   0   0   0   0   0   0   0   0   1\n",
       "7   0   0   0   0   0   1   0   0   0   0\n",
       "8   0   0   0   0   0   0   0   1   0   0\n",
       "9   0   0   0   0   0   0   1   0   0   0"
      ]
     },
     "execution_count": 24,
     "metadata": {},
     "output_type": "execute_result"
    }
   ],
   "source": [
    "Y.head(n=10)"
   ]
  },
  {
   "cell_type": "code",
   "execution_count": 25,
   "metadata": {},
   "outputs": [],
   "source": [
    "#\n",
    "# Part 3 - create and train the model\n",
    "#\n",
    "\n",
    "# split into train and test datasets\n",
    "X_train, X_test, \\\n",
    "Y_train, Y_test = train_test_split(X, Y, test_size = 0.25)"
   ]
  },
  {
   "cell_type": "code",
   "execution_count": 26,
   "metadata": {},
   "outputs": [],
   "source": [
    "# create and train the classifier\n",
    "model = RandomForestClassifier(\\\n",
    "    criterion='gini',          \\\n",
    "    oob_score=True,            \\\n",
    "    random_state=1)"
   ]
  },
  {
   "cell_type": "code",
   "execution_count": 27,
   "metadata": {},
   "outputs": [
    {
     "data": {
      "text/plain": [
       "RandomForestClassifier(bootstrap=True, ccp_alpha=0.0, class_weight=None,\n",
       "                       criterion='gini', max_depth=None, max_features='auto',\n",
       "                       max_leaf_nodes=None, max_samples=None,\n",
       "                       min_impurity_decrease=0.0, min_impurity_split=None,\n",
       "                       min_samples_leaf=1, min_samples_split=2,\n",
       "                       min_weight_fraction_leaf=0.0, n_estimators=100,\n",
       "                       n_jobs=None, oob_score=True, random_state=1, verbose=0,\n",
       "                       warm_start=False)"
      ]
     },
     "execution_count": 27,
     "metadata": {},
     "output_type": "execute_result"
    }
   ],
   "source": [
    "model.fit(X_train, Y_train)"
   ]
  },
  {
   "cell_type": "code",
   "execution_count": 28,
   "metadata": {},
   "outputs": [
    {
     "name": "stdout",
     "output_type": "stream",
     "text": [
      "\n",
      "Feature  Importance  Description\n",
      "X02      0.13898782  POPULATION\n",
      "X10      0.12588257  PCT_IN_POVERTY\n",
      "X08      0.12393476  PCT_SOME_COLLEGE\n",
      "X07      0.12295908  PCT_HS_DIPLOMA_ONLY\n",
      "X09      0.12163032  PCT_BS_OR_HIGHER\n",
      "X06      0.12145114  PCT_NO_HS_DIPLOMA\n",
      "X03      0.09656596  IMMIGRATION_RATE\n",
      "X05      0.05347359  URBAN_INFLUENCE\n",
      "X01      0.05139690  ECONOMY_TYPE\n",
      "X04      0.04371786  RURAL_URBAN_CONTINUUM\n",
      "\n"
     ]
    }
   ],
   "source": [
    "# feature importance\n",
    "fimp = pd.DataFrame(model.feature_importances_, columns=[\"Importance\"])\n",
    "fimp[\"Feature\"] = X.columns\n",
    "fimp[\"Description\"] = X_desc[\"Variable\"].to_list()\n",
    "fimp = fimp[[\"Feature\", \"Importance\", \"Description\"]]\n",
    "fimp = fimp.sort_values(\"Importance\", ascending=False)\n",
    "print(\"\")\n",
    "print(\"Feature  Importance  Description\")\n",
    "for index,item in fimp.iterrows():\n",
    "    print(\"{:7s}  {:10.8f}  {:s}\".format(item[\"Feature\"],item[\"Importance\"], item[\"Description\"]))\n",
    "print(\"\")"
   ]
  },
  {
   "cell_type": "code",
   "execution_count": 29,
   "metadata": {},
   "outputs": [],
   "source": [
    "#\n",
    "# Part 4 - evaluate the model using test data\n",
    "#\n",
    "\n",
    "n_test    = len(Y_test)\n",
    "n_classes = Y.shape[1]"
   ]
  },
  {
   "cell_type": "code",
   "execution_count": 30,
   "metadata": {},
   "outputs": [
    {
     "name": "stdout",
     "output_type": "stream",
     "text": [
      "785\n"
     ]
    }
   ],
   "source": [
    "print(n_test)"
   ]
  },
  {
   "cell_type": "code",
   "execution_count": 31,
   "metadata": {},
   "outputs": [
    {
     "name": "stdout",
     "output_type": "stream",
     "text": [
      "10\n"
     ]
    }
   ],
   "source": [
    "print(n_classes)"
   ]
  },
  {
   "cell_type": "code",
   "execution_count": 32,
   "metadata": {},
   "outputs": [],
   "source": [
    "probs = model.predict_proba(X_test)"
   ]
  },
  {
   "cell_type": "code",
   "execution_count": 33,
   "metadata": {},
   "outputs": [
    {
     "name": "stdout",
     "output_type": "stream",
     "text": [
      "[array([[0.96, 0.04],\n",
      "       [0.96, 0.04],\n",
      "       [0.98, 0.02],\n",
      "       ...,\n",
      "       [0.88, 0.12],\n",
      "       [0.84, 0.16],\n",
      "       [0.74, 0.26]]), array([[0.81, 0.19],\n",
      "       [0.98, 0.02],\n",
      "       [0.65, 0.35],\n",
      "       ...,\n",
      "       [0.71, 0.29],\n",
      "       [0.91, 0.09],\n",
      "       [0.98, 0.02]]), array([[0.87, 0.13],\n",
      "       [0.94, 0.06],\n",
      "       [0.93, 0.07],\n",
      "       ...,\n",
      "       [0.84, 0.16],\n",
      "       [0.87, 0.13],\n",
      "       [0.97, 0.03]]), array([[0.91, 0.09],\n",
      "       [0.96, 0.04],\n",
      "       [0.76, 0.24],\n",
      "       ...,\n",
      "       [0.95, 0.05],\n",
      "       [0.71, 0.29],\n",
      "       [0.96, 0.04]]), array([[0.91, 0.09],\n",
      "       [0.97, 0.03],\n",
      "       [0.92, 0.08],\n",
      "       ...,\n",
      "       [0.83, 0.17],\n",
      "       [0.89, 0.11],\n",
      "       [0.98, 0.02]]), array([[0.88, 0.12],\n",
      "       [0.94, 0.06],\n",
      "       [0.91, 0.09],\n",
      "       ...,\n",
      "       [0.94, 0.06],\n",
      "       [0.93, 0.07],\n",
      "       [0.99, 0.01]]), array([[0.92, 0.08],\n",
      "       [0.96, 0.04],\n",
      "       [0.93, 0.07],\n",
      "       ...,\n",
      "       [0.94, 0.06],\n",
      "       [0.96, 0.04],\n",
      "       [0.97, 0.03]]), array([[0.91, 0.09],\n",
      "       [0.9 , 0.1 ],\n",
      "       [0.97, 0.03],\n",
      "       ...,\n",
      "       [0.98, 0.02],\n",
      "       [0.98, 0.02],\n",
      "       [0.83, 0.17]]), array([[0.86, 0.14],\n",
      "       [0.8 , 0.2 ],\n",
      "       [0.95, 0.05],\n",
      "       ...,\n",
      "       [0.95, 0.05],\n",
      "       [0.93, 0.07],\n",
      "       [0.84, 0.16]]), array([[0.97, 0.03],\n",
      "       [0.59, 0.41],\n",
      "       [1.  , 0.  ],\n",
      "       ...,\n",
      "       [0.98, 0.02],\n",
      "       [0.98, 0.02],\n",
      "       [0.74, 0.26]])]\n"
     ]
    }
   ],
   "source": [
    "print(probs)"
   ]
  },
  {
   "cell_type": "code",
   "execution_count": 34,
   "metadata": {},
   "outputs": [],
   "source": [
    "pi = [ [ probs[i][j][1] for i in range(0,n_classes)] for j in range(0,n_test)]"
   ]
  },
  {
   "cell_type": "code",
   "execution_count": 36,
   "metadata": {},
   "outputs": [
    {
     "name": "stdout",
     "output_type": "stream",
     "text": [
      "[[0.04, 0.19, 0.13, 0.09, 0.09, 0.12, 0.08, 0.09, 0.14, 0.03], [0.04, 0.02, 0.06, 0.04, 0.03, 0.06, 0.04, 0.1, 0.2, 0.41], [0.02, 0.35, 0.07, 0.24, 0.08, 0.09, 0.07, 0.03, 0.05, 0.0], [0.09, 0.16, 0.06, 0.07, 0.13, 0.12, 0.08, 0.15, 0.11, 0.03], [0.06, 0.08, 0.03, 0.09, 0.05, 0.06, 0.19, 0.05, 0.22, 0.17], [0.03, 0.15, 0.15, 0.11, 0.05, 0.16, 0.12, 0.1, 0.08, 0.05], [0.05, 0.02, 0.08, 0.06, 0.08, 0.19, 0.25, 0.1, 0.12, 0.05], [0.02, 0.05, 0.05, 0.08, 0.05, 0.1, 0.06, 0.12, 0.38, 0.09], [0.17, 0.05, 0.07, 0.04, 0.11, 0.11, 0.17, 0.07, 0.11, 0.1], [0.18, 0.3, 0.08, 0.07, 0.09, 0.03, 0.03, 0.07, 0.02, 0.13], [0.01, 0.12, 0.13, 0.2, 0.05, 0.02, 0.05, 0.2, 0.1, 0.12], [0.04, 0.06, 0.12, 0.07, 0.22, 0.11, 0.12, 0.09, 0.07, 0.1], [0.01, 0.08, 0.15, 0.12, 0.09, 0.12, 0.09, 0.23, 0.1, 0.01], [0.04, 0.29, 0.08, 0.03, 0.05, 0.09, 0.11, 0.05, 0.12, 0.14], [0.23, 0.18, 0.04, 0.1, 0.02, 0.04, 0.03, 0.05, 0.03, 0.28], [0.01, 0.01, 0.09, 0.09, 0.07, 0.1, 0.07, 0.29, 0.22, 0.05], [0.04, 0.05, 0.11, 0.15, 0.14, 0.13, 0.11, 0.1, 0.07, 0.1], [0.06, 0.05, 0.11, 0.1, 0.05, 0.03, 0.11, 0.11, 0.18, 0.2], [0.06, 0.13, 0.04, 0.13, 0.18, 0.11, 0.16, 0.1, 0.04, 0.05], [0.45, 0.13, 0.15, 0.01, 0.03, 0.12, 0.05, 0.04, 0.0, 0.02], [0.43, 0.14, 0.02, 0.07, 0.06, 0.21, 0.01, 0.03, 0.0, 0.03], [0.04, 0.2, 0.14, 0.07, 0.03, 0.05, 0.11, 0.1, 0.2, 0.06], [0.11, 0.12, 0.03, 0.15, 0.06, 0.23, 0.02, 0.11, 0.11, 0.06], [0.28, 0.19, 0.27, 0.03, 0.05, 0.01, 0.04, 0.08, 0.02, 0.03], [0.01, 0.03, 0.03, 0.23, 0.04, 0.03, 0.11, 0.08, 0.34, 0.1], [0.03, 0.17, 0.14, 0.04, 0.13, 0.25, 0.06, 0.03, 0.07, 0.08], [0.36, 0.2, 0.1, 0.09, 0.01, 0.03, 0.12, 0.05, 0.04, 0.0], [0.04, 0.4, 0.09, 0.06, 0.01, 0.09, 0.15, 0.0, 0.11, 0.05], [0.14, 0.13, 0.07, 0.08, 0.03, 0.11, 0.19, 0.15, 0.01, 0.09], [0.55, 0.01, 0.01, 0.01, 0.08, 0.06, 0.04, 0.02, 0.04, 0.18], [0.02, 0.1, 0.07, 0.08, 0.13, 0.15, 0.03, 0.17, 0.16, 0.09], [0.07, 0.13, 0.18, 0.15, 0.04, 0.16, 0.08, 0.05, 0.07, 0.07], [0.08, 0.04, 0.04, 0.13, 0.16, 0.05, 0.04, 0.14, 0.15, 0.17], [0.03, 0.01, 0.09, 0.08, 0.26, 0.28, 0.17, 0.06, 0.0, 0.02], [0.0, 0.02, 0.24, 0.14, 0.15, 0.09, 0.26, 0.09, 0.0, 0.01], [0.07, 0.05, 0.13, 0.16, 0.0, 0.07, 0.14, 0.07, 0.11, 0.2], [0.02, 0.11, 0.08, 0.12, 0.16, 0.11, 0.09, 0.15, 0.07, 0.09], [0.03, 0.04, 0.12, 0.11, 0.05, 0.09, 0.06, 0.09, 0.14, 0.27], [0.12, 0.08, 0.03, 0.11, 0.14, 0.05, 0.08, 0.14, 0.16, 0.09], [0.01, 0.16, 0.33, 0.06, 0.04, 0.2, 0.16, 0.0, 0.01, 0.03], [0.02, 0.16, 0.26, 0.12, 0.13, 0.13, 0.16, 0.01, 0.0, 0.01], [0.2, 0.29, 0.07, 0.08, 0.03, 0.08, 0.12, 0.03, 0.08, 0.02], [0.12, 0.1, 0.12, 0.1, 0.16, 0.25, 0.08, 0.06, 0.0, 0.01], [0.09, 0.22, 0.05, 0.05, 0.06, 0.08, 0.05, 0.22, 0.07, 0.11], [0.07, 0.03, 0.03, 0.18, 0.07, 0.08, 0.08, 0.14, 0.19, 0.13], [0.02, 0.06, 0.12, 0.09, 0.25, 0.12, 0.23, 0.06, 0.01, 0.04], [0.01, 0.18, 0.21, 0.18, 0.12, 0.1, 0.14, 0.04, 0.02, 0.0], [0.16, 0.11, 0.07, 0.12, 0.16, 0.12, 0.11, 0.04, 0.03, 0.08], [0.18, 0.12, 0.18, 0.12, 0.1, 0.07, 0.16, 0.03, 0.0, 0.04], [0.16, 0.14, 0.13, 0.02, 0.1, 0.05, 0.11, 0.04, 0.13, 0.12], [0.19, 0.03, 0.1, 0.18, 0.04, 0.06, 0.15, 0.03, 0.14, 0.08], [0.07, 0.02, 0.14, 0.02, 0.13, 0.39, 0.04, 0.08, 0.03, 0.08], [0.08, 0.03, 0.1, 0.14, 0.06, 0.01, 0.06, 0.04, 0.33, 0.15], [0.01, 0.05, 0.05, 0.14, 0.06, 0.09, 0.26, 0.2, 0.08, 0.06], [0.09, 0.05, 0.1, 0.03, 0.05, 0.07, 0.13, 0.18, 0.18, 0.12], [0.32, 0.23, 0.05, 0.03, 0.06, 0.03, 0.13, 0.06, 0.03, 0.06], [0.01, 0.02, 0.02, 0.14, 0.09, 0.08, 0.33, 0.16, 0.08, 0.07], [0.15, 0.14, 0.12, 0.11, 0.14, 0.07, 0.1, 0.04, 0.08, 0.05], [0.12, 0.0, 0.07, 0.1, 0.04, 0.14, 0.05, 0.21, 0.16, 0.11], [0.03, 0.13, 0.09, 0.17, 0.03, 0.06, 0.13, 0.06, 0.17, 0.13], [0.1, 0.18, 0.21, 0.17, 0.07, 0.11, 0.08, 0.03, 0.01, 0.04], [0.09, 0.03, 0.02, 0.11, 0.03, 0.18, 0.14, 0.1, 0.06, 0.24], [0.08, 0.14, 0.03, 0.07, 0.07, 0.12, 0.19, 0.1, 0.12, 0.08], [0.15, 0.3, 0.11, 0.17, 0.13, 0.09, 0.03, 0.01, 0.01, 0.0], [0.08, 0.08, 0.15, 0.16, 0.17, 0.18, 0.03, 0.07, 0.06, 0.02], [0.04, 0.05, 0.08, 0.12, 0.11, 0.15, 0.06, 0.05, 0.05, 0.29], [0.09, 0.13, 0.04, 0.05, 0.02, 0.14, 0.03, 0.16, 0.14, 0.2], [0.32, 0.06, 0.08, 0.11, 0.21, 0.05, 0.01, 0.03, 0.08, 0.05], [0.02, 0.02, 0.02, 0.02, 0.12, 0.13, 0.15, 0.29, 0.16, 0.07], [0.22, 0.13, 0.15, 0.13, 0.07, 0.01, 0.17, 0.08, 0.02, 0.02], [0.05, 0.15, 0.01, 0.07, 0.04, 0.17, 0.09, 0.12, 0.16, 0.14], [0.0, 0.09, 0.32, 0.05, 0.2, 0.21, 0.05, 0.02, 0.05, 0.01], [0.13, 0.1, 0.07, 0.06, 0.09, 0.15, 0.08, 0.02, 0.16, 0.14], [0.06, 0.18, 0.06, 0.13, 0.12, 0.12, 0.09, 0.08, 0.07, 0.09], [0.11, 0.11, 0.08, 0.05, 0.22, 0.28, 0.03, 0.02, 0.01, 0.09], [0.11, 0.11, 0.02, 0.03, 0.13, 0.07, 0.12, 0.13, 0.19, 0.09], [0.27, 0.07, 0.09, 0.14, 0.05, 0.01, 0.13, 0.2, 0.02, 0.02], [0.01, 0.01, 0.02, 0.07, 0.05, 0.0, 0.2, 0.09, 0.44, 0.11], [0.07, 0.31, 0.08, 0.14, 0.14, 0.11, 0.05, 0.03, 0.05, 0.02], [0.69, 0.1, 0.01, 0.01, 0.06, 0.08, 0.03, 0.02, 0.0, 0.0], [0.05, 0.07, 0.08, 0.03, 0.03, 0.08, 0.17, 0.09, 0.23, 0.17], [0.1, 0.06, 0.08, 0.3, 0.16, 0.06, 0.05, 0.02, 0.12, 0.05], [0.1, 0.03, 0.02, 0.02, 0.03, 0.1, 0.14, 0.06, 0.19, 0.31], [0.05, 0.1, 0.22, 0.16, 0.21, 0.04, 0.08, 0.04, 0.1, 0.0], [0.05, 0.02, 0.01, 0.04, 0.19, 0.1, 0.12, 0.2, 0.18, 0.09], [0.16, 0.05, 0.01, 0.26, 0.12, 0.1, 0.06, 0.05, 0.09, 0.1], [0.26, 0.17, 0.19, 0.05, 0.03, 0.12, 0.1, 0.04, 0.0, 0.04], [0.15, 0.07, 0.06, 0.24, 0.09, 0.12, 0.07, 0.06, 0.07, 0.07], [0.05, 0.04, 0.14, 0.12, 0.19, 0.12, 0.07, 0.08, 0.11, 0.08], [0.0, 0.01, 0.08, 0.09, 0.11, 0.11, 0.17, 0.09, 0.26, 0.08], [0.29, 0.03, 0.12, 0.17, 0.03, 0.05, 0.01, 0.08, 0.14, 0.08], [0.09, 0.28, 0.1, 0.2, 0.16, 0.03, 0.05, 0.03, 0.04, 0.02], [0.3, 0.07, 0.08, 0.08, 0.04, 0.14, 0.06, 0.01, 0.08, 0.14], [0.02, 0.0, 0.12, 0.09, 0.03, 0.21, 0.17, 0.11, 0.08, 0.17], [0.03, 0.02, 0.04, 0.09, 0.16, 0.1, 0.3, 0.19, 0.07, 0.0], [0.14, 0.01, 0.18, 0.05, 0.24, 0.15, 0.22, 0.01, 0.0, 0.0], [0.66, 0.03, 0.04, 0.0, 0.01, 0.01, 0.03, 0.01, 0.11, 0.1], [0.03, 0.06, 0.26, 0.07, 0.01, 0.22, 0.05, 0.06, 0.13, 0.11], [0.14, 0.14, 0.01, 0.12, 0.03, 0.08, 0.05, 0.06, 0.21, 0.16], [0.04, 0.12, 0.35, 0.16, 0.06, 0.08, 0.06, 0.02, 0.06, 0.05], [0.22, 0.23, 0.23, 0.01, 0.05, 0.14, 0.03, 0.03, 0.02, 0.04], [0.05, 0.08, 0.06, 0.27, 0.01, 0.08, 0.12, 0.12, 0.18, 0.03], [0.13, 0.11, 0.04, 0.08, 0.09, 0.07, 0.15, 0.08, 0.11, 0.14], [0.12, 0.32, 0.08, 0.04, 0.16, 0.05, 0.04, 0.03, 0.12, 0.04], [0.01, 0.08, 0.09, 0.11, 0.11, 0.1, 0.15, 0.16, 0.09, 0.1], [0.28, 0.21, 0.14, 0.06, 0.06, 0.11, 0.03, 0.04, 0.03, 0.04], [0.01, 0.01, 0.05, 0.05, 0.02, 0.06, 0.06, 0.17, 0.2, 0.37], [0.13, 0.12, 0.09, 0.02, 0.0, 0.01, 0.18, 0.14, 0.1, 0.21], [0.24, 0.35, 0.01, 0.06, 0.0, 0.06, 0.07, 0.07, 0.03, 0.11], [0.05, 0.06, 0.1, 0.19, 0.03, 0.14, 0.04, 0.08, 0.21, 0.1], [0.08, 0.15, 0.11, 0.08, 0.1, 0.09, 0.12, 0.07, 0.06, 0.14], [0.04, 0.07, 0.02, 0.07, 0.05, 0.07, 0.19, 0.12, 0.17, 0.2], [0.1, 0.08, 0.16, 0.11, 0.03, 0.16, 0.08, 0.11, 0.06, 0.11], [0.1, 0.18, 0.11, 0.07, 0.22, 0.12, 0.08, 0.07, 0.01, 0.04], [0.07, 0.02, 0.05, 0.11, 0.06, 0.14, 0.12, 0.1, 0.08, 0.25], [0.11, 0.03, 0.04, 0.17, 0.09, 0.04, 0.07, 0.13, 0.15, 0.17], [0.06, 0.04, 0.08, 0.17, 0.21, 0.09, 0.1, 0.1, 0.12, 0.03], [0.03, 0.07, 0.02, 0.03, 0.09, 0.12, 0.08, 0.18, 0.28, 0.1], [0.02, 0.15, 0.03, 0.16, 0.11, 0.14, 0.18, 0.07, 0.05, 0.09], [0.03, 0.09, 0.07, 0.12, 0.11, 0.1, 0.1, 0.12, 0.2, 0.06], [0.05, 0.05, 0.2, 0.12, 0.13, 0.18, 0.1, 0.05, 0.11, 0.01], [0.01, 0.03, 0.0, 0.1, 0.09, 0.21, 0.24, 0.05, 0.14, 0.13], [0.03, 0.16, 0.13, 0.07, 0.0, 0.03, 0.01, 0.34, 0.03, 0.2], [0.16, 0.08, 0.13, 0.27, 0.06, 0.1, 0.05, 0.05, 0.06, 0.04], [0.09, 0.09, 0.17, 0.09, 0.05, 0.16, 0.03, 0.08, 0.11, 0.13], [0.13, 0.03, 0.09, 0.05, 0.02, 0.27, 0.15, 0.08, 0.12, 0.06], [0.08, 0.05, 0.05, 0.23, 0.1, 0.11, 0.03, 0.09, 0.2, 0.06], [0.06, 0.08, 0.03, 0.06, 0.07, 0.09, 0.06, 0.06, 0.28, 0.21], [0.16, 0.05, 0.06, 0.05, 0.14, 0.06, 0.03, 0.01, 0.08, 0.36], [0.01, 0.07, 0.08, 0.07, 0.1, 0.09, 0.15, 0.11, 0.28, 0.04], [0.06, 0.04, 0.07, 0.1, 0.13, 0.17, 0.05, 0.19, 0.08, 0.11], [0.02, 0.08, 0.05, 0.1, 0.07, 0.03, 0.15, 0.11, 0.23, 0.16], [0.01, 0.03, 0.03, 0.07, 0.15, 0.1, 0.27, 0.15, 0.13, 0.06], [0.07, 0.22, 0.2, 0.08, 0.09, 0.28, 0.01, 0.03, 0.0, 0.02], [0.24, 0.08, 0.05, 0.1, 0.07, 0.11, 0.15, 0.07, 0.04, 0.09], [0.04, 0.04, 0.0, 0.12, 0.08, 0.13, 0.23, 0.1, 0.15, 0.11], [0.15, 0.16, 0.04, 0.15, 0.25, 0.14, 0.02, 0.03, 0.01, 0.05], [0.21, 0.24, 0.08, 0.2, 0.0, 0.19, 0.04, 0.0, 0.0, 0.04], [0.51, 0.14, 0.07, 0.1, 0.01, 0.05, 0.07, 0.0, 0.01, 0.04], [0.19, 0.08, 0.04, 0.09, 0.07, 0.05, 0.02, 0.04, 0.09, 0.33], [0.07, 0.03, 0.03, 0.03, 0.1, 0.1, 0.12, 0.17, 0.27, 0.08], [0.14, 0.19, 0.1, 0.1, 0.14, 0.17, 0.05, 0.06, 0.03, 0.02], [0.02, 0.06, 0.1, 0.12, 0.05, 0.04, 0.12, 0.29, 0.12, 0.08], [0.09, 0.06, 0.06, 0.11, 0.12, 0.01, 0.11, 0.16, 0.08, 0.2], [0.08, 0.23, 0.25, 0.17, 0.13, 0.08, 0.04, 0.01, 0.01, 0.0], [0.0, 0.05, 0.12, 0.07, 0.03, 0.1, 0.11, 0.22, 0.16, 0.14], [0.03, 0.04, 0.02, 0.04, 0.07, 0.31, 0.32, 0.04, 0.11, 0.02], [0.08, 0.05, 0.07, 0.08, 0.07, 0.08, 0.09, 0.34, 0.08, 0.06], [0.25, 0.17, 0.17, 0.1, 0.04, 0.03, 0.05, 0.05, 0.06, 0.08], [0.01, 0.12, 0.07, 0.09, 0.13, 0.1, 0.1, 0.13, 0.04, 0.21], [0.2, 0.04, 0.07, 0.07, 0.06, 0.05, 0.06, 0.1, 0.15, 0.2], [0.29, 0.26, 0.13, 0.16, 0.04, 0.03, 0.04, 0.02, 0.0, 0.03], [0.01, 0.01, 0.03, 0.19, 0.24, 0.08, 0.1, 0.22, 0.11, 0.01], [0.04, 0.17, 0.07, 0.07, 0.13, 0.15, 0.05, 0.12, 0.11, 0.09], [0.1, 0.01, 0.01, 0.08, 0.06, 0.22, 0.08, 0.12, 0.14, 0.18], [0.02, 0.23, 0.18, 0.26, 0.09, 0.1, 0.05, 0.04, 0.03, 0.0], [0.03, 0.22, 0.18, 0.07, 0.14, 0.06, 0.18, 0.1, 0.01, 0.01], [0.12, 0.15, 0.21, 0.15, 0.07, 0.05, 0.07, 0.07, 0.04, 0.07], [0.1, 0.08, 0.09, 0.05, 0.04, 0.08, 0.06, 0.1, 0.33, 0.07], [0.06, 0.06, 0.12, 0.07, 0.12, 0.1, 0.06, 0.18, 0.17, 0.06], [0.02, 0.02, 0.08, 0.03, 0.07, 0.2, 0.16, 0.16, 0.12, 0.14], [0.16, 0.09, 0.05, 0.1, 0.07, 0.06, 0.23, 0.13, 0.06, 0.05], [0.32, 0.14, 0.04, 0.02, 0.02, 0.33, 0.01, 0.05, 0.03, 0.04], [0.06, 0.05, 0.08, 0.14, 0.02, 0.11, 0.1, 0.16, 0.1, 0.18], [0.09, 0.03, 0.04, 0.03, 0.14, 0.03, 0.12, 0.12, 0.17, 0.23], [0.0, 0.04, 0.04, 0.13, 0.12, 0.1, 0.12, 0.22, 0.17, 0.06], [0.03, 0.04, 0.04, 0.2, 0.17, 0.09, 0.07, 0.22, 0.07, 0.07], [0.13, 0.13, 0.16, 0.06, 0.08, 0.04, 0.14, 0.14, 0.06, 0.06], [0.06, 0.07, 0.07, 0.08, 0.09, 0.33, 0.2, 0.04, 0.03, 0.03], [0.03, 0.15, 0.1, 0.26, 0.09, 0.08, 0.11, 0.13, 0.03, 0.02], [0.12, 0.1, 0.04, 0.14, 0.07, 0.04, 0.1, 0.01, 0.12, 0.26], [0.03, 0.1, 0.08, 0.32, 0.16, 0.16, 0.08, 0.05, 0.01, 0.01], [0.13, 0.09, 0.17, 0.15, 0.18, 0.06, 0.07, 0.07, 0.06, 0.02], [0.03, 0.13, 0.09, 0.03, 0.22, 0.36, 0.01, 0.03, 0.02, 0.08], [0.09, 0.05, 0.03, 0.03, 0.13, 0.14, 0.2, 0.1, 0.12, 0.11], [0.16, 0.04, 0.08, 0.07, 0.04, 0.1, 0.21, 0.07, 0.08, 0.15], [0.03, 0.14, 0.03, 0.22, 0.09, 0.09, 0.12, 0.1, 0.09, 0.09], [0.05, 0.01, 0.03, 0.09, 0.16, 0.19, 0.24, 0.06, 0.09, 0.08], [0.1, 0.12, 0.15, 0.06, 0.11, 0.09, 0.14, 0.12, 0.06, 0.05], [0.05, 0.08, 0.06, 0.13, 0.06, 0.08, 0.12, 0.13, 0.14, 0.15], [0.16, 0.1, 0.03, 0.08, 0.04, 0.27, 0.01, 0.06, 0.1, 0.15], [0.17, 0.02, 0.11, 0.09, 0.06, 0.09, 0.03, 0.13, 0.14, 0.16], [0.01, 0.0, 0.03, 0.0, 0.19, 0.21, 0.14, 0.11, 0.2, 0.11], [0.05, 0.03, 0.08, 0.02, 0.02, 0.14, 0.1, 0.13, 0.1, 0.33], [0.1, 0.1, 0.14, 0.18, 0.07, 0.12, 0.02, 0.02, 0.19, 0.06], [0.02, 0.03, 0.17, 0.11, 0.17, 0.25, 0.16, 0.04, 0.03, 0.02], [0.12, 0.02, 0.06, 0.1, 0.11, 0.17, 0.1, 0.06, 0.14, 0.12], [0.06, 0.05, 0.06, 0.11, 0.11, 0.1, 0.08, 0.06, 0.28, 0.09], [0.07, 0.1, 0.11, 0.25, 0.12, 0.06, 0.27, 0.02, 0.0, 0.0], [0.08, 0.1, 0.04, 0.06, 0.03, 0.02, 0.03, 0.06, 0.4, 0.18], [0.12, 0.2, 0.22, 0.13, 0.04, 0.11, 0.07, 0.02, 0.05, 0.04], [0.16, 0.11, 0.13, 0.06, 0.09, 0.15, 0.15, 0.08, 0.05, 0.02], [0.08, 0.05, 0.04, 0.03, 0.05, 0.06, 0.15, 0.1, 0.25, 0.19], [0.33, 0.1, 0.15, 0.0, 0.2, 0.11, 0.04, 0.02, 0.02, 0.03], [0.01, 0.05, 0.07, 0.04, 0.16, 0.22, 0.23, 0.03, 0.17, 0.02], [0.1, 0.1, 0.03, 0.17, 0.21, 0.05, 0.07, 0.09, 0.14, 0.04], [0.04, 0.22, 0.02, 0.07, 0.07, 0.12, 0.06, 0.19, 0.05, 0.16], [0.03, 0.01, 0.04, 0.05, 0.02, 0.04, 0.16, 0.16, 0.18, 0.31], [0.01, 0.01, 0.01, 0.05, 0.07, 0.07, 0.28, 0.3, 0.1, 0.1], [0.0, 0.09, 0.16, 0.03, 0.03, 0.13, 0.07, 0.33, 0.13, 0.03], [0.14, 0.12, 0.15, 0.04, 0.17, 0.03, 0.11, 0.07, 0.03, 0.14], [0.06, 0.15, 0.09, 0.11, 0.17, 0.07, 0.19, 0.03, 0.06, 0.07], [0.31, 0.06, 0.03, 0.04, 0.1, 0.04, 0.03, 0.03, 0.08, 0.28], [0.01, 0.03, 0.0, 0.03, 0.14, 0.05, 0.1, 0.33, 0.18, 0.13], [0.01, 0.13, 0.05, 0.05, 0.19, 0.32, 0.11, 0.09, 0.04, 0.01], [0.39, 0.1, 0.07, 0.07, 0.07, 0.07, 0.04, 0.02, 0.03, 0.14], [0.2, 0.07, 0.03, 0.06, 0.0, 0.15, 0.11, 0.2, 0.1, 0.08], [0.37, 0.16, 0.2, 0.04, 0.06, 0.03, 0.07, 0.06, 0.01, 0.0], [0.09, 0.18, 0.2, 0.13, 0.12, 0.09, 0.11, 0.02, 0.02, 0.04], [0.06, 0.08, 0.03, 0.12, 0.2, 0.11, 0.08, 0.14, 0.04, 0.14], [0.02, 0.08, 0.13, 0.21, 0.06, 0.04, 0.09, 0.23, 0.1, 0.04], [0.08, 0.23, 0.04, 0.09, 0.11, 0.05, 0.13, 0.07, 0.1, 0.1], [0.01, 0.05, 0.12, 0.06, 0.14, 0.04, 0.13, 0.23, 0.18, 0.04], [0.07, 0.27, 0.13, 0.15, 0.19, 0.12, 0.04, 0.01, 0.01, 0.01], [0.11, 0.05, 0.15, 0.13, 0.1, 0.2, 0.04, 0.03, 0.06, 0.13], [0.11, 0.12, 0.14, 0.07, 0.11, 0.09, 0.18, 0.07, 0.06, 0.05], [0.44, 0.09, 0.1, 0.08, 0.08, 0.02, 0.09, 0.07, 0.02, 0.01], [0.05, 0.14, 0.03, 0.15, 0.19, 0.05, 0.1, 0.12, 0.07, 0.1], [0.3, 0.11, 0.08, 0.03, 0.02, 0.07, 0.03, 0.01, 0.1, 0.25], [0.08, 0.13, 0.07, 0.07, 0.09, 0.07, 0.13, 0.18, 0.15, 0.03], [0.05, 0.34, 0.01, 0.15, 0.2, 0.11, 0.1, 0.02, 0.0, 0.02], [0.02, 0.07, 0.16, 0.01, 0.09, 0.2, 0.09, 0.04, 0.27, 0.05], [0.02, 0.05, 0.06, 0.07, 0.22, 0.1, 0.11, 0.15, 0.18, 0.04], [0.01, 0.09, 0.17, 0.09, 0.11, 0.11, 0.05, 0.09, 0.1, 0.18], [0.24, 0.09, 0.05, 0.07, 0.07, 0.09, 0.1, 0.06, 0.14, 0.09], [0.05, 0.1, 0.24, 0.17, 0.2, 0.09, 0.11, 0.0, 0.0, 0.04], [0.05, 0.11, 0.05, 0.05, 0.13, 0.11, 0.08, 0.14, 0.2, 0.08], [0.03, 0.22, 0.18, 0.08, 0.27, 0.07, 0.11, 0.04, 0.0, 0.0], [0.13, 0.21, 0.11, 0.22, 0.17, 0.13, 0.01, 0.01, 0.01, 0.0], [0.08, 0.03, 0.13, 0.09, 0.07, 0.19, 0.17, 0.12, 0.05, 0.07], [0.12, 0.24, 0.12, 0.06, 0.2, 0.04, 0.12, 0.03, 0.01, 0.06], [0.12, 0.07, 0.06, 0.08, 0.09, 0.04, 0.17, 0.1, 0.12, 0.15], [0.04, 0.06, 0.06, 0.13, 0.1, 0.07, 0.11, 0.08, 0.12, 0.23], [0.32, 0.3, 0.16, 0.02, 0.05, 0.04, 0.08, 0.02, 0.0, 0.01], [0.02, 0.03, 0.06, 0.06, 0.28, 0.06, 0.13, 0.16, 0.18, 0.02], [0.14, 0.1, 0.1, 0.15, 0.12, 0.19, 0.09, 0.05, 0.02, 0.04], [0.02, 0.17, 0.11, 0.02, 0.05, 0.18, 0.04, 0.09, 0.11, 0.21], [0.02, 0.1, 0.12, 0.11, 0.13, 0.22, 0.07, 0.12, 0.1, 0.01], [0.03, 0.14, 0.16, 0.19, 0.23, 0.09, 0.06, 0.07, 0.02, 0.01], [0.0, 0.06, 0.12, 0.21, 0.19, 0.21, 0.14, 0.01, 0.02, 0.04], [0.09, 0.12, 0.08, 0.05, 0.13, 0.03, 0.12, 0.04, 0.14, 0.2], [0.16, 0.06, 0.19, 0.03, 0.11, 0.1, 0.14, 0.08, 0.03, 0.1], [0.01, 0.05, 0.13, 0.05, 0.09, 0.11, 0.08, 0.17, 0.2, 0.11], [0.06, 0.13, 0.04, 0.05, 0.05, 0.11, 0.09, 0.11, 0.13, 0.23], [0.08, 0.23, 0.45, 0.1, 0.03, 0.02, 0.08, 0.01, 0.0, 0.0], [0.23, 0.04, 0.07, 0.11, 0.03, 0.12, 0.03, 0.02, 0.23, 0.12], [0.03, 0.06, 0.03, 0.15, 0.11, 0.12, 0.14, 0.17, 0.07, 0.12], [0.06, 0.33, 0.19, 0.08, 0.13, 0.07, 0.05, 0.07, 0.01, 0.01], [0.18, 0.2, 0.12, 0.02, 0.08, 0.09, 0.2, 0.08, 0.01, 0.02], [0.01, 0.06, 0.02, 0.05, 0.36, 0.09, 0.21, 0.08, 0.06, 0.06], [0.05, 0.04, 0.04, 0.06, 0.28, 0.06, 0.09, 0.17, 0.18, 0.03], [0.17, 0.08, 0.17, 0.09, 0.03, 0.05, 0.02, 0.11, 0.19, 0.09], [0.02, 0.01, 0.03, 0.24, 0.09, 0.05, 0.11, 0.18, 0.18, 0.09], [0.05, 0.05, 0.06, 0.15, 0.12, 0.2, 0.2, 0.03, 0.08, 0.06], [0.11, 0.08, 0.09, 0.31, 0.07, 0.11, 0.11, 0.06, 0.01, 0.05], [0.1, 0.06, 0.04, 0.14, 0.09, 0.16, 0.08, 0.2, 0.08, 0.05], [0.06, 0.03, 0.04, 0.04, 0.08, 0.11, 0.05, 0.1, 0.14, 0.35], [0.03, 0.16, 0.06, 0.05, 0.14, 0.11, 0.1, 0.1, 0.15, 0.1], [0.05, 0.03, 0.02, 0.1, 0.21, 0.08, 0.03, 0.12, 0.29, 0.07], [0.06, 0.07, 0.04, 0.06, 0.07, 0.03, 0.19, 0.22, 0.16, 0.1], [0.03, 0.27, 0.05, 0.11, 0.04, 0.08, 0.11, 0.2, 0.06, 0.05], [0.15, 0.04, 0.1, 0.26, 0.1, 0.12, 0.1, 0.04, 0.01, 0.08], [0.0, 0.21, 0.22, 0.23, 0.18, 0.09, 0.02, 0.02, 0.01, 0.02], [0.08, 0.15, 0.17, 0.11, 0.02, 0.14, 0.22, 0.07, 0.01, 0.03], [0.01, 0.13, 0.09, 0.19, 0.14, 0.11, 0.05, 0.06, 0.1, 0.12], [0.14, 0.16, 0.2, 0.08, 0.23, 0.13, 0.02, 0.01, 0.0, 0.03], [0.11, 0.04, 0.01, 0.02, 0.05, 0.09, 0.11, 0.09, 0.21, 0.27], [0.09, 0.11, 0.03, 0.08, 0.1, 0.24, 0.11, 0.09, 0.14, 0.01], [0.02, 0.05, 0.1, 0.1, 0.14, 0.09, 0.11, 0.07, 0.08, 0.24], [0.07, 0.09, 0.16, 0.19, 0.18, 0.05, 0.05, 0.06, 0.07, 0.08], [0.04, 0.21, 0.27, 0.08, 0.14, 0.07, 0.09, 0.06, 0.02, 0.02], [0.01, 0.05, 0.09, 0.13, 0.09, 0.13, 0.1, 0.11, 0.21, 0.08], [0.08, 0.11, 0.1, 0.12, 0.1, 0.19, 0.15, 0.08, 0.03, 0.04], [0.01, 0.01, 0.03, 0.16, 0.09, 0.12, 0.24, 0.11, 0.16, 0.07], [0.12, 0.04, 0.15, 0.06, 0.1, 0.09, 0.08, 0.15, 0.1, 0.11], [0.11, 0.13, 0.17, 0.17, 0.05, 0.11, 0.06, 0.12, 0.02, 0.06], [0.03, 0.26, 0.17, 0.19, 0.12, 0.07, 0.11, 0.0, 0.01, 0.04], [0.29, 0.01, 0.01, 0.03, 0.01, 0.01, 0.01, 0.04, 0.13, 0.46], [0.02, 0.08, 0.14, 0.12, 0.24, 0.09, 0.11, 0.12, 0.05, 0.03], [0.08, 0.05, 0.08, 0.0, 0.02, 0.16, 0.11, 0.15, 0.19, 0.16], [0.05, 0.05, 0.06, 0.11, 0.17, 0.12, 0.03, 0.18, 0.08, 0.15], [0.01, 0.03, 0.03, 0.03, 0.1, 0.13, 0.21, 0.23, 0.21, 0.02], [0.09, 0.03, 0.06, 0.19, 0.09, 0.11, 0.15, 0.12, 0.07, 0.09], [0.01, 0.06, 0.05, 0.04, 0.0, 0.23, 0.15, 0.1, 0.1, 0.26], [0.09, 0.09, 0.12, 0.24, 0.11, 0.14, 0.01, 0.14, 0.04, 0.02], [0.08, 0.04, 0.03, 0.04, 0.07, 0.09, 0.27, 0.14, 0.1, 0.14], [0.14, 0.01, 0.12, 0.11, 0.04, 0.03, 0.07, 0.05, 0.12, 0.31], [0.04, 0.03, 0.08, 0.1, 0.04, 0.1, 0.13, 0.04, 0.16, 0.28], [0.06, 0.15, 0.08, 0.09, 0.11, 0.16, 0.2, 0.02, 0.1, 0.03], [0.09, 0.1, 0.08, 0.1, 0.11, 0.06, 0.14, 0.1, 0.12, 0.1], [0.08, 0.01, 0.03, 0.18, 0.04, 0.09, 0.11, 0.16, 0.19, 0.11], [0.04, 0.12, 0.11, 0.07, 0.22, 0.17, 0.09, 0.14, 0.02, 0.02], [0.01, 0.06, 0.1, 0.1, 0.16, 0.22, 0.16, 0.09, 0.04, 0.06], [0.02, 0.14, 0.05, 0.11, 0.2, 0.2, 0.14, 0.11, 0.01, 0.02], [0.15, 0.12, 0.21, 0.09, 0.09, 0.11, 0.12, 0.05, 0.02, 0.04], [0.0, 0.03, 0.04, 0.03, 0.02, 0.14, 0.1, 0.21, 0.32, 0.11], [0.06, 0.03, 0.03, 0.17, 0.15, 0.12, 0.04, 0.11, 0.14, 0.15], [0.01, 0.08, 0.22, 0.22, 0.2, 0.13, 0.06, 0.03, 0.0, 0.05], [0.01, 0.07, 0.17, 0.3, 0.08, 0.11, 0.03, 0.08, 0.01, 0.14], [0.14, 0.29, 0.05, 0.03, 0.06, 0.09, 0.06, 0.03, 0.05, 0.2], [0.05, 0.43, 0.33, 0.04, 0.06, 0.0, 0.06, 0.01, 0.02, 0.0], [0.02, 0.11, 0.06, 0.19, 0.24, 0.21, 0.06, 0.05, 0.03, 0.03], [0.15, 0.29, 0.3, 0.05, 0.11, 0.06, 0.02, 0.0, 0.02, 0.0], [0.02, 0.03, 0.11, 0.15, 0.05, 0.08, 0.11, 0.07, 0.18, 0.2], [0.12, 0.07, 0.02, 0.05, 0.07, 0.17, 0.13, 0.15, 0.08, 0.14], [0.04, 0.07, 0.15, 0.14, 0.05, 0.03, 0.14, 0.06, 0.05, 0.27], [0.02, 0.07, 0.14, 0.07, 0.19, 0.21, 0.07, 0.04, 0.1, 0.09], [0.02, 0.11, 0.26, 0.07, 0.1, 0.11, 0.1, 0.1, 0.1, 0.03], [0.09, 0.11, 0.22, 0.06, 0.31, 0.06, 0.07, 0.05, 0.01, 0.02], [0.05, 0.1, 0.05, 0.03, 0.21, 0.17, 0.13, 0.08, 0.12, 0.06], [0.05, 0.08, 0.06, 0.1, 0.11, 0.15, 0.07, 0.1, 0.05, 0.23], [0.07, 0.05, 0.09, 0.13, 0.05, 0.06, 0.04, 0.21, 0.16, 0.14], [0.09, 0.31, 0.04, 0.09, 0.1, 0.13, 0.1, 0.07, 0.05, 0.02], [0.05, 0.11, 0.25, 0.1, 0.25, 0.04, 0.13, 0.05, 0.01, 0.01], [0.07, 0.07, 0.06, 0.14, 0.18, 0.13, 0.07, 0.06, 0.06, 0.16], [0.2, 0.16, 0.12, 0.08, 0.1, 0.07, 0.03, 0.05, 0.07, 0.12], [0.11, 0.0, 0.06, 0.08, 0.14, 0.14, 0.07, 0.09, 0.19, 0.12], [0.04, 0.1, 0.16, 0.04, 0.07, 0.09, 0.07, 0.21, 0.15, 0.07], [0.12, 0.09, 0.06, 0.09, 0.07, 0.12, 0.17, 0.14, 0.1, 0.04], [0.03, 0.07, 0.11, 0.12, 0.22, 0.09, 0.17, 0.16, 0.02, 0.01], [0.07, 0.07, 0.14, 0.09, 0.05, 0.12, 0.09, 0.11, 0.1, 0.16], [0.05, 0.07, 0.05, 0.05, 0.12, 0.14, 0.13, 0.11, 0.11, 0.17], [0.01, 0.03, 0.05, 0.04, 0.01, 0.06, 0.26, 0.21, 0.11, 0.22], [0.03, 0.04, 0.27, 0.01, 0.07, 0.3, 0.14, 0.08, 0.03, 0.03], [0.02, 0.13, 0.15, 0.02, 0.17, 0.3, 0.12, 0.05, 0.04, 0.0], [0.03, 0.15, 0.04, 0.1, 0.11, 0.11, 0.08, 0.19, 0.06, 0.13], [0.09, 0.01, 0.12, 0.04, 0.03, 0.03, 0.18, 0.11, 0.14, 0.25], [0.04, 0.08, 0.03, 0.05, 0.23, 0.07, 0.08, 0.16, 0.22, 0.04], [0.05, 0.11, 0.03, 0.06, 0.3, 0.1, 0.14, 0.09, 0.07, 0.05], [0.0, 0.04, 0.07, 0.06, 0.02, 0.13, 0.22, 0.14, 0.09, 0.23], [0.12, 0.02, 0.08, 0.09, 0.05, 0.07, 0.26, 0.05, 0.15, 0.11], [0.28, 0.17, 0.07, 0.17, 0.06, 0.07, 0.06, 0.03, 0.05, 0.04], [0.06, 0.12, 0.06, 0.07, 0.11, 0.17, 0.17, 0.11, 0.01, 0.12], [0.13, 0.02, 0.09, 0.08, 0.26, 0.09, 0.05, 0.08, 0.03, 0.17], [0.0, 0.04, 0.05, 0.16, 0.22, 0.13, 0.05, 0.16, 0.16, 0.03], [0.03, 0.29, 0.34, 0.05, 0.01, 0.04, 0.04, 0.13, 0.06, 0.01], [0.59, 0.17, 0.04, 0.08, 0.02, 0.06, 0.03, 0.0, 0.0, 0.01], [0.05, 0.04, 0.1, 0.1, 0.03, 0.05, 0.04, 0.23, 0.13, 0.23], [0.03, 0.01, 0.1, 0.03, 0.03, 0.07, 0.25, 0.14, 0.04, 0.3], [0.16, 0.12, 0.04, 0.13, 0.14, 0.02, 0.09, 0.02, 0.11, 0.17], [0.05, 0.22, 0.28, 0.1, 0.18, 0.13, 0.02, 0.01, 0.0, 0.01], [0.07, 0.03, 0.23, 0.09, 0.03, 0.05, 0.1, 0.05, 0.22, 0.13], [0.08, 0.07, 0.14, 0.21, 0.09, 0.11, 0.08, 0.1, 0.08, 0.04], [0.0, 0.12, 0.05, 0.1, 0.18, 0.17, 0.19, 0.05, 0.07, 0.07], [0.05, 0.07, 0.11, 0.3, 0.09, 0.1, 0.06, 0.0, 0.1, 0.12], [0.1, 0.07, 0.06, 0.06, 0.18, 0.12, 0.17, 0.09, 0.03, 0.12], [0.09, 0.12, 0.12, 0.2, 0.11, 0.15, 0.12, 0.0, 0.04, 0.05], [0.02, 0.1, 0.18, 0.17, 0.16, 0.09, 0.06, 0.03, 0.09, 0.1], [0.31, 0.22, 0.05, 0.09, 0.01, 0.08, 0.07, 0.08, 0.06, 0.03], [0.02, 0.12, 0.0, 0.02, 0.11, 0.29, 0.22, 0.11, 0.06, 0.05], [0.01, 0.01, 0.05, 0.07, 0.13, 0.22, 0.15, 0.17, 0.15, 0.04], [0.03, 0.0, 0.05, 0.05, 0.05, 0.23, 0.26, 0.22, 0.06, 0.05], [0.1, 0.06, 0.09, 0.03, 0.22, 0.11, 0.16, 0.06, 0.02, 0.15], [0.04, 0.17, 0.05, 0.07, 0.39, 0.07, 0.06, 0.03, 0.1, 0.02], [0.02, 0.11, 0.03, 0.07, 0.15, 0.1, 0.19, 0.18, 0.11, 0.04], [0.0, 0.04, 0.06, 0.08, 0.48, 0.1, 0.06, 0.11, 0.01, 0.06], [0.15, 0.21, 0.1, 0.03, 0.03, 0.08, 0.11, 0.06, 0.09, 0.14], [0.07, 0.19, 0.17, 0.07, 0.19, 0.04, 0.1, 0.04, 0.06, 0.07], [0.18, 0.14, 0.02, 0.06, 0.12, 0.11, 0.08, 0.09, 0.09, 0.11], [0.16, 0.06, 0.01, 0.11, 0.03, 0.1, 0.16, 0.12, 0.15, 0.1], [0.05, 0.03, 0.05, 0.06, 0.05, 0.02, 0.19, 0.14, 0.05, 0.36], [0.07, 0.12, 0.17, 0.14, 0.1, 0.05, 0.03, 0.2, 0.0, 0.12], [0.06, 0.11, 0.02, 0.04, 0.18, 0.07, 0.17, 0.15, 0.08, 0.12], [0.03, 0.17, 0.22, 0.07, 0.11, 0.08, 0.11, 0.08, 0.04, 0.09], [0.26, 0.06, 0.05, 0.13, 0.0, 0.19, 0.03, 0.01, 0.1, 0.17], [0.02, 0.05, 0.09, 0.05, 0.05, 0.05, 0.29, 0.13, 0.2, 0.07], [0.01, 0.1, 0.09, 0.06, 0.28, 0.1, 0.02, 0.23, 0.04, 0.07], [0.08, 0.08, 0.11, 0.09, 0.03, 0.08, 0.06, 0.09, 0.18, 0.2], [0.24, 0.07, 0.16, 0.11, 0.07, 0.08, 0.12, 0.08, 0.01, 0.06], [0.06, 0.29, 0.13, 0.1, 0.13, 0.13, 0.08, 0.04, 0.03, 0.01], [0.02, 0.17, 0.06, 0.1, 0.25, 0.06, 0.09, 0.04, 0.04, 0.17], [0.2, 0.07, 0.03, 0.09, 0.06, 0.23, 0.07, 0.04, 0.04, 0.17], [0.06, 0.06, 0.04, 0.12, 0.08, 0.06, 0.14, 0.15, 0.13, 0.16], [0.02, 0.34, 0.14, 0.08, 0.11, 0.1, 0.08, 0.06, 0.02, 0.05], [0.11, 0.13, 0.09, 0.28, 0.03, 0.07, 0.05, 0.1, 0.1, 0.04], [0.01, 0.2, 0.36, 0.08, 0.04, 0.17, 0.11, 0.03, 0.0, 0.0], [0.11, 0.25, 0.04, 0.09, 0.15, 0.16, 0.1, 0.08, 0.0, 0.02], [0.03, 0.11, 0.19, 0.28, 0.13, 0.09, 0.08, 0.09, 0.0, 0.0], [0.16, 0.04, 0.09, 0.12, 0.08, 0.13, 0.12, 0.07, 0.15, 0.04], [0.06, 0.06, 0.06, 0.36, 0.1, 0.11, 0.08, 0.09, 0.06, 0.02], [0.12, 0.13, 0.15, 0.15, 0.1, 0.09, 0.11, 0.04, 0.09, 0.02], [0.16, 0.11, 0.08, 0.1, 0.06, 0.06, 0.04, 0.05, 0.12, 0.22], [0.41, 0.09, 0.1, 0.02, 0.06, 0.05, 0.04, 0.07, 0.04, 0.12], [0.07, 0.15, 0.08, 0.02, 0.03, 0.03, 0.15, 0.03, 0.21, 0.23], [0.04, 0.03, 0.03, 0.05, 0.18, 0.15, 0.23, 0.16, 0.07, 0.06], [0.12, 0.08, 0.08, 0.04, 0.05, 0.08, 0.05, 0.05, 0.18, 0.27], [0.09, 0.04, 0.09, 0.05, 0.14, 0.05, 0.15, 0.07, 0.16, 0.16], [0.01, 0.08, 0.12, 0.09, 0.25, 0.06, 0.07, 0.06, 0.1, 0.16], [0.02, 0.05, 0.27, 0.09, 0.1, 0.13, 0.07, 0.04, 0.2, 0.03], [0.1, 0.21, 0.26, 0.05, 0.21, 0.05, 0.06, 0.03, 0.02, 0.01], [0.32, 0.11, 0.13, 0.23, 0.04, 0.03, 0.04, 0.01, 0.0, 0.09], [0.18, 0.04, 0.0, 0.14, 0.1, 0.1, 0.05, 0.04, 0.28, 0.07], [0.06, 0.08, 0.13, 0.03, 0.11, 0.09, 0.03, 0.13, 0.13, 0.21], [0.26, 0.05, 0.04, 0.02, 0.06, 0.11, 0.04, 0.06, 0.25, 0.11], [0.04, 0.09, 0.12, 0.18, 0.04, 0.12, 0.07, 0.1, 0.1, 0.14], [0.07, 0.1, 0.05, 0.18, 0.09, 0.13, 0.18, 0.04, 0.11, 0.05], [0.18, 0.01, 0.09, 0.12, 0.09, 0.01, 0.2, 0.11, 0.13, 0.06], [0.05, 0.13, 0.17, 0.13, 0.0, 0.28, 0.05, 0.02, 0.15, 0.02], [0.06, 0.11, 0.02, 0.03, 0.23, 0.11, 0.13, 0.09, 0.11, 0.11], [0.25, 0.1, 0.05, 0.1, 0.07, 0.06, 0.07, 0.03, 0.17, 0.1], [0.05, 0.22, 0.09, 0.13, 0.11, 0.07, 0.16, 0.05, 0.03, 0.09], [0.25, 0.05, 0.02, 0.03, 0.1, 0.09, 0.05, 0.17, 0.12, 0.12], [0.01, 0.09, 0.04, 0.16, 0.2, 0.06, 0.16, 0.14, 0.06, 0.08], [0.02, 0.04, 0.03, 0.15, 0.09, 0.17, 0.24, 0.17, 0.05, 0.04], [0.12, 0.07, 0.07, 0.18, 0.09, 0.08, 0.1, 0.09, 0.11, 0.09], [0.12, 0.19, 0.07, 0.08, 0.17, 0.07, 0.05, 0.08, 0.11, 0.06], [0.11, 0.1, 0.08, 0.22, 0.09, 0.07, 0.02, 0.08, 0.11, 0.12], [0.07, 0.07, 0.06, 0.08, 0.08, 0.06, 0.21, 0.26, 0.03, 0.08], [0.07, 0.04, 0.11, 0.04, 0.07, 0.12, 0.24, 0.06, 0.11, 0.14], [0.0, 0.06, 0.06, 0.14, 0.07, 0.11, 0.1, 0.25, 0.1, 0.11], [0.02, 0.06, 0.06, 0.16, 0.24, 0.05, 0.03, 0.21, 0.1, 0.07], [0.0, 0.04, 0.01, 0.09, 0.12, 0.21, 0.13, 0.12, 0.14, 0.14], [0.1, 0.1, 0.03, 0.18, 0.12, 0.15, 0.15, 0.06, 0.05, 0.06], [0.07, 0.04, 0.06, 0.1, 0.07, 0.14, 0.26, 0.15, 0.03, 0.08], [0.03, 0.18, 0.2, 0.22, 0.05, 0.12, 0.15, 0.02, 0.03, 0.0], [0.17, 0.08, 0.11, 0.08, 0.28, 0.18, 0.06, 0.0, 0.03, 0.01], [0.04, 0.1, 0.13, 0.17, 0.09, 0.06, 0.08, 0.09, 0.08, 0.16], [0.07, 0.2, 0.19, 0.16, 0.14, 0.04, 0.07, 0.05, 0.07, 0.01], [0.18, 0.07, 0.02, 0.06, 0.06, 0.02, 0.05, 0.07, 0.03, 0.44], [0.09, 0.12, 0.15, 0.11, 0.2, 0.09, 0.11, 0.12, 0.01, 0.0], [0.05, 0.22, 0.16, 0.11, 0.08, 0.07, 0.27, 0.0, 0.0, 0.04], [0.04, 0.02, 0.08, 0.03, 0.03, 0.07, 0.31, 0.18, 0.1, 0.14], [0.01, 0.04, 0.04, 0.13, 0.05, 0.09, 0.02, 0.29, 0.05, 0.28], [0.24, 0.13, 0.16, 0.06, 0.04, 0.16, 0.13, 0.05, 0.02, 0.01], [0.37, 0.13, 0.05, 0.02, 0.03, 0.05, 0.09, 0.04, 0.05, 0.17], [0.17, 0.17, 0.01, 0.07, 0.15, 0.09, 0.11, 0.11, 0.09, 0.03], [0.1, 0.25, 0.11, 0.22, 0.14, 0.03, 0.04, 0.03, 0.02, 0.06], [0.06, 0.09, 0.01, 0.09, 0.13, 0.04, 0.03, 0.17, 0.31, 0.07], [0.0, 0.03, 0.04, 0.12, 0.12, 0.07, 0.5, 0.08, 0.03, 0.01], [0.13, 0.09, 0.22, 0.12, 0.12, 0.15, 0.06, 0.04, 0.02, 0.05], [0.04, 0.08, 0.33, 0.09, 0.15, 0.03, 0.14, 0.05, 0.03, 0.06], [0.05, 0.11, 0.14, 0.14, 0.14, 0.09, 0.05, 0.17, 0.09, 0.02], [0.06, 0.16, 0.07, 0.07, 0.13, 0.22, 0.16, 0.07, 0.01, 0.05], [0.09, 0.14, 0.13, 0.14, 0.1, 0.11, 0.1, 0.09, 0.04, 0.06], [0.1, 0.05, 0.11, 0.08, 0.05, 0.17, 0.09, 0.14, 0.13, 0.08], [0.21, 0.13, 0.03, 0.1, 0.08, 0.13, 0.01, 0.02, 0.16, 0.13], [0.18, 0.01, 0.05, 0.17, 0.04, 0.05, 0.05, 0.04, 0.16, 0.25], [0.08, 0.1, 0.11, 0.11, 0.17, 0.1, 0.13, 0.12, 0.03, 0.05], [0.01, 0.09, 0.01, 0.13, 0.14, 0.18, 0.15, 0.07, 0.16, 0.06], [0.1, 0.22, 0.19, 0.02, 0.04, 0.12, 0.19, 0.07, 0.02, 0.03], [0.16, 0.14, 0.08, 0.09, 0.16, 0.18, 0.07, 0.1, 0.0, 0.02], [0.05, 0.13, 0.14, 0.13, 0.15, 0.09, 0.06, 0.14, 0.08, 0.03], [0.01, 0.1, 0.07, 0.12, 0.1, 0.11, 0.1, 0.16, 0.21, 0.02], [0.12, 0.32, 0.24, 0.01, 0.05, 0.03, 0.15, 0.05, 0.01, 0.02], [0.1, 0.07, 0.07, 0.04, 0.08, 0.08, 0.08, 0.18, 0.11, 0.19], [0.02, 0.06, 0.21, 0.09, 0.12, 0.1, 0.12, 0.13, 0.07, 0.08], [0.07, 0.11, 0.15, 0.18, 0.34, 0.09, 0.02, 0.04, 0.0, 0.0], [0.05, 0.17, 0.12, 0.07, 0.07, 0.1, 0.21, 0.06, 0.03, 0.12], [0.03, 0.1, 0.07, 0.26, 0.09, 0.06, 0.06, 0.12, 0.11, 0.1], [0.15, 0.26, 0.12, 0.13, 0.07, 0.17, 0.04, 0.02, 0.0, 0.04], [0.03, 0.03, 0.06, 0.02, 0.02, 0.07, 0.05, 0.17, 0.24, 0.31], [0.0, 0.03, 0.1, 0.15, 0.11, 0.1, 0.05, 0.19, 0.12, 0.15], [0.05, 0.09, 0.07, 0.08, 0.12, 0.07, 0.15, 0.08, 0.1, 0.19], [0.03, 0.01, 0.19, 0.13, 0.04, 0.21, 0.09, 0.01, 0.26, 0.03], [0.36, 0.12, 0.04, 0.07, 0.01, 0.04, 0.07, 0.07, 0.03, 0.19], [0.08, 0.1, 0.05, 0.1, 0.26, 0.05, 0.06, 0.14, 0.11, 0.05], [0.19, 0.05, 0.06, 0.16, 0.06, 0.09, 0.13, 0.06, 0.02, 0.18], [0.03, 0.17, 0.24, 0.05, 0.15, 0.09, 0.06, 0.11, 0.08, 0.02], [0.22, 0.16, 0.09, 0.08, 0.1, 0.03, 0.17, 0.09, 0.02, 0.04], [0.07, 0.07, 0.08, 0.07, 0.0, 0.04, 0.21, 0.17, 0.03, 0.26], [0.01, 0.02, 0.03, 0.11, 0.12, 0.09, 0.13, 0.18, 0.21, 0.1], [0.01, 0.02, 0.02, 0.02, 0.1, 0.16, 0.19, 0.17, 0.15, 0.16], [0.0, 0.03, 0.03, 0.16, 0.14, 0.12, 0.22, 0.17, 0.08, 0.05], [0.02, 0.05, 0.05, 0.07, 0.05, 0.04, 0.11, 0.21, 0.23, 0.17], [0.01, 0.04, 0.05, 0.16, 0.01, 0.17, 0.21, 0.16, 0.14, 0.05], [0.03, 0.1, 0.06, 0.13, 0.12, 0.08, 0.09, 0.12, 0.24, 0.03], [0.06, 0.14, 0.02, 0.05, 0.06, 0.08, 0.14, 0.07, 0.16, 0.22], [0.14, 0.1, 0.15, 0.05, 0.14, 0.08, 0.1, 0.05, 0.05, 0.14], [0.16, 0.19, 0.07, 0.11, 0.04, 0.1, 0.06, 0.12, 0.1, 0.05], [0.02, 0.06, 0.06, 0.07, 0.29, 0.12, 0.1, 0.13, 0.12, 0.03], [0.23, 0.02, 0.17, 0.05, 0.01, 0.07, 0.04, 0.0, 0.1, 0.31], [0.28, 0.3, 0.06, 0.19, 0.11, 0.02, 0.01, 0.02, 0.01, 0.0], [0.1, 0.13, 0.16, 0.18, 0.16, 0.05, 0.07, 0.08, 0.06, 0.01], [0.02, 0.13, 0.15, 0.02, 0.17, 0.11, 0.1, 0.12, 0.15, 0.03], [0.03, 0.04, 0.05, 0.09, 0.42, 0.15, 0.19, 0.01, 0.0, 0.02], [0.06, 0.06, 0.01, 0.11, 0.15, 0.1, 0.12, 0.17, 0.11, 0.11], [0.0, 0.02, 0.08, 0.08, 0.11, 0.16, 0.08, 0.15, 0.27, 0.05], [0.07, 0.06, 0.07, 0.07, 0.08, 0.1, 0.09, 0.2, 0.11, 0.15], [0.32, 0.14, 0.22, 0.03, 0.01, 0.08, 0.08, 0.05, 0.02, 0.05], [0.09, 0.09, 0.08, 0.13, 0.11, 0.06, 0.05, 0.12, 0.04, 0.23], [0.08, 0.11, 0.06, 0.11, 0.16, 0.11, 0.08, 0.2, 0.03, 0.06], [0.03, 0.16, 0.05, 0.1, 0.05, 0.3, 0.11, 0.06, 0.09, 0.05], [0.11, 0.02, 0.04, 0.07, 0.07, 0.25, 0.14, 0.12, 0.11, 0.07], [0.32, 0.05, 0.0, 0.04, 0.1, 0.0, 0.11, 0.08, 0.05, 0.25], [0.05, 0.06, 0.03, 0.09, 0.03, 0.14, 0.16, 0.1, 0.24, 0.1], [0.08, 0.04, 0.09, 0.07, 0.05, 0.14, 0.16, 0.05, 0.24, 0.08], [0.11, 0.07, 0.11, 0.05, 0.12, 0.13, 0.05, 0.09, 0.17, 0.1], [0.14, 0.16, 0.28, 0.14, 0.01, 0.03, 0.16, 0.04, 0.02, 0.02], [0.12, 0.02, 0.03, 0.02, 0.07, 0.15, 0.08, 0.04, 0.18, 0.29], [0.05, 0.1, 0.11, 0.06, 0.08, 0.07, 0.13, 0.08, 0.08, 0.24], [0.0, 0.06, 0.07, 0.12, 0.13, 0.17, 0.08, 0.25, 0.11, 0.01], [0.16, 0.1, 0.12, 0.03, 0.12, 0.05, 0.11, 0.04, 0.08, 0.19], [0.08, 0.07, 0.11, 0.06, 0.16, 0.08, 0.13, 0.09, 0.14, 0.08], [0.16, 0.18, 0.16, 0.15, 0.08, 0.11, 0.05, 0.05, 0.03, 0.03], [0.45, 0.11, 0.0, 0.01, 0.11, 0.17, 0.04, 0.0, 0.0, 0.11], [0.21, 0.09, 0.06, 0.08, 0.05, 0.04, 0.03, 0.09, 0.03, 0.32], [0.0, 0.06, 0.29, 0.08, 0.23, 0.06, 0.17, 0.05, 0.05, 0.01], [0.18, 0.25, 0.11, 0.06, 0.14, 0.05, 0.12, 0.07, 0.02, 0.0], [0.07, 0.15, 0.05, 0.06, 0.32, 0.09, 0.1, 0.04, 0.1, 0.02], [0.16, 0.15, 0.08, 0.1, 0.15, 0.04, 0.03, 0.15, 0.07, 0.07], [0.1, 0.05, 0.02, 0.11, 0.12, 0.07, 0.09, 0.15, 0.14, 0.15], [0.2, 0.05, 0.16, 0.09, 0.02, 0.2, 0.1, 0.01, 0.04, 0.13], [0.06, 0.05, 0.09, 0.13, 0.14, 0.03, 0.16, 0.09, 0.15, 0.1], [0.02, 0.09, 0.12, 0.15, 0.11, 0.07, 0.07, 0.2, 0.12, 0.05], [0.11, 0.1, 0.31, 0.06, 0.08, 0.1, 0.04, 0.01, 0.1, 0.09], [0.06, 0.15, 0.19, 0.1, 0.2, 0.11, 0.06, 0.08, 0.04, 0.01], [0.03, 0.01, 0.11, 0.1, 0.35, 0.11, 0.04, 0.21, 0.03, 0.01], [0.02, 0.16, 0.2, 0.18, 0.05, 0.12, 0.11, 0.11, 0.02, 0.03], [0.06, 0.03, 0.03, 0.05, 0.01, 0.04, 0.12, 0.07, 0.09, 0.5], [0.11, 0.16, 0.11, 0.22, 0.03, 0.1, 0.07, 0.06, 0.09, 0.05], [0.19, 0.06, 0.04, 0.08, 0.1, 0.09, 0.12, 0.11, 0.09, 0.12], [0.11, 0.11, 0.14, 0.11, 0.25, 0.12, 0.06, 0.06, 0.03, 0.01], [0.11, 0.05, 0.0, 0.07, 0.12, 0.13, 0.13, 0.13, 0.15, 0.11], [0.0, 0.02, 0.08, 0.08, 0.02, 0.07, 0.11, 0.23, 0.15, 0.24], [0.65, 0.0, 0.0, 0.05, 0.06, 0.01, 0.03, 0.02, 0.05, 0.13], [0.03, 0.08, 0.05, 0.09, 0.05, 0.11, 0.15, 0.29, 0.05, 0.1], [0.38, 0.14, 0.01, 0.09, 0.01, 0.05, 0.01, 0.07, 0.04, 0.2], [0.08, 0.12, 0.08, 0.1, 0.18, 0.08, 0.12, 0.08, 0.08, 0.08], [0.09, 0.08, 0.1, 0.03, 0.09, 0.11, 0.19, 0.08, 0.19, 0.04], [0.01, 0.12, 0.17, 0.11, 0.23, 0.03, 0.02, 0.02, 0.09, 0.2], [0.07, 0.1, 0.22, 0.05, 0.07, 0.06, 0.08, 0.12, 0.2, 0.03], [0.27, 0.11, 0.09, 0.05, 0.05, 0.08, 0.06, 0.03, 0.04, 0.22], [0.09, 0.08, 0.11, 0.12, 0.04, 0.08, 0.05, 0.11, 0.24, 0.08], [0.49, 0.15, 0.03, 0.15, 0.03, 0.12, 0.01, 0.0, 0.0, 0.02], [0.06, 0.05, 0.13, 0.21, 0.25, 0.09, 0.11, 0.02, 0.07, 0.01], [0.05, 0.13, 0.15, 0.1, 0.25, 0.14, 0.05, 0.05, 0.08, 0.0], [0.14, 0.07, 0.05, 0.06, 0.04, 0.02, 0.29, 0.13, 0.13, 0.07], [0.02, 0.03, 0.13, 0.07, 0.01, 0.07, 0.09, 0.14, 0.14, 0.3], [0.06, 0.36, 0.14, 0.08, 0.2, 0.02, 0.1, 0.0, 0.03, 0.01], [0.16, 0.1, 0.09, 0.21, 0.19, 0.1, 0.05, 0.03, 0.02, 0.05], [0.09, 0.15, 0.09, 0.06, 0.06, 0.14, 0.03, 0.06, 0.06, 0.26], [0.06, 0.04, 0.12, 0.07, 0.05, 0.12, 0.2, 0.09, 0.2, 0.05], [0.05, 0.24, 0.0, 0.42, 0.04, 0.1, 0.02, 0.06, 0.02, 0.05], [0.04, 0.1, 0.52, 0.07, 0.04, 0.05, 0.1, 0.02, 0.04, 0.02], [0.07, 0.06, 0.14, 0.14, 0.08, 0.23, 0.07, 0.1, 0.08, 0.03], [0.08, 0.08, 0.04, 0.05, 0.01, 0.07, 0.02, 0.06, 0.23, 0.36], [0.08, 0.11, 0.07, 0.07, 0.17, 0.08, 0.09, 0.09, 0.13, 0.11], [0.13, 0.13, 0.12, 0.06, 0.11, 0.03, 0.08, 0.1, 0.12, 0.12], [0.13, 0.12, 0.06, 0.16, 0.31, 0.06, 0.02, 0.06, 0.04, 0.04], [0.09, 0.07, 0.1, 0.28, 0.06, 0.14, 0.05, 0.13, 0.07, 0.01], [0.32, 0.15, 0.24, 0.06, 0.07, 0.02, 0.11, 0.02, 0.0, 0.01], [0.1, 0.07, 0.04, 0.05, 0.19, 0.09, 0.13, 0.19, 0.07, 0.07], [0.01, 0.08, 0.08, 0.11, 0.22, 0.12, 0.11, 0.17, 0.09, 0.01], [0.12, 0.11, 0.21, 0.25, 0.05, 0.05, 0.12, 0.02, 0.05, 0.02], [0.04, 0.01, 0.09, 0.14, 0.32, 0.12, 0.18, 0.05, 0.04, 0.01], [0.01, 0.08, 0.1, 0.15, 0.16, 0.11, 0.06, 0.19, 0.09, 0.05], [0.18, 0.11, 0.07, 0.28, 0.17, 0.06, 0.08, 0.0, 0.01, 0.04], [0.2, 0.16, 0.12, 0.13, 0.07, 0.17, 0.03, 0.03, 0.02, 0.07], [0.05, 0.07, 0.07, 0.12, 0.23, 0.16, 0.16, 0.09, 0.04, 0.01], [0.06, 0.14, 0.12, 0.04, 0.22, 0.15, 0.05, 0.07, 0.09, 0.06], [0.05, 0.04, 0.19, 0.09, 0.17, 0.24, 0.1, 0.05, 0.05, 0.02], [0.03, 0.07, 0.03, 0.23, 0.07, 0.08, 0.09, 0.12, 0.11, 0.17], [0.2, 0.19, 0.12, 0.08, 0.12, 0.04, 0.06, 0.04, 0.08, 0.07], [0.39, 0.1, 0.23, 0.07, 0.07, 0.01, 0.06, 0.03, 0.0, 0.04], [0.09, 0.16, 0.1, 0.06, 0.13, 0.02, 0.08, 0.06, 0.17, 0.13], [0.02, 0.01, 0.06, 0.09, 0.18, 0.19, 0.25, 0.14, 0.03, 0.03], [0.04, 0.13, 0.05, 0.09, 0.05, 0.13, 0.08, 0.3, 0.09, 0.04], [0.08, 0.01, 0.01, 0.0, 0.02, 0.1, 0.24, 0.21, 0.19, 0.14], [0.31, 0.01, 0.05, 0.12, 0.16, 0.08, 0.03, 0.02, 0.1, 0.12], [0.03, 0.07, 0.06, 0.02, 0.03, 0.22, 0.14, 0.17, 0.09, 0.17], [0.01, 0.05, 0.06, 0.16, 0.03, 0.07, 0.04, 0.13, 0.17, 0.28], [0.03, 0.07, 0.14, 0.09, 0.05, 0.05, 0.21, 0.17, 0.1, 0.09], [0.08, 0.06, 0.07, 0.07, 0.06, 0.06, 0.05, 0.16, 0.09, 0.3], [0.24, 0.15, 0.06, 0.06, 0.01, 0.14, 0.06, 0.09, 0.05, 0.14], [0.05, 0.11, 0.15, 0.07, 0.12, 0.09, 0.09, 0.06, 0.05, 0.21], [0.07, 0.11, 0.09, 0.07, 0.1, 0.09, 0.07, 0.1, 0.09, 0.21], [0.03, 0.0, 0.02, 0.02, 0.02, 0.1, 0.22, 0.11, 0.4, 0.08], [0.02, 0.01, 0.1, 0.05, 0.02, 0.07, 0.03, 0.05, 0.2, 0.45], [0.25, 0.09, 0.16, 0.07, 0.11, 0.09, 0.15, 0.04, 0.01, 0.03], [0.04, 0.11, 0.03, 0.15, 0.2, 0.1, 0.09, 0.14, 0.07, 0.07], [0.09, 0.06, 0.05, 0.1, 0.05, 0.02, 0.09, 0.02, 0.16, 0.36], [0.07, 0.03, 0.05, 0.27, 0.07, 0.15, 0.13, 0.08, 0.02, 0.13], [0.05, 0.12, 0.01, 0.07, 0.12, 0.16, 0.15, 0.17, 0.04, 0.11], [0.01, 0.03, 0.09, 0.11, 0.17, 0.21, 0.31, 0.02, 0.01, 0.04], [0.1, 0.19, 0.08, 0.33, 0.07, 0.13, 0.06, 0.01, 0.02, 0.01], [0.07, 0.05, 0.06, 0.06, 0.08, 0.05, 0.11, 0.12, 0.18, 0.22], [0.07, 0.1, 0.08, 0.04, 0.06, 0.2, 0.04, 0.12, 0.26, 0.03], [0.35, 0.16, 0.3, 0.01, 0.06, 0.05, 0.06, 0.01, 0.0, 0.0], [0.03, 0.18, 0.04, 0.1, 0.15, 0.16, 0.14, 0.1, 0.04, 0.06], [0.08, 0.11, 0.17, 0.17, 0.11, 0.04, 0.17, 0.02, 0.08, 0.05], [0.17, 0.24, 0.07, 0.1, 0.13, 0.11, 0.1, 0.02, 0.03, 0.03], [0.04, 0.07, 0.09, 0.12, 0.08, 0.12, 0.16, 0.15, 0.12, 0.05], [0.06, 0.13, 0.09, 0.16, 0.1, 0.11, 0.05, 0.19, 0.09, 0.02], [0.07, 0.0, 0.09, 0.09, 0.02, 0.16, 0.07, 0.06, 0.33, 0.11], [0.0, 0.01, 0.04, 0.05, 0.17, 0.15, 0.12, 0.31, 0.06, 0.09], [0.21, 0.19, 0.08, 0.13, 0.12, 0.16, 0.07, 0.01, 0.01, 0.02], [0.61, 0.01, 0.04, 0.01, 0.05, 0.03, 0.08, 0.05, 0.01, 0.11], [0.03, 0.18, 0.1, 0.03, 0.15, 0.17, 0.22, 0.06, 0.0, 0.06], [0.0, 0.02, 0.14, 0.06, 0.36, 0.21, 0.02, 0.11, 0.04, 0.04], [0.0, 0.11, 0.07, 0.07, 0.25, 0.19, 0.11, 0.09, 0.09, 0.02], [0.04, 0.02, 0.05, 0.02, 0.13, 0.13, 0.11, 0.1, 0.34, 0.06], [0.24, 0.09, 0.13, 0.08, 0.12, 0.03, 0.2, 0.03, 0.04, 0.04], [0.05, 0.08, 0.13, 0.06, 0.18, 0.01, 0.11, 0.07, 0.17, 0.14], [0.02, 0.02, 0.1, 0.07, 0.22, 0.24, 0.22, 0.02, 0.04, 0.05], [0.04, 0.13, 0.2, 0.07, 0.16, 0.1, 0.08, 0.09, 0.04, 0.09], [0.03, 0.14, 0.11, 0.14, 0.21, 0.2, 0.06, 0.08, 0.02, 0.01], [0.08, 0.12, 0.1, 0.07, 0.04, 0.08, 0.06, 0.07, 0.23, 0.15], [0.14, 0.02, 0.1, 0.09, 0.05, 0.08, 0.11, 0.09, 0.15, 0.17], [0.11, 0.07, 0.07, 0.04, 0.04, 0.03, 0.14, 0.06, 0.14, 0.3], [0.01, 0.07, 0.19, 0.16, 0.0, 0.06, 0.07, 0.18, 0.02, 0.24], [0.05, 0.03, 0.04, 0.06, 0.04, 0.08, 0.1, 0.06, 0.12, 0.42], [0.11, 0.03, 0.04, 0.05, 0.08, 0.13, 0.09, 0.18, 0.16, 0.13], [0.03, 0.4, 0.33, 0.03, 0.07, 0.03, 0.07, 0.03, 0.01, 0.0], [0.05, 0.07, 0.07, 0.19, 0.0, 0.33, 0.19, 0.02, 0.07, 0.01], [0.13, 0.04, 0.02, 0.05, 0.07, 0.15, 0.06, 0.23, 0.12, 0.13], [0.06, 0.03, 0.07, 0.11, 0.05, 0.14, 0.13, 0.14, 0.12, 0.15], [0.08, 0.14, 0.04, 0.0, 0.12, 0.11, 0.15, 0.1, 0.11, 0.15], [0.11, 0.03, 0.12, 0.11, 0.07, 0.02, 0.05, 0.16, 0.1, 0.23], [0.02, 0.05, 0.1, 0.06, 0.06, 0.14, 0.11, 0.26, 0.17, 0.03], [0.06, 0.1, 0.27, 0.16, 0.11, 0.16, 0.07, 0.05, 0.01, 0.01], [0.04, 0.14, 0.04, 0.04, 0.2, 0.11, 0.17, 0.09, 0.07, 0.1], [0.05, 0.19, 0.06, 0.1, 0.13, 0.11, 0.05, 0.05, 0.16, 0.1], [0.08, 0.1, 0.02, 0.13, 0.11, 0.12, 0.09, 0.1, 0.17, 0.08], [0.09, 0.04, 0.2, 0.27, 0.1, 0.1, 0.09, 0.04, 0.06, 0.01], [0.08, 0.12, 0.09, 0.17, 0.28, 0.04, 0.09, 0.05, 0.05, 0.03], [0.03, 0.06, 0.19, 0.05, 0.16, 0.05, 0.06, 0.11, 0.23, 0.06], [0.1, 0.18, 0.12, 0.05, 0.24, 0.02, 0.08, 0.02, 0.13, 0.06], [0.64, 0.13, 0.03, 0.09, 0.02, 0.04, 0.03, 0.0, 0.0, 0.02], [0.14, 0.35, 0.12, 0.08, 0.11, 0.08, 0.03, 0.08, 0.01, 0.0], [0.46, 0.16, 0.1, 0.09, 0.05, 0.04, 0.05, 0.0, 0.01, 0.04], [0.05, 0.25, 0.06, 0.08, 0.04, 0.11, 0.09, 0.04, 0.11, 0.17], [0.03, 0.03, 0.01, 0.18, 0.16, 0.05, 0.15, 0.12, 0.12, 0.15], [0.06, 0.23, 0.07, 0.16, 0.18, 0.04, 0.18, 0.07, 0.0, 0.01], [0.05, 0.04, 0.1, 0.04, 0.05, 0.02, 0.17, 0.03, 0.04, 0.46], [0.03, 0.03, 0.03, 0.15, 0.19, 0.1, 0.12, 0.21, 0.07, 0.07], [0.07, 0.18, 0.11, 0.06, 0.16, 0.06, 0.07, 0.14, 0.1, 0.05], [0.04, 0.07, 0.06, 0.02, 0.12, 0.02, 0.12, 0.37, 0.12, 0.06], [0.0, 0.07, 0.26, 0.21, 0.16, 0.09, 0.14, 0.02, 0.01, 0.04], [0.05, 0.11, 0.05, 0.04, 0.06, 0.22, 0.12, 0.1, 0.14, 0.11], [0.02, 0.04, 0.18, 0.05, 0.02, 0.01, 0.09, 0.12, 0.2, 0.27], [0.02, 0.16, 0.11, 0.12, 0.07, 0.04, 0.09, 0.16, 0.1, 0.13], [0.09, 0.02, 0.15, 0.12, 0.23, 0.09, 0.06, 0.14, 0.03, 0.07], [0.01, 0.08, 0.2, 0.12, 0.08, 0.07, 0.06, 0.12, 0.1, 0.16], [0.27, 0.1, 0.12, 0.13, 0.08, 0.05, 0.15, 0.05, 0.04, 0.01], [0.16, 0.08, 0.11, 0.09, 0.11, 0.16, 0.12, 0.08, 0.03, 0.06], [0.05, 0.12, 0.09, 0.09, 0.13, 0.11, 0.12, 0.18, 0.07, 0.04], [0.03, 0.13, 0.05, 0.11, 0.05, 0.12, 0.2, 0.15, 0.11, 0.05], [0.04, 0.06, 0.07, 0.21, 0.16, 0.05, 0.1, 0.12, 0.08, 0.11], [0.05, 0.09, 0.11, 0.12, 0.24, 0.13, 0.12, 0.06, 0.03, 0.05], [0.06, 0.12, 0.12, 0.13, 0.09, 0.07, 0.05, 0.05, 0.17, 0.14], [0.1, 0.04, 0.07, 0.09, 0.09, 0.14, 0.06, 0.18, 0.08, 0.15], [0.06, 0.23, 0.12, 0.14, 0.13, 0.13, 0.13, 0.02, 0.03, 0.01], [0.2, 0.06, 0.12, 0.06, 0.11, 0.03, 0.05, 0.05, 0.14, 0.18], [0.04, 0.07, 0.25, 0.13, 0.09, 0.05, 0.06, 0.11, 0.15, 0.05], [0.29, 0.07, 0.06, 0.05, 0.07, 0.08, 0.06, 0.05, 0.07, 0.2], [0.03, 0.03, 0.04, 0.17, 0.01, 0.25, 0.2, 0.17, 0.09, 0.01], [0.14, 0.19, 0.21, 0.07, 0.05, 0.05, 0.11, 0.05, 0.03, 0.1], [0.11, 0.2, 0.06, 0.16, 0.0, 0.12, 0.05, 0.05, 0.09, 0.16], [0.03, 0.12, 0.17, 0.24, 0.19, 0.05, 0.09, 0.08, 0.03, 0.0], [0.03, 0.03, 0.04, 0.08, 0.07, 0.04, 0.11, 0.14, 0.29, 0.17], [0.01, 0.03, 0.0, 0.34, 0.13, 0.14, 0.09, 0.11, 0.06, 0.09], [0.02, 0.1, 0.07, 0.23, 0.07, 0.09, 0.12, 0.06, 0.17, 0.07], [0.05, 0.05, 0.1, 0.06, 0.04, 0.05, 0.08, 0.12, 0.33, 0.12], [0.18, 0.16, 0.09, 0.1, 0.19, 0.12, 0.08, 0.02, 0.02, 0.04], [0.19, 0.1, 0.11, 0.06, 0.06, 0.06, 0.1, 0.14, 0.05, 0.13], [0.06, 0.15, 0.02, 0.1, 0.12, 0.04, 0.12, 0.05, 0.29, 0.05], [0.04, 0.05, 0.01, 0.11, 0.18, 0.1, 0.07, 0.11, 0.19, 0.14], [0.06, 0.09, 0.03, 0.23, 0.05, 0.07, 0.06, 0.08, 0.05, 0.28], [0.19, 0.02, 0.01, 0.23, 0.08, 0.18, 0.02, 0.08, 0.09, 0.1], [0.25, 0.08, 0.08, 0.05, 0.11, 0.14, 0.06, 0.02, 0.09, 0.12], [0.17, 0.13, 0.02, 0.14, 0.15, 0.09, 0.09, 0.13, 0.05, 0.03], [0.26, 0.09, 0.11, 0.09, 0.03, 0.05, 0.04, 0.11, 0.07, 0.15], [0.02, 0.1, 0.03, 0.09, 0.08, 0.02, 0.09, 0.08, 0.14, 0.35], [0.2, 0.1, 0.04, 0.03, 0.05, 0.15, 0.1, 0.23, 0.07, 0.03], [0.07, 0.12, 0.18, 0.09, 0.11, 0.17, 0.11, 0.12, 0.03, 0.0], [0.04, 0.04, 0.27, 0.04, 0.05, 0.21, 0.12, 0.03, 0.15, 0.05], [0.09, 0.09, 0.15, 0.09, 0.12, 0.14, 0.17, 0.04, 0.03, 0.08], [0.17, 0.12, 0.05, 0.09, 0.16, 0.15, 0.01, 0.03, 0.12, 0.1], [0.01, 0.11, 0.04, 0.14, 0.06, 0.07, 0.15, 0.22, 0.16, 0.04], [0.04, 0.03, 0.29, 0.14, 0.12, 0.15, 0.04, 0.04, 0.13, 0.02], [0.0, 0.03, 0.07, 0.17, 0.05, 0.36, 0.19, 0.08, 0.02, 0.03], [0.02, 0.07, 0.1, 0.1, 0.15, 0.2, 0.17, 0.07, 0.09, 0.03], [0.03, 0.06, 0.09, 0.08, 0.2, 0.18, 0.12, 0.09, 0.12, 0.03], [0.06, 0.55, 0.2, 0.05, 0.1, 0.02, 0.01, 0.01, 0.0, 0.0], [0.01, 0.4, 0.07, 0.14, 0.21, 0.1, 0.05, 0.0, 0.0, 0.02], [0.32, 0.16, 0.12, 0.05, 0.06, 0.09, 0.14, 0.01, 0.02, 0.03], [0.04, 0.03, 0.08, 0.18, 0.03, 0.05, 0.17, 0.07, 0.15, 0.2], [0.32, 0.14, 0.08, 0.07, 0.03, 0.06, 0.07, 0.02, 0.07, 0.14], [0.03, 0.05, 0.03, 0.13, 0.17, 0.18, 0.2, 0.11, 0.02, 0.08], [0.1, 0.19, 0.03, 0.14, 0.1, 0.11, 0.04, 0.15, 0.06, 0.08], [0.04, 0.04, 0.03, 0.18, 0.06, 0.15, 0.17, 0.07, 0.17, 0.09], [0.02, 0.16, 0.15, 0.09, 0.12, 0.09, 0.13, 0.16, 0.07, 0.01], [0.07, 0.05, 0.12, 0.1, 0.04, 0.09, 0.1, 0.18, 0.13, 0.12], [0.15, 0.03, 0.03, 0.35, 0.03, 0.16, 0.04, 0.01, 0.12, 0.08], [0.08, 0.35, 0.3, 0.13, 0.05, 0.02, 0.04, 0.02, 0.01, 0.0], [0.09, 0.16, 0.09, 0.34, 0.02, 0.11, 0.07, 0.09, 0.02, 0.01], [0.32, 0.16, 0.15, 0.04, 0.09, 0.05, 0.09, 0.03, 0.01, 0.06], [0.02, 0.02, 0.02, 0.09, 0.07, 0.11, 0.33, 0.11, 0.09, 0.14], [0.08, 0.13, 0.06, 0.13, 0.05, 0.05, 0.2, 0.07, 0.11, 0.12], [0.01, 0.05, 0.07, 0.07, 0.06, 0.24, 0.2, 0.19, 0.06, 0.05], [0.05, 0.17, 0.13, 0.13, 0.08, 0.12, 0.15, 0.13, 0.04, 0.0], [0.01, 0.06, 0.01, 0.08, 0.03, 0.13, 0.16, 0.17, 0.31, 0.04], [0.04, 0.25, 0.18, 0.17, 0.12, 0.03, 0.1, 0.05, 0.05, 0.01], [0.06, 0.35, 0.11, 0.1, 0.13, 0.16, 0.04, 0.03, 0.0, 0.02], [0.06, 0.03, 0.2, 0.22, 0.09, 0.15, 0.07, 0.05, 0.08, 0.05], [0.07, 0.12, 0.12, 0.13, 0.08, 0.05, 0.15, 0.15, 0.1, 0.03], [0.16, 0.04, 0.08, 0.08, 0.07, 0.06, 0.08, 0.05, 0.1, 0.28], [0.14, 0.19, 0.04, 0.26, 0.05, 0.02, 0.06, 0.07, 0.08, 0.09], [0.07, 0.04, 0.05, 0.19, 0.05, 0.06, 0.14, 0.16, 0.07, 0.17], [0.03, 0.03, 0.01, 0.17, 0.07, 0.02, 0.17, 0.05, 0.3, 0.15], [0.13, 0.12, 0.15, 0.08, 0.07, 0.04, 0.04, 0.06, 0.1, 0.21], [0.09, 0.02, 0.05, 0.06, 0.05, 0.05, 0.17, 0.07, 0.15, 0.29], [0.01, 0.07, 0.02, 0.04, 0.07, 0.09, 0.12, 0.36, 0.2, 0.02], [0.26, 0.07, 0.04, 0.08, 0.03, 0.1, 0.05, 0.06, 0.25, 0.06], [0.0, 0.24, 0.03, 0.14, 0.11, 0.12, 0.06, 0.14, 0.09, 0.07], [0.08, 0.18, 0.1, 0.1, 0.27, 0.14, 0.06, 0.05, 0.0, 0.02], [0.01, 0.04, 0.09, 0.09, 0.25, 0.14, 0.05, 0.13, 0.19, 0.01], [0.02, 0.11, 0.13, 0.07, 0.04, 0.27, 0.11, 0.11, 0.07, 0.07], [0.09, 0.03, 0.06, 0.1, 0.13, 0.06, 0.08, 0.23, 0.11, 0.11], [0.09, 0.08, 0.19, 0.22, 0.16, 0.02, 0.06, 0.05, 0.09, 0.04], [0.11, 0.1, 0.16, 0.12, 0.09, 0.11, 0.16, 0.02, 0.11, 0.02], [0.1, 0.05, 0.04, 0.16, 0.15, 0.06, 0.18, 0.09, 0.09, 0.08], [0.01, 0.07, 0.13, 0.08, 0.3, 0.1, 0.18, 0.04, 0.02, 0.07], [0.07, 0.11, 0.02, 0.08, 0.05, 0.09, 0.24, 0.12, 0.12, 0.1], [0.27, 0.2, 0.03, 0.03, 0.05, 0.09, 0.13, 0.13, 0.03, 0.04], [0.0, 0.06, 0.1, 0.03, 0.33, 0.18, 0.05, 0.13, 0.11, 0.01], [0.02, 0.04, 0.01, 0.13, 0.05, 0.28, 0.16, 0.19, 0.1, 0.02], [0.01, 0.11, 0.08, 0.1, 0.25, 0.1, 0.08, 0.1, 0.14, 0.03], [0.02, 0.09, 0.04, 0.05, 0.07, 0.1, 0.2, 0.17, 0.16, 0.1], [0.04, 0.08, 0.11, 0.12, 0.08, 0.17, 0.06, 0.11, 0.16, 0.07], [0.08, 0.18, 0.01, 0.07, 0.05, 0.11, 0.09, 0.15, 0.16, 0.1], [0.14, 0.2, 0.04, 0.05, 0.07, 0.04, 0.16, 0.11, 0.05, 0.14], [0.05, 0.04, 0.05, 0.25, 0.03, 0.08, 0.01, 0.04, 0.14, 0.31], [0.21, 0.03, 0.12, 0.09, 0.02, 0.06, 0.15, 0.04, 0.09, 0.19], [0.01, 0.06, 0.07, 0.1, 0.11, 0.21, 0.11, 0.16, 0.1, 0.07], [0.01, 0.08, 0.08, 0.12, 0.06, 0.05, 0.11, 0.17, 0.22, 0.1], [0.07, 0.29, 0.12, 0.08, 0.11, 0.03, 0.1, 0.09, 0.05, 0.06], [0.04, 0.17, 0.04, 0.14, 0.06, 0.14, 0.18, 0.12, 0.04, 0.07], [0.11, 0.54, 0.22, 0.04, 0.02, 0.03, 0.02, 0.0, 0.01, 0.01], [0.0, 0.12, 0.15, 0.09, 0.16, 0.11, 0.16, 0.09, 0.05, 0.07], [0.25, 0.05, 0.07, 0.04, 0.03, 0.08, 0.03, 0.22, 0.09, 0.14], [0.13, 0.07, 0.08, 0.06, 0.14, 0.09, 0.19, 0.1, 0.09, 0.05], [0.2, 0.07, 0.06, 0.08, 0.19, 0.05, 0.09, 0.04, 0.05, 0.17], [0.18, 0.18, 0.11, 0.14, 0.07, 0.04, 0.07, 0.04, 0.11, 0.06], [0.17, 0.06, 0.14, 0.05, 0.06, 0.05, 0.12, 0.06, 0.14, 0.15], [0.05, 0.08, 0.13, 0.09, 0.03, 0.08, 0.1, 0.13, 0.12, 0.19], [0.11, 0.09, 0.09, 0.08, 0.07, 0.15, 0.08, 0.1, 0.1, 0.13], [0.17, 0.13, 0.05, 0.07, 0.05, 0.12, 0.01, 0.17, 0.11, 0.12], [0.04, 0.13, 0.01, 0.12, 0.11, 0.25, 0.09, 0.08, 0.15, 0.02], [0.02, 0.04, 0.07, 0.07, 0.12, 0.16, 0.2, 0.12, 0.07, 0.13], [0.09, 0.12, 0.05, 0.26, 0.16, 0.06, 0.16, 0.02, 0.06, 0.02], [0.1, 0.37, 0.1, 0.09, 0.11, 0.09, 0.05, 0.06, 0.02, 0.01], [0.1, 0.04, 0.05, 0.09, 0.05, 0.09, 0.06, 0.22, 0.14, 0.16], [0.11, 0.03, 0.1, 0.05, 0.21, 0.06, 0.05, 0.25, 0.06, 0.08], [0.07, 0.2, 0.05, 0.34, 0.03, 0.08, 0.11, 0.04, 0.04, 0.04], [0.0, 0.14, 0.06, 0.06, 0.1, 0.1, 0.21, 0.12, 0.07, 0.14], [0.02, 0.08, 0.08, 0.11, 0.19, 0.15, 0.15, 0.09, 0.11, 0.02], [0.01, 0.1, 0.3, 0.01, 0.21, 0.22, 0.07, 0.02, 0.02, 0.04], [0.09, 0.05, 0.04, 0.16, 0.04, 0.1, 0.13, 0.11, 0.21, 0.07], [0.05, 0.1, 0.1, 0.19, 0.12, 0.02, 0.1, 0.06, 0.11, 0.15], [0.22, 0.02, 0.01, 0.11, 0.05, 0.06, 0.09, 0.16, 0.17, 0.11], [0.1, 0.3, 0.05, 0.08, 0.12, 0.17, 0.02, 0.12, 0.03, 0.01], [0.07, 0.18, 0.05, 0.04, 0.09, 0.04, 0.09, 0.16, 0.17, 0.11], [0.12, 0.28, 0.14, 0.08, 0.25, 0.11, 0.01, 0.0, 0.01, 0.0], [0.06, 0.24, 0.27, 0.13, 0.13, 0.09, 0.07, 0.0, 0.0, 0.01], [0.01, 0.05, 0.03, 0.03, 0.22, 0.22, 0.17, 0.14, 0.12, 0.01], [0.07, 0.05, 0.06, 0.03, 0.26, 0.06, 0.03, 0.12, 0.08, 0.24], [0.13, 0.07, 0.27, 0.11, 0.11, 0.14, 0.07, 0.02, 0.03, 0.05], [0.03, 0.18, 0.24, 0.21, 0.15, 0.13, 0.03, 0.02, 0.0, 0.01], [0.13, 0.13, 0.04, 0.04, 0.04, 0.05, 0.08, 0.19, 0.22, 0.08], [0.11, 0.01, 0.17, 0.1, 0.05, 0.11, 0.23, 0.09, 0.11, 0.02], [0.15, 0.19, 0.12, 0.12, 0.11, 0.03, 0.14, 0.06, 0.02, 0.06], [0.04, 0.15, 0.06, 0.06, 0.03, 0.15, 0.02, 0.12, 0.21, 0.16], [0.11, 0.09, 0.17, 0.1, 0.14, 0.1, 0.11, 0.08, 0.06, 0.04], [0.07, 0.13, 0.02, 0.09, 0.06, 0.18, 0.12, 0.01, 0.17, 0.15], [0.05, 0.12, 0.13, 0.09, 0.15, 0.16, 0.09, 0.02, 0.16, 0.03], [0.06, 0.04, 0.02, 0.02, 0.12, 0.13, 0.14, 0.25, 0.17, 0.05], [0.3, 0.07, 0.08, 0.11, 0.02, 0.05, 0.03, 0.07, 0.16, 0.11], [0.0, 0.03, 0.04, 0.1, 0.05, 0.1, 0.03, 0.25, 0.07, 0.33], [0.0, 0.09, 0.26, 0.08, 0.2, 0.12, 0.15, 0.07, 0.01, 0.02], [0.06, 0.01, 0.06, 0.13, 0.08, 0.09, 0.1, 0.14, 0.16, 0.17], [0.13, 0.13, 0.04, 0.05, 0.06, 0.11, 0.11, 0.1, 0.07, 0.2], [0.06, 0.05, 0.02, 0.05, 0.16, 0.11, 0.08, 0.13, 0.17, 0.17], [0.03, 0.06, 0.12, 0.09, 0.3, 0.08, 0.15, 0.11, 0.04, 0.02], [0.07, 0.02, 0.07, 0.04, 0.04, 0.07, 0.23, 0.11, 0.19, 0.16], [0.01, 0.06, 0.12, 0.08, 0.07, 0.06, 0.15, 0.19, 0.16, 0.1], [0.01, 0.12, 0.09, 0.16, 0.02, 0.15, 0.06, 0.14, 0.13, 0.12], [0.02, 0.1, 0.06, 0.12, 0.05, 0.1, 0.21, 0.16, 0.17, 0.01], [0.08, 0.24, 0.09, 0.06, 0.02, 0.11, 0.07, 0.09, 0.05, 0.19], [0.04, 0.13, 0.13, 0.3, 0.16, 0.09, 0.12, 0.01, 0.02, 0.0], [0.31, 0.03, 0.04, 0.06, 0.07, 0.06, 0.05, 0.13, 0.07, 0.18], [0.09, 0.17, 0.02, 0.1, 0.11, 0.2, 0.02, 0.08, 0.02, 0.19], [0.12, 0.29, 0.16, 0.05, 0.17, 0.06, 0.06, 0.02, 0.05, 0.02], [0.16, 0.09, 0.13, 0.29, 0.11, 0.07, 0.04, 0.02, 0.07, 0.02], [0.26, 0.02, 0.03, 0.04, 0.02, 0.01, 0.03, 0.17, 0.16, 0.26]]\n"
     ]
    }
   ],
   "source": [
    "print(pi)"
   ]
  },
  {
   "cell_type": "code",
   "execution_count": 37,
   "metadata": {},
   "outputs": [],
   "source": [
    "Y_pred = [1+np.argmax(pi[i]) for i in range(0,n_test)]"
   ]
  },
  {
   "cell_type": "code",
   "execution_count": 38,
   "metadata": {},
   "outputs": [
    {
     "name": "stdout",
     "output_type": "stream",
     "text": [
      "[2, 10, 2, 2, 9, 6, 7, 9, 1, 2, 4, 5, 8, 2, 10, 8, 4, 10, 5, 1, 1, 2, 6, 1, 9, 6, 1, 2, 7, 1, 8, 3, 10, 6, 7, 10, 5, 10, 9, 3, 3, 2, 6, 2, 9, 5, 3, 1, 1, 1, 1, 6, 9, 7, 8, 1, 7, 1, 8, 4, 3, 10, 7, 2, 6, 10, 10, 1, 8, 1, 6, 3, 9, 2, 6, 9, 1, 9, 2, 1, 9, 4, 10, 3, 8, 4, 1, 4, 5, 9, 1, 2, 1, 6, 7, 5, 1, 3, 9, 3, 2, 4, 7, 2, 8, 1, 10, 10, 2, 9, 2, 10, 3, 5, 10, 4, 5, 9, 7, 9, 3, 7, 8, 4, 3, 6, 4, 9, 10, 9, 8, 9, 7, 6, 1, 7, 5, 2, 1, 10, 9, 2, 8, 10, 3, 8, 7, 8, 1, 10, 1, 1, 5, 2, 6, 4, 2, 3, 9, 8, 6, 7, 6, 10, 10, 8, 8, 3, 6, 4, 10, 4, 5, 6, 7, 7, 4, 7, 3, 10, 6, 1, 6, 10, 9, 6, 6, 9, 7, 9, 3, 1, 9, 1, 7, 5, 2, 10, 8, 8, 5, 7, 1, 8, 6, 1, 1, 1, 3, 5, 8, 2, 8, 2, 6, 7, 1, 5, 1, 8, 2, 9, 5, 10, 1, 3, 9, 5, 4, 6, 2, 7, 10, 1, 5, 6, 10, 6, 5, 4, 10, 3, 9, 10, 3, 1, 8, 2, 2, 5, 5, 9, 4, 6, 4, 8, 10, 2, 9, 8, 2, 4, 4, 7, 4, 5, 10, 6, 10, 4, 3, 9, 6, 7, 3, 3, 2, 10, 5, 9, 8, 8, 4, 10, 4, 7, 10, 10, 7, 7, 9, 5, 6, 5, 3, 9, 4, 3, 4, 2, 2, 5, 3, 10, 6, 10, 6, 3, 5, 5, 10, 8, 2, 3, 5, 1, 9, 8, 7, 5, 10, 10, 7, 6, 6, 8, 10, 5, 5, 10, 7, 1, 6, 5, 5, 3, 1, 8, 10, 10, 3, 3, 4, 7, 4, 5, 4, 3, 1, 6, 6, 7, 5, 5, 7, 5, 2, 2, 1, 1, 10, 8, 5, 3, 1, 7, 5, 10, 1, 2, 5, 6, 10, 2, 4, 3, 2, 4, 1, 4, 3, 10, 1, 10, 7, 10, 9, 5, 3, 3, 1, 9, 10, 1, 4, 4, 7, 6, 5, 1, 2, 1, 5, 7, 4, 2, 4, 8, 7, 8, 5, 6, 4, 7, 4, 5, 4, 2, 10, 5, 7, 7, 8, 1, 1, 1, 2, 9, 7, 3, 3, 8, 6, 2, 6, 1, 10, 5, 6, 2, 6, 5, 9, 2, 10, 3, 5, 7, 4, 2, 10, 8, 10, 9, 1, 5, 1, 3, 1, 10, 9, 7, 7, 9, 7, 9, 10, 3, 2, 5, 10, 2, 4, 5, 5, 8, 9, 8, 1, 10, 8, 6, 6, 1, 9, 9, 9, 3, 10, 10, 8, 10, 5, 2, 1, 10, 3, 2, 5, 1, 8, 1, 7, 8, 3, 5, 5, 3, 10, 4, 1, 5, 9, 10, 1, 8, 1, 5, 7, 5, 3, 1, 9, 1, 5, 5, 7, 10, 2, 4, 10, 7, 4, 3, 6, 10, 5, 1, 5, 4, 1, 5, 5, 4, 5, 8, 4, 1, 5, 5, 6, 4, 1, 1, 9, 7, 8, 7, 1, 6, 10, 7, 10, 1, 10, 10, 9, 10, 1, 5, 10, 4, 8, 7, 4, 10, 9, 1, 2, 3, 2, 7, 8, 9, 8, 1, 1, 7, 5, 5, 9, 1, 5, 6, 3, 5, 9, 10, 10, 10, 10, 8, 2, 6, 8, 10, 7, 10, 8, 3, 5, 2, 9, 4, 5, 9, 5, 1, 2, 1, 2, 4, 2, 10, 8, 2, 8, 3, 6, 10, 2, 5, 3, 1, 1, 8, 7, 4, 5, 9, 8, 2, 1, 3, 1, 6, 3, 2, 4, 9, 4, 4, 9, 5, 1, 9, 9, 10, 4, 1, 1, 1, 10, 8, 3, 3, 7, 1, 8, 3, 6, 6, 5, 2, 2, 1, 10, 1, 7, 2, 4, 2, 8, 4, 2, 4, 1, 7, 7, 6, 2, 9, 2, 2, 4, 7, 10, 4, 4, 9, 10, 10, 8, 1, 2, 5, 5, 6, 8, 4, 3, 7, 5, 7, 1, 5, 6, 5, 7, 6, 2, 2, 10, 1, 6, 9, 2, 7, 2, 5, 1, 7, 1, 1, 1, 10, 6, 1, 6, 7, 4, 2, 8, 8, 4, 7, 5, 3, 9, 4, 1, 2, 2, 2, 3, 5, 5, 3, 3, 9, 7, 2, 9, 3, 6, 6, 8, 1, 10, 3, 10, 10, 9, 5, 7, 8, 4, 7, 2, 4, 1, 6, 2, 4, 1]\n"
     ]
    }
   ],
   "source": [
    "print(Y_pred)"
   ]
  },
  {
   "cell_type": "code",
   "execution_count": 39,
   "metadata": {},
   "outputs": [],
   "source": [
    "Y_actual = [1+np.argmax(Y_test.iloc[i,:]) for i in range(0,n_test)]\n"
   ]
  },
  {
   "cell_type": "code",
   "execution_count": 40,
   "metadata": {},
   "outputs": [
    {
     "name": "stdout",
     "output_type": "stream",
     "text": [
      "[3, 10, 1, 8, 2, 2, 4, 8, 9, 2, 10, 1, 5, 8, 10, 7, 7, 5, 1, 9, 1, 3, 10, 4, 10, 3, 1, 5, 1, 10, 2, 2, 9, 7, 4, 7, 7, 10, 2, 3, 4, 4, 3, 7, 8, 8, 7, 5, 6, 2, 7, 5, 4, 3, 1, 2, 1, 2, 9, 9, 10, 8, 8, 2, 1, 9, 6, 3, 6, 1, 6, 6, 7, 6, 1, 6, 2, 9, 4, 1, 10, 3, 9, 2, 6, 5, 4, 7, 8, 4, 5, 6, 4, 5, 6, 2, 1, 3, 9, 1, 1, 10, 4, 6, 8, 6, 7, 9, 10, 7, 4, 9, 2, 5, 9, 6, 1, 5, 7, 4, 6, 8, 4, 1, 9, 3, 7, 4, 10, 8, 5, 2, 8, 10, 5, 9, 4, 2, 2, 5, 2, 2, 3, 7, 1, 8, 8, 7, 4, 9, 7, 4, 2, 1, 9, 5, 3, 4, 5, 5, 2, 3, 1, 2, 9, 9, 8, 9, 5, 9, 9, 7, 4, 3, 4, 9, 5, 2, 2, 8, 10, 10, 6, 10, 8, 6, 4, 8, 2, 10, 4, 10, 10, 1, 6, 7, 8, 10, 9, 9, 9, 2, 10, 10, 6, 1, 6, 5, 2, 10, 9, 3, 10, 1, 6, 3, 2, 3, 10, 5, 1, 8, 3, 4, 1, 5, 3, 5, 3, 8, 6, 1, 9, 8, 5, 6, 10, 1, 3, 5, 2, 9, 3, 4, 1, 8, 8, 9, 1, 7, 9, 5, 7, 6, 2, 10, 8, 7, 6, 6, 3, 2, 2, 4, 5, 6, 8, 6, 8, 3, 3, 5, 3, 4, 6, 3, 1, 7, 3, 5, 9, 8, 7, 9, 4, 5, 2, 10, 4, 6, 2, 5, 8, 6, 5, 7, 6, 2, 6, 4, 8, 6, 5, 10, 9, 2, 9, 7, 7, 9, 3, 8, 8, 2, 7, 3, 2, 10, 6, 5, 9, 9, 9, 8, 7, 5, 6, 7, 7, 10, 6, 3, 2, 8, 8, 6, 1, 9, 8, 2, 4, 4, 2, 2, 1, 9, 3, 8, 1, 9, 8, 6, 7, 7, 8, 8, 1, 5, 1, 9, 10, 6, 8, 5, 2, 8, 10, 3, 8, 2, 10, 8, 8, 5, 1, 3, 4, 3, 10, 6, 2, 2, 7, 8, 3, 10, 8, 8, 7, 2, 5, 10, 4, 3, 9, 8, 4, 3, 5, 1, 2, 10, 7, 7, 2, 10, 8, 7, 9, 10, 5, 9, 3, 9, 7, 5, 9, 2, 2, 2, 3, 8, 9, 2, 1, 2, 2, 8, 4, 8, 4, 8, 1, 4, 4, 4, 9, 5, 9, 1, 2, 4, 4, 3, 10, 8, 6, 4, 4, 2, 1, 8, 1, 3, 1, 6, 4, 5, 3, 7, 8, 6, 6, 7, 7, 6, 1, 4, 1, 9, 1, 3, 8, 6, 4, 3, 8, 7, 5, 2, 3, 6, 9, 1, 5, 9, 7, 3, 1, 5, 8, 1, 8, 5, 1, 3, 3, 1, 4, 1, 4, 1, 4, 8, 5, 7, 6, 3, 10, 7, 6, 7, 3, 8, 7, 7, 2, 7, 2, 10, 2, 1, 4, 1, 3, 7, 1, 9, 2, 6, 8, 4, 3, 3, 4, 10, 9, 5, 4, 5, 4, 8, 7, 5, 6, 8, 3, 2, 3, 9, 4, 10, 10, 5, 8, 8, 7, 10, 1, 9, 9, 10, 7, 10, 8, 4, 6, 9, 5, 6, 8, 4, 3, 4, 2, 10, 8, 2, 4, 6, 7, 10, 3, 2, 9, 6, 10, 5, 4, 7, 6, 5, 3, 6, 6, 4, 3, 10, 7, 10, 10, 6, 2, 2, 5, 4, 7, 7, 6, 9, 5, 3, 2, 3, 7, 6, 10, 1, 3, 3, 3, 5, 4, 1, 10, 8, 3, 4, 3, 9, 8, 6, 4, 2, 8, 10, 8, 5, 5, 9, 10, 8, 2, 9, 5, 4, 2, 7, 3, 9, 10, 2, 9, 2, 1, 2, 9, 9, 1, 8, 4, 1, 9, 9, 5, 9, 5, 4, 7, 5, 8, 3, 4, 4, 2, 1, 8, 10, 9, 1, 2, 5, 7, 2, 3, 3, 3, 4, 3, 8, 2, 9, 3, 1, 9, 7, 9, 7, 9, 7, 1, 7, 9, 8, 7, 3, 8, 6, 6, 7, 4, 5, 3, 5, 9, 10, 4, 6, 4, 4, 6, 7, 10, 4, 8, 8, 4, 7, 3, 5, 1, 1, 5, 1, 3, 8, 3, 10, 9, 5, 8, 2, 10, 3, 3, 8, 5, 4, 7, 4, 1, 3, 5, 3, 3, 2, 8, 3, 3, 8, 5, 6, 8, 6, 9, 1, 7, 10, 10, 6, 8, 1, 1, 3, 7, 9, 9, 9, 2, 4, 1, 10, 4, 1, 1]\n"
     ]
    }
   ],
   "source": [
    "print(Y_actual)"
   ]
  },
  {
   "cell_type": "code",
   "execution_count": 41,
   "metadata": {},
   "outputs": [],
   "source": [
    "ca = accuracy_score(Y_actual, Y_pred)"
   ]
  },
  {
   "cell_type": "code",
   "execution_count": 42,
   "metadata": {},
   "outputs": [
    {
     "name": "stdout",
     "output_type": "stream",
     "text": [
      "Classification Accuracy : 0.17\n"
     ]
    }
   ],
   "source": [
    "print(\"Classification Accuracy : {:.2f}\".format(ca))"
   ]
  },
  {
   "cell_type": "code",
   "execution_count": 43,
   "metadata": {},
   "outputs": [],
   "source": [
    "cm = confusion_matrix(Y_actual, Y_pred)"
   ]
  },
  {
   "cell_type": "code",
   "execution_count": 44,
   "metadata": {},
   "outputs": [],
   "source": [
    "C = set(list(Y_pred)+list(Y_actual)) "
   ]
  },
  {
   "cell_type": "code",
   "execution_count": 45,
   "metadata": {},
   "outputs": [],
   "source": [
    "cm = pd.DataFrame(cm,index=C,columns=C)"
   ]
  },
  {
   "cell_type": "code",
   "execution_count": 46,
   "metadata": {
    "scrolled": true
   },
   "outputs": [
    {
     "name": "stdout",
     "output_type": "stream",
     "text": [
      "\n",
      "Confusion Matrix\n",
      "    1   2   3   4   5   6   7   8   9   10\n",
      "1   30  13   3   5   3   6   5   1   1   9\n",
      "2   14  15  11   9   5   5   5   1   9   8\n",
      "3    8  15  12  12  10   9   6   7   5   3\n",
      "4   11  11  11   5   9   7  15   2   6   5\n",
      "5   12   6   8   9  13   3   7   6   6   3\n",
      "6    5   6   8   5  11  11   8   7   6   2\n",
      "7    4   6   3  10  17   2   7   9   7   9\n",
      "8    6   8   3   4  11   8  10  11  15  15\n",
      "9    4   1   6   7   7  10   7  12   8  21\n",
      "10  13   2   1   4   6   4   3   9   5  21\n",
      "\n"
     ]
    }
   ],
   "source": [
    "print(\"\")\n",
    "print(\"Confusion Matrix\")\n",
    "print(cm)\n",
    "print(\"\")"
   ]
  },
  {
   "cell_type": "code",
   "execution_count": 48,
   "metadata": {},
   "outputs": [],
   "source": [
    "# Let's re-do the anlaysis using SVM\n",
    "\n",
    "#\n",
    "# Part 1 - load the data and required modules\n",
    "#\n",
    "import sys\n",
    "from sklearn import svm\n",
    "# bring in normalization routine\n",
    "from sklearn.preprocessing import StandardScaler\n",
    "from sklearn.model_selection import train_test_split\n",
    "from sklearn.metrics import accuracy_score\n",
    "from sklearn.metrics import confusion_matrix\n",
    "from sklearn.metrics import auc, roc_curve\n",
    "import pandas as pd\n",
    "import numpy as np\n",
    "from six import StringIO\n",
    "from matplotlib import pyplot as plt\n",
    "import os"
   ]
  },
  {
   "cell_type": "code",
   "execution_count": null,
   "metadata": {},
   "outputs": [],
   "source": []
  }
 ],
 "metadata": {
  "kernelspec": {
   "display_name": "Python 3",
   "language": "python",
   "name": "python3"
  },
  "language_info": {
   "codemirror_mode": {
    "name": "ipython",
    "version": 3
   },
   "file_extension": ".py",
   "mimetype": "text/x-python",
   "name": "python",
   "nbconvert_exporter": "python",
   "pygments_lexer": "ipython3",
   "version": "3.7.6"
  }
 },
 "nbformat": 4,
 "nbformat_minor": 4
}
