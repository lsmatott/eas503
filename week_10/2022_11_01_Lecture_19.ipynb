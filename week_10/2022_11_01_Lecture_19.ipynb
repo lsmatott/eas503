{
 "cells": [
  {
   "cell_type": "code",
   "execution_count": 1,
   "metadata": {},
   "outputs": [],
   "source": [
    "import sqlite3"
   ]
  },
  {
   "cell_type": "code",
   "execution_count": 2,
   "metadata": {},
   "outputs": [],
   "source": [
    "import pandas as pd"
   ]
  },
  {
   "cell_type": "code",
   "execution_count": 3,
   "metadata": {},
   "outputs": [],
   "source": [
    "conn = sqlite3.connect(\"c:\\\\temp\\\\join_example_database.db\")"
   ]
  },
  {
   "cell_type": "code",
   "execution_count": 7,
   "metadata": {},
   "outputs": [],
   "source": [
    "# the statement that we would normally have entered in the CLI\n",
    "sql_statement = \"SELECT Quantities.product, Quantities.quantity FROM Quantities\""
   ]
  },
  {
   "cell_type": "code",
   "execution_count": 8,
   "metadata": {},
   "outputs": [
    {
     "data": {
      "text/plain": [
       "'SELECT Quantities.product, Quantities.quantity FROM Quantities'"
      ]
     },
     "execution_count": 8,
     "metadata": {},
     "output_type": "execute_result"
    }
   ],
   "source": [
    "sql_statement"
   ]
  },
  {
   "cell_type": "code",
   "execution_count": 9,
   "metadata": {},
   "outputs": [
    {
     "data": {
      "text/html": [
       "<div>\n",
       "<style scoped>\n",
       "    .dataframe tbody tr th:only-of-type {\n",
       "        vertical-align: middle;\n",
       "    }\n",
       "\n",
       "    .dataframe tbody tr th {\n",
       "        vertical-align: top;\n",
       "    }\n",
       "\n",
       "    .dataframe thead th {\n",
       "        text-align: right;\n",
       "    }\n",
       "</style>\n",
       "<table border=\"1\" class=\"dataframe\">\n",
       "  <thead>\n",
       "    <tr style=\"text-align: right;\">\n",
       "      <th></th>\n",
       "      <th>PRODUCT</th>\n",
       "      <th>QUANTITY</th>\n",
       "    </tr>\n",
       "  </thead>\n",
       "  <tbody>\n",
       "    <tr>\n",
       "      <th>0</th>\n",
       "      <td>Potatoes</td>\n",
       "      <td>45</td>\n",
       "    </tr>\n",
       "    <tr>\n",
       "      <th>1</th>\n",
       "      <td>Avacados</td>\n",
       "      <td>63</td>\n",
       "    </tr>\n",
       "    <tr>\n",
       "      <th>2</th>\n",
       "      <td>Kiwis</td>\n",
       "      <td>19</td>\n",
       "    </tr>\n",
       "    <tr>\n",
       "      <th>3</th>\n",
       "      <td>Onions</td>\n",
       "      <td>20</td>\n",
       "    </tr>\n",
       "    <tr>\n",
       "      <th>4</th>\n",
       "      <td>Melons</td>\n",
       "      <td>66</td>\n",
       "    </tr>\n",
       "    <tr>\n",
       "      <th>5</th>\n",
       "      <td>Broccoli</td>\n",
       "      <td>27</td>\n",
       "    </tr>\n",
       "    <tr>\n",
       "      <th>6</th>\n",
       "      <td>Squash</td>\n",
       "      <td>92</td>\n",
       "    </tr>\n",
       "  </tbody>\n",
       "</table>\n",
       "</div>"
      ],
      "text/plain": [
       "    PRODUCT  QUANTITY\n",
       "0  Potatoes        45\n",
       "1  Avacados        63\n",
       "2     Kiwis        19\n",
       "3    Onions        20\n",
       "4    Melons        66\n",
       "5  Broccoli        27\n",
       "6    Squash        92"
      ]
     },
     "metadata": {},
     "output_type": "display_data"
    }
   ],
   "source": [
    "df = pd.read_sql_query(sql_statement, conn)\n",
    "display(df)"
   ]
  },
  {
   "cell_type": "code",
   "execution_count": 10,
   "metadata": {},
   "outputs": [
    {
     "data": {
      "text/html": [
       "<div>\n",
       "<style scoped>\n",
       "    .dataframe tbody tr th:only-of-type {\n",
       "        vertical-align: middle;\n",
       "    }\n",
       "\n",
       "    .dataframe tbody tr th {\n",
       "        vertical-align: top;\n",
       "    }\n",
       "\n",
       "    .dataframe thead th {\n",
       "        text-align: right;\n",
       "    }\n",
       "</style>\n",
       "<table border=\"1\" class=\"dataframe\">\n",
       "  <thead>\n",
       "    <tr style=\"text-align: right;\">\n",
       "      <th></th>\n",
       "      <th>PRODUCT</th>\n",
       "      <th>QUANTITY</th>\n",
       "    </tr>\n",
       "  </thead>\n",
       "  <tbody>\n",
       "    <tr>\n",
       "      <th>0</th>\n",
       "      <td>Potatoes</td>\n",
       "      <td>45</td>\n",
       "    </tr>\n",
       "    <tr>\n",
       "      <th>1</th>\n",
       "      <td>Avacados</td>\n",
       "      <td>63</td>\n",
       "    </tr>\n",
       "    <tr>\n",
       "      <th>2</th>\n",
       "      <td>Kiwis</td>\n",
       "      <td>19</td>\n",
       "    </tr>\n",
       "    <tr>\n",
       "      <th>3</th>\n",
       "      <td>Onions</td>\n",
       "      <td>20</td>\n",
       "    </tr>\n",
       "    <tr>\n",
       "      <th>4</th>\n",
       "      <td>Melons</td>\n",
       "      <td>66</td>\n",
       "    </tr>\n",
       "    <tr>\n",
       "      <th>5</th>\n",
       "      <td>Broccoli</td>\n",
       "      <td>27</td>\n",
       "    </tr>\n",
       "    <tr>\n",
       "      <th>6</th>\n",
       "      <td>Squash</td>\n",
       "      <td>92</td>\n",
       "    </tr>\n",
       "  </tbody>\n",
       "</table>\n",
       "</div>"
      ],
      "text/plain": [
       "    PRODUCT  QUANTITY\n",
       "0  Potatoes        45\n",
       "1  Avacados        63\n",
       "2     Kiwis        19\n",
       "3    Onions        20\n",
       "4    Melons        66\n",
       "5  Broccoli        27\n",
       "6    Squash        92"
      ]
     },
     "execution_count": 10,
     "metadata": {},
     "output_type": "execute_result"
    }
   ],
   "source": [
    "df"
   ]
  },
  {
   "cell_type": "code",
   "execution_count": 11,
   "metadata": {},
   "outputs": [
    {
     "data": {
      "text/html": [
       "<div>\n",
       "<style scoped>\n",
       "    .dataframe tbody tr th:only-of-type {\n",
       "        vertical-align: middle;\n",
       "    }\n",
       "\n",
       "    .dataframe tbody tr th {\n",
       "        vertical-align: top;\n",
       "    }\n",
       "\n",
       "    .dataframe thead th {\n",
       "        text-align: right;\n",
       "    }\n",
       "</style>\n",
       "<table border=\"1\" class=\"dataframe\">\n",
       "  <thead>\n",
       "    <tr style=\"text-align: right;\">\n",
       "      <th></th>\n",
       "      <th>PRODUCT</th>\n",
       "      <th>QUANTITY</th>\n",
       "    </tr>\n",
       "  </thead>\n",
       "  <tbody>\n",
       "    <tr>\n",
       "      <th>0</th>\n",
       "      <td>Avacados</td>\n",
       "      <td>63</td>\n",
       "    </tr>\n",
       "    <tr>\n",
       "      <th>1</th>\n",
       "      <td>Melons</td>\n",
       "      <td>66</td>\n",
       "    </tr>\n",
       "    <tr>\n",
       "      <th>2</th>\n",
       "      <td>Squash</td>\n",
       "      <td>92</td>\n",
       "    </tr>\n",
       "  </tbody>\n",
       "</table>\n",
       "</div>"
      ],
      "text/plain": [
       "    PRODUCT  QUANTITY\n",
       "0  Avacados        63\n",
       "1    Melons        66\n",
       "2    Squash        92"
      ]
     },
     "execution_count": 11,
     "metadata": {},
     "output_type": "execute_result"
    }
   ],
   "source": [
    "# solving the hw question\n",
    "sql_statement = \"SELECT Quantities.product, Quantities.quantity FROM Quantities WHERE Quantities.quantity > 60\"\n",
    "q1 = pd.read_sql_query(sql_statement, conn)\n",
    "q1"
   ]
  },
  {
   "cell_type": "code",
   "execution_count": 12,
   "metadata": {},
   "outputs": [],
   "source": [
    "def create_connection(db_file):\n",
    "    conn = None\n",
    "    try:\n",
    "        conn = sqlite3.connect(db_file)\n",
    "    except Error as e:\n",
    "        print(e)\n",
    "\n",
    "    return conn"
   ]
  },
  {
   "cell_type": "code",
   "execution_count": 13,
   "metadata": {},
   "outputs": [],
   "source": [
    "def create_table(conn, create_table_sql):\n",
    "    try:\n",
    "        c = conn.cursor()\n",
    "        c.execute(create_table_sql)\n",
    "    except Error as e:\n",
    "        print(e)"
   ]
  },
  {
   "cell_type": "code",
   "execution_count": 14,
   "metadata": {},
   "outputs": [],
   "source": [
    "db_file = \"C:\\\\temp\\students.db\"\n",
    "conn = create_connection(db_file)"
   ]
  },
  {
   "cell_type": "code",
   "execution_count": 15,
   "metadata": {},
   "outputs": [
    {
     "name": "stdout",
     "output_type": "stream",
     "text": [
      "('Joe', 'Smith')\n",
      "('Jonny', 'Chitwood')\n",
      "('Joseph', 'Chunger')\n",
      "('John Smith', 'Calhoun')\n"
     ]
    }
   ],
   "source": [
    "cur = conn.cursor()\n",
    "cur.execute(\"SELECT first_name, last_name FROM students\")\n",
    "rows = cur.fetchall()\n",
    "for r in rows:\n",
    "    print(r)"
   ]
  },
  {
   "cell_type": "code",
   "execution_count": 16,
   "metadata": {},
   "outputs": [
    {
     "data": {
      "text/plain": [
       "[('Joe', 'Smith'),\n",
       " ('Jonny', 'Chitwood'),\n",
       " ('Joseph', 'Chunger'),\n",
       " ('John Smith', 'Calhoun')]"
      ]
     },
     "execution_count": 16,
     "metadata": {},
     "output_type": "execute_result"
    }
   ],
   "source": [
    "rows"
   ]
  },
  {
   "cell_type": "code",
   "execution_count": 17,
   "metadata": {},
   "outputs": [],
   "source": [
    "cur.execute(\"SELECT * FROM students\")\n",
    "rows = cur.fetchall()"
   ]
  },
  {
   "cell_type": "code",
   "execution_count": 18,
   "metadata": {},
   "outputs": [
    {
     "data": {
      "text/plain": [
       "[('Smith', 'Joe', 'joesmith', 90.0, 95.0, 97.0),\n",
       " ('Chitwood', 'Jonny', 'jchitwood', 80.0, 85.0, 87.0),\n",
       " ('Chunger', 'Joseph', 'jchunger', 70.0, 75.0, 77.0),\n",
       " ('Calhoun', 'John Smith', 'jscalhoun', 80.0, 85.0, 87.0)]"
      ]
     },
     "execution_count": 18,
     "metadata": {},
     "output_type": "execute_result"
    }
   ],
   "source": [
    "rows"
   ]
  },
  {
   "cell_type": "code",
   "execution_count": 30,
   "metadata": {},
   "outputs": [
    {
     "name": "stdout",
     "output_type": "stream",
     "text": [
      "['Anderson, Samuel', '84', '220']\n",
      "['Cummings, Jacob', '79', '269']\n",
      "['Sosa, Walter', '74', '194']\n",
      "['Conway, Joel', '75', '242']\n",
      "['Burton, Andrew', '105', '226']\n",
      "['Harris, Judith', '109', '200']\n",
      "['Thomas, Abigail', '38', '99']\n",
      "['Edwards, Sarah', '119', '394']\n",
      "['Pratt, Jennifer', '109', '313']\n",
      "['Hess, Patricia', '99', '307']\n",
      "['Butler, Brandon', '18', '69']\n",
      "['Williams, Tammy', '47', '151']\n",
      "['Williams, Jonathan', '51', '100']\n",
      "['Perry, Amy', '135', '388']\n",
      "['Mendez, Evelyn', '132', '203']\n",
      "['Jackson, Elizabeth', '50', '120']\n",
      "['Cameron, Douglas', '135', '317']\n",
      "['Wright, Heather', '60', '143']\n",
      "['Tucker, Mariah', '127', '395']\n",
      "['Jones, Rachel', '131', '375']\n",
      "['Hull, Tommy', '1', '3']\n",
      "['Guerra, Miguel', '137', '279']\n",
      "['Hernandez, Sarah', '42', '85']\n",
      "['Cortez, Ellen', '56', '192']\n",
      "['Lee, Tracy', '119', '273']\n",
      "['Griffith, Troy', '15', '31']\n",
      "['Torres, Ana', '7', '22']\n",
      "['Moore, Howard', '92', '248']\n",
      "['Nelson, Richard', '122', '339']\n",
      "['James, Lisa', '44', '124']\n",
      "['Macias, Hannah', '21', '79']\n",
      "['Rodriguez, Richard', '48', '137']\n",
      "['Ho, Christopher', '101', '303']\n",
      "['Fisher, Raymond', '96', '312']\n",
      "['Jones, Gregory', '79', '267']\n",
      "['Davenport, Ashley', '33', '66']\n",
      "['Peters, Jamie', '109', '368']\n",
      "['Aguilar, Lisa', '100', '388']\n",
      "['Bush, David', '137', '266']\n",
      "['Barr, Samantha', '2', '7']\n",
      "['Gordon, Steven', '61', '123']\n",
      "['Jones, Matthew', '133', '331']\n",
      "['Harris, Ronald', '33', '51']\n",
      "['Crane, Brandon', '88', '342']\n",
      "['Fry, Michael', '52', '118']\n",
      "['Mann, Monica', '42', '141']\n",
      "['Matthews, Richard', '112', '216']\n",
      "['Perkins, Jon', '4', '14']\n",
      "['Williams, Jasmine', '30', '51']\n",
      "['Rowland, Kristy', '52', '180']\n",
      "['Montgomery, Tanya', '101', '165']\n",
      "['Mcgee, Steven', '1', '2']\n",
      "['Aguilar, Amber', '53', '96']\n",
      "['Stuart, Jason', '2', '4']\n",
      "['Humphrey, Kyle', '16', '61']\n",
      "['Stewart, Christina', '47', '176']\n",
      "['Roberts, Thomas', '11', '40']\n",
      "['Weber, Jason', '107', '256']\n",
      "['Lee, Karen', '42', '82']\n",
      "['Lopez, Edward', '35', '65']\n",
      "['Baldwin, Kayla', '109', '301']\n",
      "['Dunn, Madison', '99', '308']\n",
      "['Brown, Sarah', '17', '43']\n",
      "['Bowman, Christina', '98', '260']\n",
      "['Vazquez, Jennifer', '137', '206']\n",
      "['Mccarthy, Emily', '124', '367']\n",
      "['Lewis, Carrie', '134', '385']\n",
      "['Jackson, Mark', '113', '393']\n",
      "['Weaver, Julie', '31', '98']\n",
      "['Torres, Lauren', '108', '398']\n",
      "['Moon, Mary', '29', '105']\n",
      "['Church, Michelle', '83', '311']\n",
      "['Haley, Laura', '124', '369']\n",
      "['Rodriguez, Ann', '12', '31']\n",
      "['Gomez, Colleen', '109', '242']\n",
      "['Hunter, Amy', '19', '66']\n",
      "['Davis, Anthony', '113', '393']\n",
      "['Graves, Dorothy', '51', '108']\n",
      "['Miller, Phyllis', '59', '154']\n",
      "['Burnett, Robert', '23', '42']\n",
      "['Haley, Sophia', '112', '308']\n",
      "['Shaw, Ashley', '48', '136']\n",
      "['Erickson, Andrew', '112', '232']\n",
      "['Weaver, Rebecca', '65', '238']\n",
      "['Young, Danielle', '97', '166']\n",
      "['Howell, Carol', '131', '345']\n",
      "['Stephens, Jasmin', '101', '266']\n",
      "['Guerrero, Justin', '116', '380']\n",
      "['Aguilar, Ashley', '132', '213']\n",
      "['Holmes, Kelly', '109', '232']\n",
      "['Fleming, Erica', '60', '91']\n",
      "['Christian, Raymond', '12', '20']\n",
      "['Franklin, Brian', '107', '321']\n",
      "['James, Ashley', '94', '246']\n",
      "['Johnson, Christine', '60', '219']\n",
      "['Holland, Brian', '101', '246']\n",
      "['Harrison, Rebecca', '76', '277']\n",
      "['Harrell, Meagan', '61', '216']\n",
      "['Mitchell, Johnny', '109', '180']\n",
      "['Cooper, Kevin', '46', '108']\n"
     ]
    }
   ],
   "source": [
    "import os\n",
    "db_file = 'c:\\\\temp\\\\students.db'\n",
    "if os.path.exists(db_file):\n",
    "    os.remove(db_file)\n",
    "\n",
    "create_table_sql = \"\"\"\n",
    "CREATE TABLE students(\n",
    "    full_name TEXT,\n",
    "    exam1 REAL,\n",
    "    exam2 REAL);\n",
    "\"\"\"\n",
    "\n",
    "def insert_student(conn, values):\n",
    "    sql = '''\n",
    "    INSERT INTO students(full_name, exam1, exam2)\n",
    "    VALUES(?,?,?)\n",
    "    '''\n",
    "    cur = conn.cursor()\n",
    "    cur.execute(sql, values)\n",
    "    return cur.lastrowid\n",
    "    \n",
    "conn = create_connection(db_file)\n",
    "with conn:\n",
    "    create_table(conn, create_table_sql)\n",
    "    \n",
    "    for student in open('c:\\\\temp\\\\students.tsv', 'r'):\n",
    "        values = student.strip().split('\\t')\n",
    "        print(values)\n",
    "        rid = insert_student(conn, values)\n",
    "\n",
    "\n"
   ]
  },
  {
   "cell_type": "code",
   "execution_count": 31,
   "metadata": {},
   "outputs": [
    {
     "data": {
      "text/html": [
       "<div>\n",
       "<style scoped>\n",
       "    .dataframe tbody tr th:only-of-type {\n",
       "        vertical-align: middle;\n",
       "    }\n",
       "\n",
       "    .dataframe tbody tr th {\n",
       "        vertical-align: top;\n",
       "    }\n",
       "\n",
       "    .dataframe thead th {\n",
       "        text-align: right;\n",
       "    }\n",
       "</style>\n",
       "<table border=\"1\" class=\"dataframe\">\n",
       "  <thead>\n",
       "    <tr style=\"text-align: right;\">\n",
       "      <th></th>\n",
       "      <th>full_name</th>\n",
       "      <th>exam1</th>\n",
       "      <th>exam2</th>\n",
       "    </tr>\n",
       "  </thead>\n",
       "  <tbody>\n",
       "    <tr>\n",
       "      <th>0</th>\n",
       "      <td>Anderson, Samuel</td>\n",
       "      <td>84.0</td>\n",
       "      <td>220.0</td>\n",
       "    </tr>\n",
       "    <tr>\n",
       "      <th>1</th>\n",
       "      <td>Cummings, Jacob</td>\n",
       "      <td>79.0</td>\n",
       "      <td>269.0</td>\n",
       "    </tr>\n",
       "    <tr>\n",
       "      <th>2</th>\n",
       "      <td>Sosa, Walter</td>\n",
       "      <td>74.0</td>\n",
       "      <td>194.0</td>\n",
       "    </tr>\n",
       "    <tr>\n",
       "      <th>3</th>\n",
       "      <td>Conway, Joel</td>\n",
       "      <td>75.0</td>\n",
       "      <td>242.0</td>\n",
       "    </tr>\n",
       "    <tr>\n",
       "      <th>4</th>\n",
       "      <td>Burton, Andrew</td>\n",
       "      <td>105.0</td>\n",
       "      <td>226.0</td>\n",
       "    </tr>\n",
       "    <tr>\n",
       "      <th>...</th>\n",
       "      <td>...</td>\n",
       "      <td>...</td>\n",
       "      <td>...</td>\n",
       "    </tr>\n",
       "    <tr>\n",
       "      <th>95</th>\n",
       "      <td>Holland, Brian</td>\n",
       "      <td>101.0</td>\n",
       "      <td>246.0</td>\n",
       "    </tr>\n",
       "    <tr>\n",
       "      <th>96</th>\n",
       "      <td>Harrison, Rebecca</td>\n",
       "      <td>76.0</td>\n",
       "      <td>277.0</td>\n",
       "    </tr>\n",
       "    <tr>\n",
       "      <th>97</th>\n",
       "      <td>Harrell, Meagan</td>\n",
       "      <td>61.0</td>\n",
       "      <td>216.0</td>\n",
       "    </tr>\n",
       "    <tr>\n",
       "      <th>98</th>\n",
       "      <td>Mitchell, Johnny</td>\n",
       "      <td>109.0</td>\n",
       "      <td>180.0</td>\n",
       "    </tr>\n",
       "    <tr>\n",
       "      <th>99</th>\n",
       "      <td>Cooper, Kevin</td>\n",
       "      <td>46.0</td>\n",
       "      <td>108.0</td>\n",
       "    </tr>\n",
       "  </tbody>\n",
       "</table>\n",
       "<p>100 rows × 3 columns</p>\n",
       "</div>"
      ],
      "text/plain": [
       "            full_name  exam1  exam2\n",
       "0    Anderson, Samuel   84.0  220.0\n",
       "1     Cummings, Jacob   79.0  269.0\n",
       "2        Sosa, Walter   74.0  194.0\n",
       "3        Conway, Joel   75.0  242.0\n",
       "4      Burton, Andrew  105.0  226.0\n",
       "..                ...    ...    ...\n",
       "95     Holland, Brian  101.0  246.0\n",
       "96  Harrison, Rebecca   76.0  277.0\n",
       "97    Harrell, Meagan   61.0  216.0\n",
       "98   Mitchell, Johnny  109.0  180.0\n",
       "99      Cooper, Kevin   46.0  108.0\n",
       "\n",
       "[100 rows x 3 columns]"
      ]
     },
     "execution_count": 31,
     "metadata": {},
     "output_type": "execute_result"
    }
   ],
   "source": [
    "sql_statement = \"SELECT * FROM Students\"\n",
    "df = pd.read_sql_query(sql_statement, conn)\n",
    "df"
   ]
  },
  {
   "cell_type": "code",
   "execution_count": 35,
   "metadata": {},
   "outputs": [],
   "source": [
    "db = 'depts_students.db'\n",
    "if os.path.exists(db):\n",
    "    os.remove(db)\n",
    "\n",
    "create_table_departments_sql = \"\"\" CREATE TABLE [Departments] (\n",
    "    [DepartmentId] INTEGER  NOT NULL PRIMARY KEY,\n",
    "    [DepartmentName] TEXT \n",
    "); \"\"\"\n",
    "\n",
    "create_table_students_sql = \"\"\"CREATE TABLE [Students] (\n",
    "    [StudentId] INTEGER  PRIMARY KEY NOT NULL,\n",
    "    [StudentName] TEXT NOT NULL,\n",
    "    [DepartmentId] INTEGER,\n",
    "    [DateOfBirth] DATE,\n",
    "    FOREIGN KEY(DepartmentId) REFERENCES Departments(DepartmentId)\n",
    ");\"\"\"\n",
    "\n",
    "\n",
    "depts = ('IT', 'Physics', 'Arts', 'Math')\n",
    "\n",
    "students = (\n",
    "    ('Michael', 1, '1998-10-12'),\n",
    "    ('John', 1, '1998-10-12'),\n",
    "    ('Jack', 1, '1998-10-12'),\n",
    "    ('Sara', 2, '1998-10-12'),\n",
    "    ('Sally', 2, '1998-10-12'),\n",
    "    ('Jena', None, '1998-10-12'),\n",
    "    ('Nancy', 2, '1998-10-12'),\n",
    "    ('Adam', 3, '1998-10-12'),\n",
    "    ('Stevens', 3, '1998-10-12'),\n",
    "    ('George', None, '1998-10-12')\n",
    ")\n",
    "\n",
    "def insert_depts(conn, values):\n",
    "    sql = ''' INSERT INTO Departments(DepartmentName)\n",
    "              VALUES(?) '''\n",
    "    cur = conn.cursor()\n",
    "    cur.execute(sql, values)\n",
    "    return cur.lastrowid\n",
    "\n",
    "\n",
    "def insert_student(conn, values):\n",
    "    sql = ''' INSERT INTO Students(StudentName, DepartmentId, DateOfBirth)\n",
    "              VALUES(?,?,?) '''\n",
    "    cur = conn.cursor()\n",
    "    cur.execute(sql, values)\n",
    "    return cur.lastrowid\n",
    "\n",
    "conn = create_connection(db)\n",
    "\n",
    "with conn:\n",
    "\n",
    "    create_table(conn, create_table_departments_sql)\n",
    "    create_table(conn, create_table_students_sql)\n",
    "    for values in depts:\n",
    "        insert_depts(conn, (values,))\n",
    "        \n",
    "    for values in students:\n",
    "        insert_student(conn, values)\n"
   ]
  },
  {
   "cell_type": "code",
   "execution_count": 36,
   "metadata": {},
   "outputs": [
    {
     "data": {
      "text/html": [
       "<div>\n",
       "<style scoped>\n",
       "    .dataframe tbody tr th:only-of-type {\n",
       "        vertical-align: middle;\n",
       "    }\n",
       "\n",
       "    .dataframe tbody tr th {\n",
       "        vertical-align: top;\n",
       "    }\n",
       "\n",
       "    .dataframe thead th {\n",
       "        text-align: right;\n",
       "    }\n",
       "</style>\n",
       "<table border=\"1\" class=\"dataframe\">\n",
       "  <thead>\n",
       "    <tr style=\"text-align: right;\">\n",
       "      <th></th>\n",
       "      <th>StudentId</th>\n",
       "      <th>StudentName</th>\n",
       "      <th>DepartmentId</th>\n",
       "      <th>DateOfBirth</th>\n",
       "    </tr>\n",
       "  </thead>\n",
       "  <tbody>\n",
       "    <tr>\n",
       "      <th>0</th>\n",
       "      <td>1</td>\n",
       "      <td>Michael</td>\n",
       "      <td>1.0</td>\n",
       "      <td>1998-10-12</td>\n",
       "    </tr>\n",
       "    <tr>\n",
       "      <th>1</th>\n",
       "      <td>2</td>\n",
       "      <td>John</td>\n",
       "      <td>1.0</td>\n",
       "      <td>1998-10-12</td>\n",
       "    </tr>\n",
       "    <tr>\n",
       "      <th>2</th>\n",
       "      <td>3</td>\n",
       "      <td>Jack</td>\n",
       "      <td>1.0</td>\n",
       "      <td>1998-10-12</td>\n",
       "    </tr>\n",
       "    <tr>\n",
       "      <th>3</th>\n",
       "      <td>4</td>\n",
       "      <td>Sara</td>\n",
       "      <td>2.0</td>\n",
       "      <td>1998-10-12</td>\n",
       "    </tr>\n",
       "    <tr>\n",
       "      <th>4</th>\n",
       "      <td>5</td>\n",
       "      <td>Sally</td>\n",
       "      <td>2.0</td>\n",
       "      <td>1998-10-12</td>\n",
       "    </tr>\n",
       "    <tr>\n",
       "      <th>5</th>\n",
       "      <td>6</td>\n",
       "      <td>Jena</td>\n",
       "      <td>NaN</td>\n",
       "      <td>1998-10-12</td>\n",
       "    </tr>\n",
       "    <tr>\n",
       "      <th>6</th>\n",
       "      <td>7</td>\n",
       "      <td>Nancy</td>\n",
       "      <td>2.0</td>\n",
       "      <td>1998-10-12</td>\n",
       "    </tr>\n",
       "    <tr>\n",
       "      <th>7</th>\n",
       "      <td>8</td>\n",
       "      <td>Adam</td>\n",
       "      <td>3.0</td>\n",
       "      <td>1998-10-12</td>\n",
       "    </tr>\n",
       "    <tr>\n",
       "      <th>8</th>\n",
       "      <td>9</td>\n",
       "      <td>Stevens</td>\n",
       "      <td>3.0</td>\n",
       "      <td>1998-10-12</td>\n",
       "    </tr>\n",
       "    <tr>\n",
       "      <th>9</th>\n",
       "      <td>10</td>\n",
       "      <td>George</td>\n",
       "      <td>NaN</td>\n",
       "      <td>1998-10-12</td>\n",
       "    </tr>\n",
       "  </tbody>\n",
       "</table>\n",
       "</div>"
      ],
      "text/plain": [
       "   StudentId StudentName  DepartmentId DateOfBirth\n",
       "0          1     Michael           1.0  1998-10-12\n",
       "1          2        John           1.0  1998-10-12\n",
       "2          3        Jack           1.0  1998-10-12\n",
       "3          4        Sara           2.0  1998-10-12\n",
       "4          5       Sally           2.0  1998-10-12\n",
       "5          6        Jena           NaN  1998-10-12\n",
       "6          7       Nancy           2.0  1998-10-12\n",
       "7          8        Adam           3.0  1998-10-12\n",
       "8          9     Stevens           3.0  1998-10-12\n",
       "9         10      George           NaN  1998-10-12"
      ]
     },
     "metadata": {},
     "output_type": "display_data"
    }
   ],
   "source": [
    "sql_statement = \"SELECT * FROM Students\"\n",
    "df = pd.read_sql_query(sql_statement, conn)\n",
    "display(df)"
   ]
  },
  {
   "cell_type": "code",
   "execution_count": 37,
   "metadata": {},
   "outputs": [
    {
     "name": "stdout",
     "output_type": "stream",
     "text": [
      "(1, 'IT')\n",
      "(2, 'Physics')\n",
      "(3, 'Arts')\n",
      "(4, 'Math')\n"
     ]
    }
   ],
   "source": [
    "cur = conn.cursor()\n",
    "cur.execute('SELECT * FROM Departments')\n",
    "for row in cur.fetchall():  \n",
    "    print(row)"
   ]
  },
  {
   "cell_type": "code",
   "execution_count": 38,
   "metadata": {},
   "outputs": [],
   "source": [
    "for row in cur.fetchall():  \n",
    "    print(row)"
   ]
  },
  {
   "cell_type": "code",
   "execution_count": 39,
   "metadata": {},
   "outputs": [
    {
     "name": "stdout",
     "output_type": "stream",
     "text": [
      "(1, 'IT')\n",
      "(2, 'Physics')\n",
      "(3, 'Arts')\n",
      "(4, 'Math')\n",
      "None\n",
      "None\n"
     ]
    }
   ],
   "source": [
    "cur = conn.cursor()\n",
    "cur.execute('SELECT * FROM Departments')\n",
    "print(cur.fetchone())\n",
    "print(cur.fetchone())\n",
    "print(cur.fetchone())\n",
    "print(cur.fetchone())\n",
    "print(cur.fetchone())\n",
    "print(cur.fetchone())\n",
    "\n"
   ]
  },
  {
   "cell_type": "code",
   "execution_count": 40,
   "metadata": {},
   "outputs": [
    {
     "name": "stdout",
     "output_type": "stream",
     "text": [
      "{'IT': 1, 'Physics': 2, 'Arts': 3, 'Math': 4}\n"
     ]
    }
   ],
   "source": [
    "conn = create_connection(db)\n",
    "cur = conn.cursor()\n",
    "cur.execute('SELECT * FROM Departments')\n",
    "dept_fk_lookup = {}\n",
    "for row in cur.fetchall():\n",
    "    key, text = row\n",
    "    dept_fk_lookup[text] = key\n",
    "print(dept_fk_lookup)"
   ]
  },
  {
   "cell_type": "code",
   "execution_count": 41,
   "metadata": {},
   "outputs": [
    {
     "data": {
      "text/plain": [
       "dict_keys(['IT', 'Physics', 'Arts', 'Math'])"
      ]
     },
     "execution_count": 41,
     "metadata": {},
     "output_type": "execute_result"
    }
   ],
   "source": [
    "dept_fk_lookup.keys()"
   ]
  },
  {
   "cell_type": "code",
   "execution_count": 42,
   "metadata": {},
   "outputs": [
    {
     "data": {
      "text/plain": [
       "dict_values([1, 2, 3, 4])"
      ]
     },
     "execution_count": 42,
     "metadata": {},
     "output_type": "execute_result"
    }
   ],
   "source": [
    "dept_fk_lookup.values()"
   ]
  },
  {
   "cell_type": "code",
   "execution_count": 52,
   "metadata": {},
   "outputs": [],
   "source": [
    "db = 'depts_students.db'\n",
    "if os.path.exists(db):\n",
    "    os.remove(db)\n",
    "\n",
    "create_table_departments_sql = \"\"\" CREATE TABLE [Departments] (\n",
    "    [DepartmentId] INTEGER  NOT NULL PRIMARY KEY,\n",
    "    [DepartmentName] TEXT \n",
    "); \"\"\"\n",
    "\n",
    "create_table_students_sql = \"\"\"CREATE TABLE [Students] (\n",
    "    [StudentId] INTEGER  PRIMARY KEY NOT NULL,\n",
    "    [StudentName] TEXT NOT NULL,\n",
    "    [DepartmentId] INTEGER,\n",
    "    [DateOfBirth] DATE,\n",
    "    FOREIGN KEY(DepartmentId) REFERENCES Departments(DepartmentId)\n",
    ");\"\"\"\n",
    "\n",
    "depts = ('IT', 'Physics', 'Arts', 'Math')\n",
    "students = (\n",
    "    ('Michael', 'IT', '1998-10-12'),\n",
    "    ('John', 'IT', '1998-10-12'),\n",
    "    ('Jack', 'IT', '1998-10-12'),\n",
    "    ('Sara', 'Physics', '1998-10-12'),\n",
    "    ('Sally', 'Physics', '1998-10-12'),\n",
    "    ('Jena', None, '1998-10-12'),\n",
    "    ('Nancy', 'Physics', '1998-10-12'),\n",
    "    ('Adam', 'Arts', '1998-10-12'),\n",
    "    ('Stevens', 'Arts', '1998-10-12'),\n",
    "    ('George', None, '1998-10-12')\n",
    ")"
   ]
  },
  {
   "cell_type": "code",
   "execution_count": 53,
   "metadata": {},
   "outputs": [
    {
     "ename": "OperationalError",
     "evalue": "no such table: Departments",
     "output_type": "error",
     "traceback": [
      "\u001b[1;31m---------------------------------------------------------------------------\u001b[0m",
      "\u001b[1;31mOperationalError\u001b[0m                          Traceback (most recent call last)",
      "\u001b[1;32m<ipython-input-53-0ce7cdaba087>\u001b[0m in \u001b[0;36m<module>\u001b[1;34m\u001b[0m\n\u001b[0;32m      1\u001b[0m \u001b[0mconn\u001b[0m \u001b[1;33m=\u001b[0m \u001b[0mcreate_connection\u001b[0m\u001b[1;33m(\u001b[0m\u001b[0mdb\u001b[0m\u001b[1;33m)\u001b[0m\u001b[1;33m\u001b[0m\u001b[1;33m\u001b[0m\u001b[0m\n\u001b[0;32m      2\u001b[0m \u001b[0mcur\u001b[0m \u001b[1;33m=\u001b[0m \u001b[0mconn\u001b[0m\u001b[1;33m.\u001b[0m\u001b[0mcursor\u001b[0m\u001b[1;33m(\u001b[0m\u001b[1;33m)\u001b[0m\u001b[1;33m\u001b[0m\u001b[1;33m\u001b[0m\u001b[0m\n\u001b[1;32m----> 3\u001b[1;33m \u001b[0mcur\u001b[0m\u001b[1;33m.\u001b[0m\u001b[0mexecute\u001b[0m\u001b[1;33m(\u001b[0m\u001b[1;34m'SELECT * FROM Departments'\u001b[0m\u001b[1;33m)\u001b[0m\u001b[1;33m\u001b[0m\u001b[1;33m\u001b[0m\u001b[0m\n\u001b[0m\u001b[0;32m      4\u001b[0m \u001b[0mdept_fk_lookup\u001b[0m \u001b[1;33m=\u001b[0m \u001b[1;33m{\u001b[0m\u001b[1;33m}\u001b[0m\u001b[1;33m\u001b[0m\u001b[1;33m\u001b[0m\u001b[0m\n\u001b[0;32m      5\u001b[0m \u001b[1;32mfor\u001b[0m \u001b[0mrow\u001b[0m \u001b[1;32min\u001b[0m \u001b[0mcur\u001b[0m\u001b[1;33m.\u001b[0m\u001b[0mfetchall\u001b[0m\u001b[1;33m(\u001b[0m\u001b[1;33m)\u001b[0m\u001b[1;33m:\u001b[0m\u001b[1;33m\u001b[0m\u001b[1;33m\u001b[0m\u001b[0m\n",
      "\u001b[1;31mOperationalError\u001b[0m: no such table: Departments"
     ]
    }
   ],
   "source": [
    "conn = create_connection(db)\n",
    "cur = conn.cursor()\n",
    "cur.execute('SELECT * FROM Departments')\n",
    "dept_fk_lookup = {}\n",
    "for row in cur.fetchall():\n",
    "    key, text = row\n",
    "    dept_fk_lookup[text] = key\n",
    "print(dept_fk_lookup)\n",
    "\n",
    "with conn:\n",
    "\n",
    "    create_table(conn, create_table_departments_sql)\n",
    "    create_table(conn, create_table_students_sql)\n",
    "    for values in depts:\n",
    "        insert_depts(conn, (values, ))\n",
    "        \n",
    "    for values in students:\n",
    "        values = list(values)\n",
    "        print('BEFORE', values)\n",
    "        key = values[1]\n",
    "        print('key', key)\n",
    "        if key:\n",
    "            values[1] = dept_fk_lookup[values[1]]\n",
    "        print('AFTER',values)\n",
    "        insert_student(conn, values)"
   ]
  },
  {
   "cell_type": "code",
   "execution_count": 51,
   "metadata": {},
   "outputs": [],
   "source": [
    "conn.close()"
   ]
  },
  {
   "cell_type": "code",
   "execution_count": null,
   "metadata": {},
   "outputs": [],
   "source": []
  }
 ],
 "metadata": {
  "kernelspec": {
   "display_name": "Python 3",
   "language": "python",
   "name": "python3"
  },
  "language_info": {
   "codemirror_mode": {
    "name": "ipython",
    "version": 3
   },
   "file_extension": ".py",
   "mimetype": "text/x-python",
   "name": "python",
   "nbconvert_exporter": "python",
   "pygments_lexer": "ipython3",
   "version": "3.7.6"
  }
 },
 "nbformat": 4,
 "nbformat_minor": 4
}
