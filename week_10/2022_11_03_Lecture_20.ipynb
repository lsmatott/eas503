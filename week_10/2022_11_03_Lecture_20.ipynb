{
 "cells": [
  {
   "cell_type": "code",
   "execution_count": null,
   "metadata": {},
   "outputs": [],
   "source": [
    "# Agenda for this evening:\n",
    "# 1. Final Project\n",
    "\n",
    "# 2. Finish SQL unit\n",
    "\n",
    "# Final Project:\n",
    "#  - Looks like about 5 people have yet to join a group!\n",
    "#  - Preliminary report due Nov. 27th\n",
    "#  - Feel free to e-mail me draft of report if you complete it early!\n",
    "#  - Make sure to include project members names/student id's in the report\n",
    "#  - Also include group name/#\n",
    "#  - coming soon - sign-up sheet for the final presentations\n",
    "\n",
    "\n"
   ]
  }
 ],
 "metadata": {
  "kernelspec": {
   "display_name": "Python 3",
   "language": "python",
   "name": "python3"
  },
  "language_info": {
   "codemirror_mode": {
    "name": "ipython",
    "version": 3
   },
   "file_extension": ".py",
   "mimetype": "text/x-python",
   "name": "python",
   "nbconvert_exporter": "python",
   "pygments_lexer": "ipython3",
   "version": "3.7.6"
  }
 },
 "nbformat": 4,
 "nbformat_minor": 4
}
